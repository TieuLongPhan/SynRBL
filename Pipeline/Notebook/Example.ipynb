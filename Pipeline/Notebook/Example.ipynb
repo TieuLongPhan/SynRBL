{
 "cells": [
  {
   "cell_type": "code",
   "execution_count": null,
   "metadata": {},
   "outputs": [],
   "source": [
    "import sys\n",
    "import json\n",
    "import gzip\n",
    "import pandas as pd\n",
    "import numpy as np\n",
    "from rdkit import Chem\n",
    "from rdkit import RDLogger\n",
    "from joblib import Parallel, delayed\n",
    "\n",
    "# Set up the system path to include parent directory\n",
    "sys.path.append('../../')\n",
    "\n",
    "def configure_logging():\n",
    "    \"\"\"\n",
    "    Configure RDKit logging to suppress warnings and errors.\n",
    "    \"\"\"\n",
    "    lg = RDLogger.logger()\n",
    "    lg.setLevel(RDLogger.ERROR)\n",
    "\n",
    "def load_data(file_path):\n",
    "    \"\"\"\n",
    "    Load the dataset from a CSV file.\n",
    "\n",
    "    Args:\n",
    "        file_path (str): Path to the CSV file.\n",
    "\n",
    "    Returns:\n",
    "        DataFrame: A pandas DataFrame containing the loaded data.\n",
    "    \"\"\"\n",
    "    try:\n",
    "        df = pd.read_csv(file_path)\n",
    "        return df\n",
    "    except FileNotFoundError:\n",
    "        print(f\"Error: File '{file_path}' not found.\")\n",
    "        sys.exit(1)\n",
    "\n",
    "\n",
    "\n",
    "if __name__ == \"__main__\":\n",
    "    configure_logging()\n",
    "    df = load_data('../../Data/Validation_set/USPTO_50K.csv')"
   ]
  },
  {
   "cell_type": "markdown",
   "metadata": {},
   "source": [
    "# **1. SynExtract**\n",
    "\n",
    "Here's a brief description of how we can approach the task:\n",
    "\n",
    "1. **Input and Parsing of Chemical Reactions**: The script will accept chemical reactions as input. Each reaction will be a string where reactants and products are separated by an arrow (e.g., A + B -> C + D). The script will parse these strings to identify reactants and products.\n",
    "\n",
    "2. **Standardization of Chemical Formulas**: The script will standardize the chemical formulas to ensure consistency. This involves formatting element symbols and quantities properly.\n",
    "\n",
    "3. **Decomposition into Molecular Formulas**: Each reactant and product will be broken down into its molecular formula. For example, decomposing H2O into {'H': 2, 'O': 1}.\n",
    "\n",
    "4. **Labeling Types of Reactions**:\n",
    "\n",
    "    - **Balance Check**: The script will check if the reaction is balanced by comparing the count of each element on both sides of the reaction.\n",
    "    - **Labeling**: Based on the balance check, reactions will be labeled as:\n",
    "        - **Balanced**: If the number of each type of atom is the same on both sides.\n",
    "        - **Unbalanced in Reactants**: If any reactant element is not balanced.\n",
    "        - **Unbalanced in Products**: If any product element is not balanced.\n",
    "        - **Unbalanced in Both**: If elements in both reactants and products are unbalanced."
   ]
  },
  {
   "cell_type": "markdown",
   "metadata": {},
   "source": [
    "## **1.1. Extract SMILES**"
   ]
  },
  {
   "cell_type": "code",
   "execution_count": null,
   "metadata": {},
   "outputs": [],
   "source": [
    "from SynRBL.SynProcessor import RSMIProcessing\n",
    "process = RSMIProcessing(data=df, data_name='USPTO_50K', rsmi_col='reactions', parallel=True, n_jobs=10, \n",
    "                            save_json =False, save_path_name= None)\n",
    "reactions = process.data_splitter().to_dict('records')\n",
    "reactions[0]\n"
   ]
  },
  {
   "cell_type": "markdown",
   "metadata": {},
   "source": [
    "# **1.2. Check Carbon Balance**"
   ]
  },
  {
   "cell_type": "code",
   "execution_count": null,
   "metadata": {},
   "outputs": [],
   "source": [
    "from SynRBL.SynProcessor import CheckCarbonBalance\n",
    "check = CheckCarbonBalance(reactions, rsmi_col='reactions', symbol='>>', atom_type='C', n_jobs=4)\n",
    "reactions = check.check_carbon_balance()\n",
    "reactions[0]"
   ]
  },
  {
   "cell_type": "code",
   "execution_count": null,
   "metadata": {},
   "outputs": [],
   "source": [
    "rules_based = [reactions[key] for key, value in enumerate(reactions) if value['carbon_balance_check'] == 'balanced']\n",
    "mcs_based = [reactions[key] for key, value in enumerate(reactions) if value['carbon_balance_check'] != 'balanced']\n",
    "print(len(rules_based), len(mcs_based))"
   ]
  },
  {
   "cell_type": "markdown",
   "metadata": {},
   "source": [
    "## **1.3. Molecular Decomposer**"
   ]
  },
  {
   "cell_type": "code",
   "execution_count": null,
   "metadata": {},
   "outputs": [],
   "source": [
    "from SynRBL.SynProcessor import RSMIDecomposer  \n",
    "decompose = RSMIDecomposer(smiles=None, data=rules_based, reactant_col='reactants', product_col='products', parallel=True, n_jobs=-1, verbose=1)\n",
    "react_dict, product_dict = decompose.data_decomposer()\n",
    "react_dict[0]"
   ]
  },
  {
   "cell_type": "code",
   "execution_count": null,
   "metadata": {},
   "outputs": [],
   "source": [
    "react_dict[0]"
   ]
  },
  {
   "cell_type": "code",
   "execution_count": null,
   "metadata": {},
   "outputs": [],
   "source": [
    "product_dict[0]"
   ]
  },
  {
   "cell_type": "markdown",
   "metadata": {},
   "source": [
    "## **1.4. Molecular Comparator**"
   ]
  },
  {
   "cell_type": "code",
   "execution_count": null,
   "metadata": {},
   "outputs": [],
   "source": [
    "from SynRBL.SynProcessor import RSMIComparator\n",
    "from SynRBL.SynUtils.data_utils import save_database, load_database\n",
    "import pandas as pd"
   ]
  },
  {
   "cell_type": "code",
   "execution_count": null,
   "metadata": {},
   "outputs": [],
   "source": [
    "comp = RSMIComparator(reactants= react_dict, products=product_dict, n_jobs=-1)\n",
    "unbalance , diff_formula= comp.run_parallel(reactants= react_dict, products=product_dict)"
   ]
  },
  {
   "cell_type": "markdown",
   "metadata": {},
   "source": [
    "## **1.5. Both side reactions rules**"
   ]
  },
  {
   "cell_type": "code",
   "execution_count": null,
   "metadata": {},
   "outputs": [],
   "source": [
    "from SynRBL.SynProcessor import BothSideReact\n",
    "both_side = BothSideReact(react_dict, product_dict, unbalance, diff_formula)\n",
    "diff_formula, unbalance= both_side.fit()"
   ]
  },
  {
   "cell_type": "code",
   "execution_count": null,
   "metadata": {},
   "outputs": [],
   "source": [
    "reactions_clean = pd.concat([pd.DataFrame(rules_based), pd.DataFrame([unbalance]).T.rename(columns={0:'Unbalance'}),\n",
    "           pd.DataFrame([diff_formula]).T.rename(columns={0:'Diff_formula'})], axis=1).to_dict(orient='records')\n",
    "reactions_clean[0]"
   ]
  },
  {
   "cell_type": "markdown",
   "metadata": {},
   "source": [
    "# **2. SynRuleEngine - Rule Generation**"
   ]
  },
  {
   "cell_type": "markdown",
   "metadata": {},
   "source": [
    "## **2.1. Manual Rules Extraction**"
   ]
  },
  {
   "cell_type": "code",
   "execution_count": null,
   "metadata": {},
   "outputs": [],
   "source": [
    "from SynRBL.rsmi_utils import save_database, load_database, filter_data, sort_by_key_length\n",
    "from SynRBL.SynRuleImputer.rule_data_manager import RuleImputeManager\n",
    "   \n",
    "\n",
    "rules = []\n",
    "former_len = len(rules)\n",
    "db = RuleImputeManager(rules)\n",
    "\n",
    "entries = [{'formula': 'CO2', 'smiles': 'C=O'}, {'formula': 'Invalid', 'smiles': 'Invalid'}]\n",
    "invalid_entries = db.add_entries(entries)\n",
    "print(f\"Invalid entries: {invalid_entries}\")\n",
    "\n",
    "rules = filter_data(db.database, formula_key='Composition', element_key='C', min_count=0, max_count=1)\n",
    "rules = sort_by_key_length(db.database, lambda x: x['Composition'])\n",
    "\n",
    "rules"
   ]
  },
  {
   "cell_type": "markdown",
   "metadata": {},
   "source": [
    "## **2.2. Automatic rule extraction**"
   ]
  },
  {
   "cell_type": "code",
   "execution_count": null,
   "metadata": {},
   "outputs": [],
   "source": [
    "from SynRBL.SynRuleImputer.auto_extract_smiles import AutomaticSmilesExtraction\n",
    "from SynRBL.SynRuleImputer.auto_extract_rules import AutomaticRulesExtraction\n",
    "\n",
    "# Create an instance of the AutomaticSmilesExtraction class with parallel processing\n",
    "smi_extractor = AutomaticSmilesExtraction(reactions_clean, n_jobs=4, verbose=1)\n",
    "\n",
    "# Example usage of get_fragments\n",
    "input_dict = {\n",
    "    'smiles': smi_extractor.smiles_list,\n",
    "    'mw': smi_extractor.mw,\n",
    "    'n_C': smi_extractor.n_C\n",
    "}\n",
    "filtered_fragments = AutomaticSmilesExtraction.get_fragments(input_dict, mw=500, n_C=0, combination='intersection')\n",
    "print(\"Filtered Fragments:\", len(filtered_fragments))\n",
    "\n",
    "\n",
    "extractor = AutomaticRulesExtraction(existing_database=[], n_jobs=-1, verbose=1)\n",
    "extractor.add_new_entries(filtered_fragments)\n",
    "automated_rules = extractor.extract_rules()\n",
    "print(\"Extracted Rules:\", len(automated_rules))"
   ]
  },
  {
   "cell_type": "markdown",
   "metadata": {},
   "source": [
    "# **3. SynRuleImpute**\n"
   ]
  },
  {
   "cell_type": "markdown",
   "metadata": {},
   "source": [
    "## **3.1. Rule-based Imputation**"
   ]
  },
  {
   "cell_type": "code",
   "execution_count": null,
   "metadata": {},
   "outputs": [],
   "source": [
    "from SynRBL.SynUtils.data_utils import save_database, load_database, filter_data, extract_results_by_key\n",
    "from SynRBL.SynRuleImputer import SyntheticRuleImputer\n",
    "\n",
    "rules = load_database('../../Data/Rules/rules_manager.json.gz')\n",
    "#reactions_clean = load_database('../../Data/reaction_clean.json.gz')\n",
    "\n",
    "# Filter data based on specified criteria\n",
    "\n",
    "balance_reactions = filter_data(reactions_clean, unbalance_values=['Balance'], \n",
    "                                formula_key='Diff_formula', element_key=None, min_count=0, max_count=0)\n",
    "print('Number of Balanced Reactions:', len(balance_reactions))\n",
    "\n",
    "unbalance_reactions = filter_data(reactions_clean, unbalance_values=['Reactants', 'Products'], \n",
    "                                formula_key='Diff_formula', element_key=None, min_count=0, max_count=0)\n",
    "print('Number of Unbalanced Reactions in one side:', len(unbalance_reactions))\n",
    "\n",
    "both_side_reactions = filter_data(reactions_clean, unbalance_values=['Both'], \n",
    "                                    formula_key='Diff_formula', element_key=None, min_count=0, max_count=0)\n",
    "print('Number of Both sides Unbalanced Reactions:', len(both_side_reactions))"
   ]
  },
  {
   "cell_type": "code",
   "execution_count": null,
   "metadata": {},
   "outputs": [],
   "source": [
    "balance_reactions"
   ]
  },
  {
   "cell_type": "code",
   "execution_count": null,
   "metadata": {},
   "outputs": [],
   "source": [
    "# Configure RDKit logging\n",
    "from rdkit import Chem\n",
    "import rdkit\n",
    "lg = RDLogger.logger()\n",
    "lg.setLevel(RDLogger.ERROR)\n",
    "RDLogger.DisableLog('rdApp.info') \n",
    "rdkit.RDLogger.DisableLog('rdApp.*')\n",
    "\n",
    "# Initialize SyntheticRuleImputer and perform parallel imputation\n",
    "imp = SyntheticRuleImputer(rule_dict=rules, select='all', ranking='ion_priority')\n",
    "expected_result = imp.parallel_impute(unbalance_reactions)\n",
    "\n",
    "# Extract solved and unsolved results\n",
    "solve, unsolve = extract_results_by_key(expected_result)\n",
    "print('Solved:', len(solve))\n",
    "print('Unsolved in rules based method:', len(unsolve))\n",
    "\n",
    "\n",
    "\n",
    "# Combine all unsolved cases\n",
    "unsolve = both_side_reactions + unsolve\n",
    "print('Total unsolved:', len(unsolve))"
   ]
  },
  {
   "cell_type": "markdown",
   "metadata": {},
   "source": [
    "## **3.2. Uncertainty Reaction**"
   ]
  },
  {
   "cell_type": "code",
   "execution_count": null,
   "metadata": {},
   "outputs": [],
   "source": [
    "from SynRBL.rsmi_utils import  save_database, load_database\n",
    "from SynRBL.SynRuleImputer.synthetic_rule_constraint import RuleConstraint\n",
    "constrain = RuleConstraint(solve, ban_atoms=['[H]','[O].[O]', 'F-F', 'Cl-Cl', 'Br-Br', 'I-I', 'Cl-Br', 'Cl-I', 'Br-I'])\n",
    "certain_reactions, uncertain_reactions = constrain.fit()\n",
    "\n",
    "id_uncertain = [entry['R-id'] for entry in uncertain_reactions]\n",
    "new_uncertain_reactions = [entry for entry in reactions_clean if entry['R-id'] in id_uncertain]\n",
    "\n",
    "unsolve = unsolve + new_uncertain_reactions\n",
    "\n",
    "\n",
    "for d in unsolve:\n",
    "    d.pop('Unbalance', None)  # Remove 'Unbalance' key if it exists\n",
    "    d.pop('Diff_formula', None)  # Remove 'Diff_formula' key if it exists\n",
    "\n",
    "mcs_based = mcs_based+unsolve"
   ]
  },
  {
   "cell_type": "code",
   "execution_count": null,
   "metadata": {},
   "outputs": [],
   "source": [
    "# Save solved and unsolved reactions\n",
    "#save_database(certain_reactions,  '../../Data/rule_based_reactions.json.gz')\n",
    "#save_database(mcs_based,  '../../Data/mcs_based_reactions.json.gz')"
   ]
  },
  {
   "cell_type": "markdown",
   "metadata": {},
   "source": [
    "## **3.2. Visualization**"
   ]
  },
  {
   "cell_type": "code",
   "execution_count": null,
   "metadata": {},
   "outputs": [],
   "source": [
    "from SynRBL.SynUtils.data_utils import load_database, get_random_samples_by_key\n",
    "certain_reactions = load_database('../../Data/Validation_set/USPTO_50K/Solved_reactions.json.gz')\n",
    "uncertain_reactions = load_database('../../Data/Validation_set/USPTO_50K/Unsolved_reactions.json.gz')\n",
    "validate_samples = get_random_samples_by_key(certain_reactions, num_samples_per_group=10, random_seed=42, stratify_key = 'Diff_formula')\n",
    "#save_database(validate_samples, '../../Data/validate_samples.json.gz')\n",
    "len(validate_samples)\n"
   ]
  },
  {
   "cell_type": "code",
   "execution_count": null,
   "metadata": {},
   "outputs": [],
   "source": [
    "from SynRBL.SynVis.reaction_visualizer import ReactionVisualizer\n",
    "vis = ReactionVisualizer()\n",
    "for i in range(0, 5,1):\n",
    "    try:\n",
    "        vis = ReactionVisualizer()\n",
    "        vis.plot_reactions(uncertain_reactions[i], 'reactions', 'new_reaction', show_atom_numbers=False, compare= True, savefig=False, pathname = None, dpi=300)\n",
    "    except:\n",
    "        vis = ReactionVisualizer()\n",
    "        vis.plot_reactions(uncertain_reactions[i], 'reactions', 'reactions', show_atom_numbers=False, compare= True, savefig=False, pathname = None, dpi=300)\n"
   ]
  },
  {
   "cell_type": "markdown",
   "metadata": {},
   "source": [
    "# **4. MCS Rebalancing**"
   ]
  },
  {
   "cell_type": "markdown",
   "metadata": {},
   "source": [
    "## **4.1. Maximum common substructure**"
   ]
  },
  {
   "cell_type": "code",
   "execution_count": null,
   "metadata": {},
   "outputs": [],
   "source": [
    "import pandas as pd\n",
    "import numpy as np\n",
    "from joblib import Parallel, delayed\n",
    "import sys\n",
    "from pathlib import Path\n",
    "from SynRBL.SynMCSImputer.SubStructure.mcs_graph_detector import MCSMissingGraphAnalyzer\n",
    "from SynRBL.SynMCSImputer.SubStructure.mcs_process import single_mcs\n",
    "from SynRBL.SynUtils.data_utils import load_database, save_database\n",
    "from rdkit import Chem\n",
    "import logging\n",
    "\n",
    "\n",
    "\n",
    "\n",
    "#unsolve = load_database('../../Data/Validation_set/USPTO_50K/Unsolved_reactions.json.gz')\n",
    "mcs_results_dict = single_mcs(mcs_based[0])\n",
    "mcs_results_dict"
   ]
  },
  {
   "cell_type": "code",
   "execution_count": null,
   "metadata": {},
   "outputs": [],
   "source": [
    "from SynRBL.SynVis.mcs_visualizer import  MCSVisualizer\n",
    "mcs_vis = MCSVisualizer()\n",
    "img= mcs_vis.highlight_molecule(mcs_results_dict['sorted_reactants'][0], mcs_results_dict['mcs_results'][0], show_atom_numbers=True, compare=False, missing_graph_smiles=None)\n",
    "img"
   ]
  },
  {
   "cell_type": "markdown",
   "metadata": {},
   "source": [
    "## **4.2. Find Graph**"
   ]
  },
  {
   "cell_type": "code",
   "execution_count": null,
   "metadata": {},
   "outputs": [],
   "source": [
    "from SynRBL.SynMCSImputer.MissingGraph.find_graph_dict import FindMissingGraphs\n",
    "from SynRBL.SynVis.mcs_visualizer import  MCSVisualizer\n",
    "mol_list = [Chem.MolFromSmiles(i) for i in mcs_results_dict['sorted_reactants']]\n",
    "mcs_list = [Chem.MolFromSmiles(i) for i in mcs_results_dict['mcs_results']]\n",
    "\n",
    "find_graph = FindMissingGraphs()\n",
    "missing_graph, boundary, neighbor = find_graph.find_missing_parts_pairs(mol_list=mol_list, mcs_list=mcs_list,use_findMCS=True)\n",
    "\n",
    "\n",
    "\n",
    "\n",
    "print('Reactants')\n",
    "print('Neighbor Atom:', neighbor)\n",
    "print('Missing compounds in Products')\n",
    "print('Boundary Atom:', boundary)\n",
    "\n",
    "mcs_vis = MCSVisualizer()\n",
    "img= mcs_vis.highlight_molecule(mcs_results_dict['sorted_reactants'][0], mcs_results_dict['mcs_results'][0], show_atom_numbers=True, compare=True, missing_graph_smiles=Chem.MolToSmiles(missing_graph[0]))\n",
    "img\n"
   ]
  },
  {
   "cell_type": "markdown",
   "metadata": {},
   "source": [
    "## **4.3. Mol Merge**"
   ]
  },
  {
   "cell_type": "code",
   "execution_count": null,
   "metadata": {},
   "outputs": [],
   "source": []
  },
  {
   "cell_type": "markdown",
   "metadata": {},
   "source": [
    "## **4.4. Check and Re-Impute by Rule based method**"
   ]
  },
  {
   "cell_type": "code",
   "execution_count": null,
   "metadata": {},
   "outputs": [],
   "source": []
  }
 ],
 "metadata": {
  "kernelspec": {
   "display_name": "cheminfo",
   "language": "python",
   "name": "python3"
  },
  "language_info": {
   "codemirror_mode": {
    "name": "ipython",
    "version": 3
   },
   "file_extension": ".py",
   "mimetype": "text/x-python",
   "name": "python",
   "nbconvert_exporter": "python",
   "pygments_lexer": "ipython3",
   "version": "3.9.18"
  }
 },
 "nbformat": 4,
 "nbformat_minor": 2
}
