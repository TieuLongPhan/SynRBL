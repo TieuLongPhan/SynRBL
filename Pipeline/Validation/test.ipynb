{
 "cells": [
  {
   "cell_type": "code",
   "execution_count": null,
   "metadata": {},
   "outputs": [],
   "source": [
    "import sys\n",
    "sys.path.append('../../')"
   ]
  },
  {
   "cell_type": "code",
   "execution_count": null,
   "metadata": {},
   "outputs": [],
   "source": [
    "from SynRBL.rsmi_utils import load_database, save_database\n",
    "\n",
    "art1 = load_database('../../Data/Validation_set/artificial_data_1/mcs_based_reactions.json.gz')\n",
    "art2 = load_database('../../Data/Validation_set/artificial_data_2/mcs_based_reactions.json.gz')"
   ]
  },
  {
   "cell_type": "code",
   "execution_count": null,
   "metadata": {},
   "outputs": [],
   "source": [
    "import pandas as pd\n",
    "\n",
    "test = pd.DataFrame(art1)"
   ]
  },
  {
   "cell_type": "code",
   "execution_count": null,
   "metadata": {},
   "outputs": [],
   "source": [
    "test.shape"
   ]
  },
  {
   "cell_type": "code",
   "execution_count": null,
   "metadata": {},
   "outputs": [],
   "source": [
    "test['reactants'].isnull().sum()"
   ]
  },
  {
   "cell_type": "code",
   "execution_count": 92,
   "metadata": {},
   "outputs": [],
   "source": [
    "jaworski = load_database('../../Data/Validation_set/Jaworski/mcs_based_reactions.json.gz')"
   ]
  },
  {
   "cell_type": "code",
   "execution_count": 106,
   "metadata": {},
   "outputs": [
    {
     "data": {
      "text/plain": [
       "155"
      ]
     },
     "execution_count": 106,
     "metadata": {},
     "output_type": "execute_result"
    }
   ],
   "source": [
    "jaworski = load_database('../../Data/Validation_set/Jaworski/MCS/Condition_5.json.gz')\n",
    "len(jaworski)"
   ]
  },
  {
   "cell_type": "code",
   "execution_count": 114,
   "metadata": {},
   "outputs": [],
   "source": [
    "jaworski = load_database('../../Data/Validation_set/Jaworski/MCS/Final_Graph.json.gz')"
   ]
  },
  {
   "cell_type": "code",
   "execution_count": 115,
   "metadata": {},
   "outputs": [
    {
     "data": {
      "text/plain": [
       "154"
      ]
     },
     "execution_count": 115,
     "metadata": {},
     "output_type": "execute_result"
    }
   ],
   "source": [
    "len(jaworski)"
   ]
  },
  {
   "cell_type": "code",
   "execution_count": 99,
   "metadata": {},
   "outputs": [
    {
     "data": {
      "text/html": [
       "<div>\n",
       "<style scoped>\n",
       "    .dataframe tbody tr th:only-of-type {\n",
       "        vertical-align: middle;\n",
       "    }\n",
       "\n",
       "    .dataframe tbody tr th {\n",
       "        vertical-align: top;\n",
       "    }\n",
       "\n",
       "    .dataframe thead th {\n",
       "        text-align: right;\n",
       "    }\n",
       "</style>\n",
       "<table border=\"1\" class=\"dataframe\">\n",
       "  <thead>\n",
       "    <tr style=\"text-align: right;\">\n",
       "      <th></th>\n",
       "      <th>smiles</th>\n",
       "      <th>boundary_atoms_products</th>\n",
       "      <th>nearest_neighbor_products</th>\n",
       "      <th>issue</th>\n",
       "      <th>Certainty</th>\n",
       "      <th>R-id</th>\n",
       "      <th>sorted_reactants</th>\n",
       "      <th>carbon_balance_check</th>\n",
       "      <th>mcs_results</th>\n",
       "      <th>old_reaction</th>\n",
       "    </tr>\n",
       "  </thead>\n",
       "  <tbody>\n",
       "    <tr>\n",
       "      <th>0</th>\n",
       "      <td>[O, C=O]</td>\n",
       "      <td>[[{'O': 0}], [{'C': 0}, {'C': 0}]]</td>\n",
       "      <td>[[{'C': 4}], [{'O': 5}, {'C': 2}]]</td>\n",
       "      <td></td>\n",
       "      <td>True</td>\n",
       "      <td>USPTO_50K_8</td>\n",
       "      <td>[O=C1C=CC(O)(C#Cc2ccccc2)C=C1, C=C1CC(=O)O1]</td>\n",
       "      <td>products</td>\n",
       "      <td>[[#6]1(-,:[#6]=,:[#6]-,:[#6](-,:[#6]=,:[#6]-,:...</td>\n",
       "      <td>OC1(C=CC(=O)C=C1)C#Cc1ccccc1.C=C1CC(=O)O1&gt;&gt;CC(...</td>\n",
       "    </tr>\n",
       "    <tr>\n",
       "      <th>1</th>\n",
       "      <td>[None, C[SiH](C)C]</td>\n",
       "      <td>[None, [{'Si': 1}]]</td>\n",
       "      <td>[None, [{'C': 2}]]</td>\n",
       "      <td></td>\n",
       "      <td>True</td>\n",
       "      <td>USPTO_50K_14</td>\n",
       "      <td>[O=Cc1ccccc1, C=CC[Si](C)(C)C]</td>\n",
       "      <td>products</td>\n",
       "      <td>[[#8]=,-;!@[#6]-&amp;!@[#6]1:&amp;@[#6]:&amp;@[#6]:&amp;@[#6]:...</td>\n",
       "      <td>O=Cc1ccccc1.C[Si](C)(C)CC=C&gt;&gt;OC(CC=C)c1ccccc1</td>\n",
       "    </tr>\n",
       "    <tr>\n",
       "      <th>2</th>\n",
       "      <td>[NC=O]</td>\n",
       "      <td>[[{'C': 1}]]</td>\n",
       "      <td>[[{'C': 23}]]</td>\n",
       "      <td></td>\n",
       "      <td>True</td>\n",
       "      <td>USPTO_50K_31</td>\n",
       "      <td>[CCOC(=O)N1CC[C@H]2[C@H]1[C@H](CCO[Si](C)(C)C(...</td>\n",
       "      <td>reactants</td>\n",
       "      <td>[[#6]12-&amp;@[#6]-&amp;@[#6]-&amp;@[#7](-&amp;@[#6]-&amp;@1-&amp;@[#6...</td>\n",
       "      <td>[H][C@]12CCN(C(=O)OCC)[C@]1([H])[C@H](CCO[Si](...</td>\n",
       "    </tr>\n",
       "    <tr>\n",
       "      <th>3</th>\n",
       "      <td>[C, None]</td>\n",
       "      <td>[[{'C': 0}], None]</td>\n",
       "      <td>[[{'O': 4}], None]</td>\n",
       "      <td></td>\n",
       "      <td>True</td>\n",
       "      <td>USPTO_50K_32</td>\n",
       "      <td>[C=C1O[C@H](OC)C[C@@H]2OC(=O)CC12, O]</td>\n",
       "      <td>products</td>\n",
       "      <td>[[#8]-[#6]-[#6]-[#6]1-[#8]-[#6](-[#6]-[#6]-1-[...</td>\n",
       "      <td>CO[C@@H]1C[C@@H]2OC(=O)CC2C(=C)O1.O&gt;&gt;OC1C[C@@H...</td>\n",
       "    </tr>\n",
       "    <tr>\n",
       "      <th>4</th>\n",
       "      <td>[CC[SiH](CC)CC.CO]</td>\n",
       "      <td>[[{'O': 8}, {'Si': 2}]]</td>\n",
       "      <td>[[{'C': 22}, {'O': 7}]]</td>\n",
       "      <td></td>\n",
       "      <td>False</td>\n",
       "      <td>USPTO_50K_35</td>\n",
       "      <td>[CC[Si](CC)(CC)O[C@@]1(C2=C[C@H]3CC=C[C@H]3C2)...</td>\n",
       "      <td>products</td>\n",
       "      <td>[[#6](-[#6]-[#6]-[#8]-[#6])-[#6]-[#6]-[#6]-[#6...</td>\n",
       "      <td>[H][C@]12CC=C[C@@]1([H])CC(=C2)[C@@]1(CCC[C@H]...</td>\n",
       "    </tr>\n",
       "    <tr>\n",
       "      <th>...</th>\n",
       "      <td>...</td>\n",
       "      <td>...</td>\n",
       "      <td>...</td>\n",
       "      <td>...</td>\n",
       "      <td>...</td>\n",
       "      <td>...</td>\n",
       "      <td>...</td>\n",
       "      <td>...</td>\n",
       "      <td>...</td>\n",
       "      <td>...</td>\n",
       "    </tr>\n",
       "    <tr>\n",
       "      <th>150</th>\n",
       "      <td>[None, O.O, None]</td>\n",
       "      <td>[None, [{'O': 0}, {'O': 1}], None]</td>\n",
       "      <td>[None, [{'C': 1}, {'C': 5}], None]</td>\n",
       "      <td></td>\n",
       "      <td>False</td>\n",
       "      <td>USPTO_50K_64</td>\n",
       "      <td>[N[C@@H](CO)c1ccccc1, O=CCCCC=O, C#N]</td>\n",
       "      <td>balanced</td>\n",
       "      <td>[[#7]-[#6](-[#6]-[#8])-[#6]1:[#6]:[#6]:[#6]:[#...</td>\n",
       "      <td>N[C@@H](CO)C1=CC=CC=C1.O=CCCCC=O.[H]C#N&gt;&gt;N#C[C...</td>\n",
       "    </tr>\n",
       "    <tr>\n",
       "      <th>151</th>\n",
       "      <td>[CC, None]</td>\n",
       "      <td>[[{'C': 1}], None]</td>\n",
       "      <td>[[{'O': 2}], None]</td>\n",
       "      <td></td>\n",
       "      <td>True</td>\n",
       "      <td>USPTO_50K_229</td>\n",
       "      <td>[CCOC(=O)Cc1csc(-c2ccc(C(CC)(CC)c3ccc(C=CC(O)(...</td>\n",
       "      <td>products</td>\n",
       "      <td>[[#6]-&amp;!@[#6]-&amp;!@[#6](-&amp;!@[#6]-&amp;!@[#6])(-&amp;!@[#...</td>\n",
       "      <td>CCOC(=O)Cc1csc(n1)-c1ccc(cc1C)C(CC)(CC)c1ccc(C...</td>\n",
       "    </tr>\n",
       "    <tr>\n",
       "      <th>152</th>\n",
       "      <td>[OBO, O]</td>\n",
       "      <td>[[{'B': 1}], [{'O': 0}]]</td>\n",
       "      <td>[[{'C': 3}], [{'O': 0}]]</td>\n",
       "      <td></td>\n",
       "      <td>True</td>\n",
       "      <td>USPTO_50K_245</td>\n",
       "      <td>[OB(O)c1ccc2c(c1F)Cc1c(F)cccc1-2, OO]</td>\n",
       "      <td>balanced</td>\n",
       "      <td>[[#6]1:&amp;@[#6]:&amp;@[#6]:&amp;@[#6]2:&amp;@[#6](:&amp;@[#6]:&amp;@...</td>\n",
       "      <td>OB(O)c1ccc-2c(Cc3c-2cccc3F)c1F.OO&gt;&gt;Oc1ccc-2c(C...</td>\n",
       "    </tr>\n",
       "    <tr>\n",
       "      <th>153</th>\n",
       "      <td>[None, Cl.Cl]</td>\n",
       "      <td>[None, [{'Cl': 1}, {'Cl': 0}]]</td>\n",
       "      <td>[None, [{'C': 6}, {'S': 1}]]</td>\n",
       "      <td></td>\n",
       "      <td>False</td>\n",
       "      <td>USPTO_50K_270</td>\n",
       "      <td>[CC1(C)OB(c2ccc(N)cc2)OC1(C)C, O=S(=O)(Cl)CCCCl]</td>\n",
       "      <td>balanced</td>\n",
       "      <td>[[#6]-&amp;!@[#6]1(-&amp;!@[#6])-&amp;@[#8]-&amp;@[#5](-&amp;@[#8]...</td>\n",
       "      <td>CC1(C)OB(OC1(C)C)c1ccc(N)cc1.ClCCCS(Cl)(=O)=O&gt;...</td>\n",
       "    </tr>\n",
       "    <tr>\n",
       "      <th>154</th>\n",
       "      <td>[O=[N+]([O-])c1ccc(O)cc1, None]</td>\n",
       "      <td>[[{'O': 7}], None]</td>\n",
       "      <td>[[{'C': 6}], None]</td>\n",
       "      <td></td>\n",
       "      <td>True</td>\n",
       "      <td>USPTO_50K_278</td>\n",
       "      <td>[COc1ncc(C(=O)Oc2ccc([N+](=O)[O-])cc2)c2cc(C(C...</td>\n",
       "      <td>products</td>\n",
       "      <td>[[#6]-&amp;!@[#8]-&amp;!@[#6]1:&amp;@[#7]:&amp;@[#6]:&amp;@[#6](:&amp;...</td>\n",
       "      <td>COc1ncc(C(=O)Oc2ccc(cc2)[N+]([O-])=O)c2cc(oc12...</td>\n",
       "    </tr>\n",
       "  </tbody>\n",
       "</table>\n",
       "<p>155 rows × 10 columns</p>\n",
       "</div>"
      ],
      "text/plain": [
       "                              smiles             boundary_atoms_products  \\\n",
       "0                           [O, C=O]  [[{'O': 0}], [{'C': 0}, {'C': 0}]]   \n",
       "1                 [None, C[SiH](C)C]                 [None, [{'Si': 1}]]   \n",
       "2                             [NC=O]                        [[{'C': 1}]]   \n",
       "3                          [C, None]                  [[{'C': 0}], None]   \n",
       "4                 [CC[SiH](CC)CC.CO]             [[{'O': 8}, {'Si': 2}]]   \n",
       "..                               ...                                 ...   \n",
       "150                [None, O.O, None]  [None, [{'O': 0}, {'O': 1}], None]   \n",
       "151                       [CC, None]                  [[{'C': 1}], None]   \n",
       "152                         [OBO, O]            [[{'B': 1}], [{'O': 0}]]   \n",
       "153                    [None, Cl.Cl]      [None, [{'Cl': 1}, {'Cl': 0}]]   \n",
       "154  [O=[N+]([O-])c1ccc(O)cc1, None]                  [[{'O': 7}], None]   \n",
       "\n",
       "              nearest_neighbor_products issue  Certainty           R-id  \\\n",
       "0    [[{'C': 4}], [{'O': 5}, {'C': 2}]]             True    USPTO_50K_8   \n",
       "1                    [None, [{'C': 2}]]             True   USPTO_50K_14   \n",
       "2                         [[{'C': 23}]]             True   USPTO_50K_31   \n",
       "3                    [[{'O': 4}], None]             True   USPTO_50K_32   \n",
       "4               [[{'C': 22}, {'O': 7}]]            False   USPTO_50K_35   \n",
       "..                                  ...   ...        ...            ...   \n",
       "150  [None, [{'C': 1}, {'C': 5}], None]            False   USPTO_50K_64   \n",
       "151                  [[{'O': 2}], None]             True  USPTO_50K_229   \n",
       "152            [[{'C': 3}], [{'O': 0}]]             True  USPTO_50K_245   \n",
       "153        [None, [{'C': 6}, {'S': 1}]]            False  USPTO_50K_270   \n",
       "154                  [[{'C': 6}], None]             True  USPTO_50K_278   \n",
       "\n",
       "                                      sorted_reactants carbon_balance_check  \\\n",
       "0         [O=C1C=CC(O)(C#Cc2ccccc2)C=C1, C=C1CC(=O)O1]             products   \n",
       "1                       [O=Cc1ccccc1, C=CC[Si](C)(C)C]             products   \n",
       "2    [CCOC(=O)N1CC[C@H]2[C@H]1[C@H](CCO[Si](C)(C)C(...            reactants   \n",
       "3                [C=C1O[C@H](OC)C[C@@H]2OC(=O)CC12, O]             products   \n",
       "4    [CC[Si](CC)(CC)O[C@@]1(C2=C[C@H]3CC=C[C@H]3C2)...             products   \n",
       "..                                                 ...                  ...   \n",
       "150              [N[C@@H](CO)c1ccccc1, O=CCCCC=O, C#N]             balanced   \n",
       "151  [CCOC(=O)Cc1csc(-c2ccc(C(CC)(CC)c3ccc(C=CC(O)(...             products   \n",
       "152              [OB(O)c1ccc2c(c1F)Cc1c(F)cccc1-2, OO]             balanced   \n",
       "153   [CC1(C)OB(c2ccc(N)cc2)OC1(C)C, O=S(=O)(Cl)CCCCl]             balanced   \n",
       "154  [COc1ncc(C(=O)Oc2ccc([N+](=O)[O-])cc2)c2cc(C(C...             products   \n",
       "\n",
       "                                           mcs_results  \\\n",
       "0    [[#6]1(-,:[#6]=,:[#6]-,:[#6](-,:[#6]=,:[#6]-,:...   \n",
       "1    [[#8]=,-;!@[#6]-&!@[#6]1:&@[#6]:&@[#6]:&@[#6]:...   \n",
       "2    [[#6]12-&@[#6]-&@[#6]-&@[#7](-&@[#6]-&@1-&@[#6...   \n",
       "3    [[#8]-[#6]-[#6]-[#6]1-[#8]-[#6](-[#6]-[#6]-1-[...   \n",
       "4    [[#6](-[#6]-[#6]-[#8]-[#6])-[#6]-[#6]-[#6]-[#6...   \n",
       "..                                                 ...   \n",
       "150  [[#7]-[#6](-[#6]-[#8])-[#6]1:[#6]:[#6]:[#6]:[#...   \n",
       "151  [[#6]-&!@[#6]-&!@[#6](-&!@[#6]-&!@[#6])(-&!@[#...   \n",
       "152  [[#6]1:&@[#6]:&@[#6]:&@[#6]2:&@[#6](:&@[#6]:&@...   \n",
       "153  [[#6]-&!@[#6]1(-&!@[#6])-&@[#8]-&@[#5](-&@[#8]...   \n",
       "154  [[#6]-&!@[#8]-&!@[#6]1:&@[#7]:&@[#6]:&@[#6](:&...   \n",
       "\n",
       "                                          old_reaction  \n",
       "0    OC1(C=CC(=O)C=C1)C#Cc1ccccc1.C=C1CC(=O)O1>>CC(...  \n",
       "1        O=Cc1ccccc1.C[Si](C)(C)CC=C>>OC(CC=C)c1ccccc1  \n",
       "2    [H][C@]12CCN(C(=O)OCC)[C@]1([H])[C@H](CCO[Si](...  \n",
       "3    CO[C@@H]1C[C@@H]2OC(=O)CC2C(=C)O1.O>>OC1C[C@@H...  \n",
       "4    [H][C@]12CC=C[C@@]1([H])CC(=C2)[C@@]1(CCC[C@H]...  \n",
       "..                                                 ...  \n",
       "150  N[C@@H](CO)C1=CC=CC=C1.O=CCCCC=O.[H]C#N>>N#C[C...  \n",
       "151  CCOC(=O)Cc1csc(n1)-c1ccc(cc1C)C(CC)(CC)c1ccc(C...  \n",
       "152  OB(O)c1ccc-2c(Cc3c-2cccc3F)c1F.OO>>Oc1ccc-2c(C...  \n",
       "153  CC1(C)OB(OC1(C)C)c1ccc(N)cc1.ClCCCS(Cl)(=O)=O>...  \n",
       "154  COc1ncc(C(=O)Oc2ccc(cc2)[N+]([O-])=O)c2cc(oc12...  \n",
       "\n",
       "[155 rows x 10 columns]"
      ]
     },
     "execution_count": 99,
     "metadata": {},
     "output_type": "execute_result"
    }
   ],
   "source": [
    "pd.DataFrame(jaworski).dropna()"
   ]
  },
  {
   "cell_type": "code",
   "execution_count": 96,
   "metadata": {},
   "outputs": [
    {
     "data": {
      "text/plain": [
       "155"
      ]
     },
     "execution_count": 96,
     "metadata": {},
     "output_type": "execute_result"
    }
   ],
   "source": [
    "len(jaworski)"
   ]
  },
  {
   "cell_type": "code",
   "execution_count": 107,
   "metadata": {},
   "outputs": [],
   "source": [
    "golden = load_database('../../Data/Validation_set/golden_dataset/MCS/MCS_Impute.json.gz')"
   ]
  },
  {
   "cell_type": "code",
   "execution_count": 112,
   "metadata": {},
   "outputs": [],
   "source": [
    "golden_true = [golden[key] for key, value in enumerate(golden) if value['mcs_carbon_balanced']==True]\n",
    "golden_false = [golden[key] for key, value in enumerate(golden) if value['mcs_carbon_balanced']==False]"
   ]
  },
  {
   "cell_type": "code",
   "execution_count": 113,
   "metadata": {},
   "outputs": [
    {
     "data": {
      "text/plain": [
       "368"
      ]
     },
     "execution_count": 113,
     "metadata": {},
     "output_type": "execute_result"
    }
   ],
   "source": [
    "len(golden_false)"
   ]
  },
  {
   "cell_type": "code",
   "execution_count": 119,
   "metadata": {},
   "outputs": [
    {
     "name": "stderr",
     "output_type": "stream",
     "text": [
      "[14:36:01] WARNING: not removing hydrogen atom without neighbors\n",
      "[14:36:01] WARNING: not removing hydrogen atom without neighbors\n"
     ]
    }
   ],
   "source": [
    "from SynRBL.SynVis.reaction_visualizer import ReactionVisualizer\n",
    "import matplotlib\n",
    "vis = ReactionVisualizer()\n",
    "for i in range(100,200):\n",
    "    vis.plot_reactions(golden_false[i], 'old_reaction', 'new_reaction', compare=True, show_atom_numbers=False, savefig=True, pathname=f'../../Data/Validation_set/golden_dataset/check_mcs_false/{i}.png')\n",
    "    matplotlib.pyplot.close()"
   ]
  },
  {
   "cell_type": "code",
   "execution_count": 126,
   "metadata": {},
   "outputs": [
    {
     "data": {
      "text/plain": [
       "{'smiles': ['[CH4:12].[OH2:6].[OH:13][CH3:14]'],\n",
       " 'boundary_atoms_products': [[{'O': 3}, {'O': 1}, {'C': 0}, {'O': 3}]],\n",
       " 'nearest_neighbor_products': [[{'C': 6}, {'C': 9}, {'O': 10}, {'C': 4}]],\n",
       " 'issue': \"Invalid boundary atom symbol. Expected 'O' but found 'C' at index 3.\",\n",
       " 'Certainty': False,\n",
       " 'R-id': 'golden_dataset_568',\n",
       " 'sorted_reactants': ['[O:1]=[C:2]([O:3][CH3:4])[CH:5]1[O:6][C:7]1([CH3:8])[CH2:9][CH:10]([O:11][CH3:12])[O:13][CH3:14]'],\n",
       " 'carbon_balance_check': 'products',\n",
       " 'mcs_results': ['[#6](:,-[#6]:,-[#6]:,-[#8])(-[#6]):,-[#6]-[#6](-[#8]-[#6])=[#8]'],\n",
       " 'old_reaction': '[CH3:12][O:11][CH:10]([O:13][CH3:14])[CH2:9][C:7]1([O:6][CH:5]1[C:2]([O:3][CH3:4])=[O:1])[CH3:8]>>[C:7]=1([CH:9]=[CH:10][O:6][C:5]=1[C:2]([O:3][CH3:4])=[O:1])[CH3:8]',\n",
       " 'rules': [],\n",
       " 'mcs_carbon_balanced': False,\n",
       " 'new_reaction': '[CH3:12][O:11][CH:10]([O:13][CH3:14])[CH2:9][C:7]1([O:6][CH:5]1[C:2]([O:3][CH3:4])=[O:1])[CH3:8]>>[C:7]=1([CH:9]=[CH:10][O:6][C:5]=1[C:2]([O:3][CH3:4])=[O:1])[CH3:8]'}"
      ]
     },
     "execution_count": 126,
     "metadata": {},
     "output_type": "execute_result"
    }
   ],
   "source": [
    "golden_false[28]"
   ]
  },
  {
   "cell_type": "code",
   "execution_count": null,
   "metadata": {},
   "outputs": [],
   "source": []
  },
  {
   "cell_type": "code",
   "execution_count": null,
   "metadata": {},
   "outputs": [],
   "source": []
  },
  {
   "cell_type": "code",
   "execution_count": 72,
   "metadata": {},
   "outputs": [
    {
     "data": {
      "text/plain": [
       "[{'formula': 'O', 'smiles': '[O]', 'Composition': {'O': 1, 'Q': 0}},\n",
       " {'formula': 'Cl2', 'smiles': 'ClCl', 'Composition': {'Cl': 2, 'Q': 0}},\n",
       " {'formula': 'N3-',\n",
       "  'smiles': '[N-]=[N+]=[N-]',\n",
       "  'Composition': {'N': 3, 'Q': -1}},\n",
       " {'formula': 'H', 'smiles': '[H]', 'Composition': {'Q': 0, 'H': 1}},\n",
       " {'formula': 'F2', 'smiles': 'FF', 'Composition': {'Q': 0, 'F': 2}},\n",
       " {'formula': 'Cl2', 'smiles': 'ClCl', 'Composition': {'Q': 0, 'Cl': 2}},\n",
       " {'formula': 'Br2', 'smiles': 'BrBr', 'Composition': {'Q': 0, 'Br': 2}},\n",
       " {'formula': 'I2', 'smiles': 'II', 'Composition': {'Q': 0, 'I': 2}},\n",
       " {'formula': 'H+', 'smiles': '[H+]', 'Composition': {'Q': 1, 'H': 1}},\n",
       " {'formula': 'Na+', 'smiles': '[Na+]', 'Composition': {'Q': 1, 'Na': 1}},\n",
       " {'formula': 'Li+', 'smiles': '[Li+]', 'Composition': {'Q': 1, 'Li': 1}},\n",
       " {'formula': 'K+', 'smiles': '[K+]', 'Composition': {'Q': 1, 'K': 1}},\n",
       " {'formula': 'Ca2+', 'smiles': '[Ca+2]', 'Composition': {'Q': 2, 'Ca': 1}},\n",
       " {'formula': 'Mg2+', 'smiles': '[Mg+2]', 'Composition': {'Q': 2, 'Mg': 1}},\n",
       " {'formula': 'Ba2+', 'smiles': '[Ba+2]', 'Composition': {'Q': 2, 'Ba': 1}},\n",
       " {'formula': 'Al3+', 'smiles': '[Al+3]', 'Composition': {'Q': 3, 'Al': 1}},\n",
       " {'formula': 'Zn2+', 'smiles': '[Zn+2]', 'Composition': {'Q': 2, 'Zn': 1}},\n",
       " {'formula': 'Cu2+', 'smiles': '[Cu+2]', 'Composition': {'Q': 2, 'Cu': 1}},\n",
       " {'formula': 'Cu+', 'smiles': '[Cu+]', 'Composition': {'Q': 1, 'Cu': 1}},\n",
       " {'formula': 'F-', 'smiles': '[F-]', 'Composition': {'Q': -1, 'F': 1}},\n",
       " {'formula': 'Cl-', 'smiles': '[Cl-]', 'Composition': {'Q': -1, 'Cl': 1}},\n",
       " {'formula': 'Br-', 'smiles': '[Br-]', 'Composition': {'Q': -1, 'Br': 1}},\n",
       " {'formula': 'I-', 'smiles': '[I-]', 'Composition': {'Q': -1, 'I': 1}},\n",
       " {'formula': 'N2', 'smiles': 'N#N', 'Composition': {'Q': 0, 'N': 2}},\n",
       " {'formula': 'O2', 'smiles': 'O=O', 'Composition': {'Q': 0, 'O': 2}},\n",
       " {'formula': 'S^2-', 'smiles': '[S-2]', 'Composition': {'Q': -2, 'S': 1}},\n",
       " {'formula': 'H3N', 'smiles': 'N', 'Composition': {'N': 1, 'H': 3, 'Q': 0}},\n",
       " {'formula': 'H2O', 'smiles': 'O', 'Composition': {'O': 1, 'H': 2, 'Q': 0}},\n",
       " {'formula': 'H2O2', 'smiles': 'OO', 'Composition': {'O': 2, 'H': 2, 'Q': 0}},\n",
       " {'formula': 'H4N+',\n",
       "  'smiles': '[NH4+]',\n",
       "  'Composition': {'N': 1, 'H': 4, 'Q': 1}},\n",
       " {'formula': 'OH-',\n",
       "  'smiles': '[OH-]',\n",
       "  'Composition': {'Q': -1, 'H': 1, 'O': 1}},\n",
       " {'formula': 'NH3', 'smiles': 'N', 'Composition': {'Q': 0, 'H': 3, 'N': 1}},\n",
       " {'formula': 'NO2-',\n",
       "  'smiles': 'O=N[O-]',\n",
       "  'Composition': {'Q': -1, 'O': 2, 'N': 1}},\n",
       " {'formula': 'NO3-',\n",
       "  'smiles': '[N+](=O)([O-])[O-]',\n",
       "  'Composition': {'Q': -1, 'O': 3, 'N': 1}},\n",
       " {'formula': 'NH2-',\n",
       "  'smiles': '[NH2-]',\n",
       "  'Composition': {'Q': -1, 'H': 2, 'N': 1}},\n",
       " {'formula': 'SO4^2-',\n",
       "  'smiles': '[O-]S(=O)(=O)[O-]',\n",
       "  'Composition': {'Q': -2, 'S': 1, 'O': 4}},\n",
       " {'formula': 'PO4^3-',\n",
       "  'smiles': '[O-]P(=O)([O-])[O-]',\n",
       "  'Composition': {'Q': -3, 'P': 1, 'O': 4}},\n",
       " {'formula': 'SO3 2-',\n",
       "  'smiles': '[O-]S(=O)[O-]',\n",
       "  'Composition': {'Q': -2, 'S': 1, 'O': 3}},\n",
       " {'formula': 'IO3-',\n",
       "  'smiles': '[O-]I(=O)=O',\n",
       "  'Composition': {'O': 3, 'I': 1, 'Q': -1}},\n",
       " {'formula': 'H3NO',\n",
       "  'smiles': 'NO',\n",
       "  'Composition': {'N': 1, 'O': 1, 'H': 3, 'Q': 0}},\n",
       " {'formula': 'H4NO+',\n",
       "  'smiles': '[NH3+]O',\n",
       "  'Composition': {'N': 1, 'O': 1, 'H': 4, 'Q': 1}},\n",
       " {'formula': 'B(OH)3',\n",
       "  'smiles': 'B(O)(O)O',\n",
       "  'Composition': {'Q': 0, 'B': 1, 'O': 3, 'H': 3}},\n",
       " {'formula': 'H3BO2',\n",
       "  'smiles': 'B(O)(O)',\n",
       "  'Composition': {'Q': 0, 'B': 1, 'O': 2, 'H': 3}},\n",
       " {'formula': 'CO2',\n",
       "  'smiles': 'C=O',\n",
       "  'Composition': {'C': 1, 'O': 1, 'H': 2, 'Q': 0}},\n",
       " {'formula': 'SOCl2',\n",
       "  'smiles': 'O=S(Cl)Cl',\n",
       "  'Composition': {'O': 1, 'S': 1, 'Cl': 2, 'Q': 0}},\n",
       " {'formula': 'H4N2O2S',\n",
       "  'smiles': 'NS(N)(=O)=O',\n",
       "  'Composition': {'N': 2, 'S': 1, 'O': 2, 'H': 4, 'Q': 0}},\n",
       " {'formula': 'HClO3S',\n",
       "  'smiles': 'O=S(=O)(O)Cl',\n",
       "  'Composition': {'O': 3, 'S': 1, 'Cl': 1, 'H': 1, 'Q': 0}},\n",
       " {'formula': 'B(OH)2Cl',\n",
       "  'smiles': 'B(O)(O)Cl',\n",
       "  'Composition': {'Q': 0, 'B': 1, 'O': 2, 'H': 2, 'Cl': 1}},\n",
       " {'formula': 'B(OH)2Br',\n",
       "  'smiles': 'B(O)(O)Br',\n",
       "  'Composition': {'Q': 0, 'B': 1, 'O': 2, 'H': 2, 'Br': 1}},\n",
       " {'formula': 'B(OH)2I',\n",
       "  'smiles': 'B(O)(O)I',\n",
       "  'Composition': {'Q': 0, 'B': 1, 'O': 2, 'H': 2, 'I': 1}},\n",
       " {'formula': 'H2ClNO2S',\n",
       "  'smiles': 'NS(=O)(=O)Cl',\n",
       "  'Composition': {'N': 1, 'S': 1, 'O': 2, 'Cl': 1, 'H': 2, 'Q': 0}}]"
      ]
     },
     "execution_count": 72,
     "metadata": {},
     "output_type": "execute_result"
    }
   ],
   "source": [
    "rule = load_database('../../Data/Rules/rules_manager.json.gz')\n",
    "rule"
   ]
  },
  {
   "cell_type": "code",
   "execution_count": null,
   "metadata": {},
   "outputs": [],
   "source": []
  },
  {
   "cell_type": "code",
   "execution_count": null,
   "metadata": {},
   "outputs": [],
   "source": [
    "import pandas as pd\n",
    "jaworski = pd.read_csv('../../Data/Validation_set/golden_dataset.csv')"
   ]
  },
  {
   "cell_type": "code",
   "execution_count": null,
   "metadata": {},
   "outputs": [],
   "source": [
    "uspto_1 = load_database('../../Data/Validation_set/USPTO_diff/mcs_based_reactions.json.gz')\n",
    "uspto_rule_1 = load_database('../../Data/Validation_set/USPTO_diff/rule_based_reactions.json.gz')\n",
    "uspto_2 = load_database('../../Data/Validation_set/USPTO_unbalance_class/mcs_based_reactions.json.gz')\n",
    "uspto_rule_2 = load_database('../../Data/Validation_set/USPTO_unbalance_class/rule_based_reactions.json.gz')"
   ]
  },
  {
   "cell_type": "code",
   "execution_count": null,
   "metadata": {},
   "outputs": [],
   "source": [
    "uspto_rule_1[0]"
   ]
  },
  {
   "cell_type": "code",
   "execution_count": null,
   "metadata": {},
   "outputs": [],
   "source": [
    "art"
   ]
  },
  {
   "cell_type": "code",
   "execution_count": null,
   "metadata": {},
   "outputs": [],
   "source": [
    "key_get = ['id', 'class', 'reactions']"
   ]
  },
  {
   "cell_type": "code",
   "execution_count": null,
   "metadata": {},
   "outputs": [],
   "source": [
    "uspto_2.extend(uspto_rule_2)"
   ]
  },
  {
   "cell_type": "code",
   "execution_count": null,
   "metadata": {},
   "outputs": [],
   "source": [
    "pd.DataFrame(uspto_2)[['id','class', 'reactions']].to_csv('../../Data/Validation_set/USPTO_unbalance_class.csv', index=False)"
   ]
  },
  {
   "cell_type": "code",
   "execution_count": null,
   "metadata": {},
   "outputs": [],
   "source": [
    "pd.DataFrame(uspto_2)"
   ]
  },
  {
   "cell_type": "code",
   "execution_count": null,
   "metadata": {},
   "outputs": [],
   "source": [
    "uspto_dff_1 ="
   ]
  },
  {
   "cell_type": "code",
   "execution_count": null,
   "metadata": {},
   "outputs": [],
   "source": [
    "jaworski[jaworski.duplicated(subset=['reactions'], keep=False)]"
   ]
  },
  {
   "cell_type": "code",
   "execution_count": null,
   "metadata": {},
   "outputs": [],
   "source": [
    "list_wrong = [11,213, 234, 221, 225, 227, 233, 239, 240, 241, 242, 249, 270, 273, 283, 366, 374, 375, 444, 449, 481, 635, 663]"
   ]
  },
  {
   "cell_type": "code",
   "execution_count": null,
   "metadata": {},
   "outputs": [],
   "source": [
    "len(list_wrong)"
   ]
  },
  {
   "cell_type": "code",
   "execution_count": null,
   "metadata": {},
   "outputs": [],
   "source": [
    "golden_wrong = [golden[i] for i in list_wrong]"
   ]
  },
  {
   "cell_type": "code",
   "execution_count": null,
   "metadata": {},
   "outputs": [],
   "source": [
    "golden"
   ]
  },
  {
   "cell_type": "code",
   "execution_count": null,
   "metadata": {},
   "outputs": [],
   "source": [
    "ground_truth"
   ]
  },
  {
   "cell_type": "code",
   "execution_count": null,
   "metadata": {},
   "outputs": [],
   "source": [
    "ground_truth = golden.copy()"
   ]
  },
  {
   "cell_type": "code",
   "execution_count": null,
   "metadata": {},
   "outputs": [],
   "source": [
    "import pandas as pd\n",
    "ground_truth = pd.DataFrame(ground_truth)[['R-id', 'reactions']].to_dict(orient='records')"
   ]
  },
  {
   "cell_type": "code",
   "execution_count": null,
   "metadata": {},
   "outputs": [],
   "source": [
    "ground_truth[630]['reactions'] = number_630\n",
    "vis.plot_reactions(ground_truth[630], 'reactions', 'reactions', compare=False, savefig=False)"
   ]
  },
  {
   "cell_type": "code",
   "execution_count": null,
   "metadata": {},
   "outputs": [],
   "source": [
    "# wrong reaction fix\n",
    "\n",
    "\n",
    "number_444 = '[CH:17]=1[CH:18]=[CH:19][C:14](=[CH:15][CH:16]=1)[CH:12]([OH:13])[CH2:11][CH2:10][CH2:9][CH2:8][CH2:7][CH2:6][CH2:5][CH2:4][CH2:3][CH3:2].[OH-:1]>>[CH:17]=1[CH:18]=[CH:19][C:14](=[CH:15][CH:16]=1)[CH:12]([OH:13])[CH2:11][CH2:10][CH2:9][CH2:8][CH2:7][CH2:6][CH2:5][CH2:4][CH2:3][CH3:2].[OH-:1]'\n",
    "\n",
    "number_449 = '[CH3:1][C:2]([CH3:3])=[CH:4][CH2:5][Br:6].[Mg:7]>>[CH3:1][C:2]([CH3:3])=[CH:4][CH2:5][Mg:7][Br:6]'\n",
    "\n",
    "number_481  = '[CH:6]=1[CH:7]=[CH:8][CH:9]=[CH:10][C:5]=1[CH3:4].[O-:3][N+:2](=[O:1])[OH:11]>>[N+:2]([O-:3])(=[O:1])[C:8]1=[CH:7][CH:6]=[C:5]([CH3:4])[CH:10]=[CH:9]1.[OH:12]'\n",
    "\n",
    "\n",
    "number_663 = '[CH:12]1=[C:11]([CH2:10][N:9]([CH2:17][C:18]2=[CH:19][CH:20]=[CH:21][CH:22]=[CH:23]2)[C:8]=3[CH:24]=[CH:25][CH:26]=[C:6]([CH:7]=3)[Br:29])[CH:16]=[CH:15][CH:14]=[CH:13]1.[CH2:3]1[CH2:4][CH2:5][CH:1]([CH2:2]1)[Br:27].[Mg:28]>>[CH2:2]1[CH2:3][CH2:4][CH2:5][CH:1]1[C:6]=2[CH:26]=[CH:25][CH:24]=[C:8]([CH:7]=2)[N:9]([CH2:17][C:18]=3[CH:19]=[CH:20][CH:21]=[CH:22][CH:23]=3)[CH2:10][C:11]=4[CH:16]=[CH:15][CH:14]=[CH:13][CH:12]=4.[Br:27][Mg:28][Br:29]'\n",
    "\n"
   ]
  },
  {
   "cell_type": "code",
   "execution_count": null,
   "metadata": {},
   "outputs": [],
   "source": [
    "# wrong reaction rule based\n",
    "\n",
    "\n",
    "number_621 ='[C:3](=[O:5])([CH2:2][CH3:1])[CH3:4].[NH2:8][N:7]([CH3:6])[C:9]1=[CH:10][CH:11]=[CH:12][CH:13]=[CH:14]1>>[CH:11]=1[CH:12]=[CH:13][CH:14]=[C:9]2[C:10]=1[C:2]([CH3:1])=[C:3]([CH3:4])[N:7]2[CH3:6].[NH3:8].[OH2:5]'\n",
    "\n",
    "number_630 = '[CH2:7]([CH2:8][OH:9])[CH3:6].[Cl:1][C:2]([Cl:3])([Cl:4])[Cl:5].[CH:11]1=[CH:12][CH:13]=[CH:14][CH:15]=[C:16]1[P:10]([C:17]2=[CH:18][CH:19]=[CH:20][CH:21]=[CH:22]2)[C:23]1=[CH:24][CH:25]=[CH:26][CH:27]=[C:28]1>>[CH2:7]([CH3:6])[CH2:8][Cl:5].[Cl:1][CH:2]([Cl:3])[Cl:4].[CH:11]1=[CH:12][CH:13]=[CH:14][CH:15]=[C:16]1[P:10](=[O:5])([C:17]2=[CH:18][CH:19]=[CH:20][CH:21]=[CH:22]2)[C:23]1=[CH:24][CH:25]=[CH:26][CH:27]=[C:28]1'"
   ]
  },
  {
   "cell_type": "code",
   "execution_count": null,
   "metadata": {},
   "outputs": [],
   "source": [
    "\n",
    "from rdkit import Chem\n",
    "from rdkit.Chem import Draw\n",
    "from rdkit.Chem.Draw import rdMolDraw2D\n",
    "from rdkit.Chem import rdChemReactions as Reactions\n",
    "from rdkit.Chem.Draw import IPythonConsole\n",
    "from PIL import Image\n",
    "\n",
    "display(Reactions.ReactionFromSmarts(number_283, useSmiles=True))\n",
    "\n",
    "vis.plot_reactions(golden[283], 'reactions', 'new_reaction', compare=True, show_atom_numbers=False)\n"
   ]
  },
  {
   "cell_type": "code",
   "execution_count": null,
   "metadata": {},
   "outputs": [],
   "source": [
    "golden[621]['reactions']"
   ]
  },
  {
   "cell_type": "code",
   "execution_count": null,
   "metadata": {},
   "outputs": [],
   "source": [
    "from SynRBL.SynChemImputer.appel_reaction import AppelReaction\n",
    "\n",
    "appel = AppelReaction()\n"
   ]
  },
  {
   "cell_type": "code",
   "execution_count": null,
   "metadata": {},
   "outputs": [],
   "source": [
    "golden[283]['reactions']"
   ]
  },
  {
   "cell_type": "code",
   "execution_count": null,
   "metadata": {},
   "outputs": [],
   "source": [
    "Chem.MolFromSmiles('[C-:26]#[O+:27]')"
   ]
  },
  {
   "cell_type": "code",
   "execution_count": null,
   "metadata": {},
   "outputs": [],
   "source": [
    "test ='[C-:26]#[O+:27].[CH3:19][C:18]([CH3:20])([CH3:21])[Si:15]([CH3:16])([CH3:17])[O:14][CH2:13][CH2:12][CH:11]1[CH:10]2[CH:1]([CH:25]=[CH:24][CH:22]1[OH:23])[CH2:2][CH2:3][N:4]2[C:5](=[O:6])[O:7][CH2:8][CH3:9].[NH3:27]>>[CH3:19][C:18]([CH3:20])([CH3:21])[Si:15]([CH3:16])([CH3:17])[O:14][CH2:13][CH2:12][CH:11]1[CH:22]=[CH:24][CH:25]([CH:1]2[CH2:2][CH2:3][N:4]([C:5](=[O:6])[O:7][CH2:8][CH3:9])[CH:10]12)[C:26](=[O:27])[NH2:27].[OH2:23]'"
   ]
  },
  {
   "cell_type": "code",
   "execution_count": null,
   "metadata": {},
   "outputs": [],
   "source": [
    "vis.plot_reactions(golden[283], 'reactions', 'new_reaction', compare=True, show_atom_numbers=False)"
   ]
  },
  {
   "cell_type": "code",
   "execution_count": null,
   "metadata": {},
   "outputs": [],
   "source": [
    "save_database(ground_truth, '../../Data/Validation_set/golden_dataset/rule_based_ground_truth.json.gz')"
   ]
  },
  {
   "cell_type": "code",
   "execution_count": null,
   "metadata": {},
   "outputs": [],
   "source": [
    "golden[630]['reactions']"
   ]
  },
  {
   "cell_type": "code",
   "execution_count": null,
   "metadata": {},
   "outputs": [],
   "source": [
    "c1ccccc1P(c2ccccc2)c3ccccc3"
   ]
  },
  {
   "cell_type": "code",
   "execution_count": null,
   "metadata": {},
   "outputs": [],
   "source": [
    "from SynRBL.SynVis.reaction_visualizer import ReactionVisualizer\n",
    "vis = ReactionVisualizer()\n",
    "vis.plot_reactions(golden[630], 'reactions', 'new_reaction', compare=True, show_atom_numbers=False)"
   ]
  },
  {
   "cell_type": "code",
   "execution_count": null,
   "metadata": {},
   "outputs": [],
   "source": [
    "vis.plot_reactions(golden_wrong[16], 'reactions', 'new_reaction', compare=True, show_atom_numbers=False)"
   ]
  },
  {
   "cell_type": "code",
   "execution_count": null,
   "metadata": {},
   "outputs": [],
   "source": []
  },
  {
   "cell_type": "code",
   "execution_count": null,
   "metadata": {},
   "outputs": [],
   "source": [
    "# Jaworski class\n",
    "jaworski = load_database('../../Data/Validation_set/Jaworski/rule_based_reactions.json.gz')\n",
    "jaworski_167 = 'BrBr.CC1=C(C(OC)=O)C=CC=C1[N+]([O-])=O>>O=C(OC)C2=C(CBr)C([N+]([O-])=O)=CC=C2.Br'\n",
    "jaworski_171 = 'CC1(O[C@@H]2COC([C@@H]2O1)O)C.Br[Mg]C=C.O>>CC1(O[C@@H]([C@H]([C@H](C=C)O)O1)CO)C.Br[Mg+][OH]'"
   ]
  },
  {
   "cell_type": "code",
   "execution_count": null,
   "metadata": {},
   "outputs": [],
   "source": [
    "display(Reactions.ReactionFromSmarts(jaworski_171, useSmiles=True))"
   ]
  },
  {
   "cell_type": "code",
   "execution_count": null,
   "metadata": {},
   "outputs": [],
   "source": [
    "import pandas as pd\n",
    "ground_truth = jaworski.copy()\n",
    "ground_truth = pd.DataFrame(ground_truth)[['R-id', 'reactions']].to_dict(orient='records')"
   ]
  },
  {
   "cell_type": "code",
   "execution_count": null,
   "metadata": {},
   "outputs": [],
   "source": [
    "save_database(ground_truth, '../../Data/Validation_set/Jaworski/rule_based_ground_truth.json.gz')"
   ]
  },
  {
   "cell_type": "code",
   "execution_count": null,
   "metadata": {},
   "outputs": [],
   "source": [
    "ground_truth[167]['reactions'] = jaworski_167\n",
    "ground_truth[171]['reactions'] = jaworski_171"
   ]
  },
  {
   "cell_type": "code",
   "execution_count": null,
   "metadata": {},
   "outputs": [],
   "source": [
    "ground_truth[167]"
   ]
  },
  {
   "cell_type": "code",
   "execution_count": null,
   "metadata": {},
   "outputs": [],
   "source": [
    "from SynRBL.SynVis.reaction_visualizer import ReactionVisualizer\n",
    "vis = ReactionVisualizer()\n",
    "vis.plot_reactions(ground_truth[171], 'reactions', 'reactions', compare=False, show_atom_numbers=False)"
   ]
  },
  {
   "cell_type": "code",
   "execution_count": null,
   "metadata": {},
   "outputs": [],
   "source": []
  }
 ],
 "metadata": {
  "kernelspec": {
   "display_name": "SynRBL",
   "language": "python",
   "name": "python3"
  },
  "language_info": {
   "codemirror_mode": {
    "name": "ipython",
    "version": 3
   },
   "file_extension": ".py",
   "mimetype": "text/x-python",
   "name": "python",
   "nbconvert_exporter": "python",
   "pygments_lexer": "ipython3",
   "version": "3.9.18"
  }
 },
 "nbformat": 4,
 "nbformat_minor": 2
}
