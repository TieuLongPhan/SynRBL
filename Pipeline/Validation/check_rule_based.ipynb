{
 "cells": [
  {
   "cell_type": "code",
   "execution_count": 2,
   "metadata": {},
   "outputs": [],
   "source": [
    "import sys\n",
    "sys.path.append('../../')"
   ]
  },
  {
   "cell_type": "code",
   "execution_count": 31,
   "metadata": {},
   "outputs": [],
   "source": [
    "#from SynRBL.SynChemImputer.functional_group_checker import FunctionalGroupChecker\n",
    "from rdkit import Chem\n",
    "\n",
    "class UnstableMol:\n",
    "    @staticmethod\n",
    "    def functional_group_check(smiles):\n",
    "        if FunctionalGroupChecker.check_vicinal_diol(smiles):\n",
    "            return 'vicinal_diol'\n",
    "        elif FunctionalGroupChecker.check_enol(smiles):\n",
    "            return 'enol'\n",
    "        elif FunctionalGroupChecker.check_hemiacetal(smiles):\n",
    "            return 'hemiacetal'\n",
    "        elif FunctionalGroupChecker.check_carbonate(smiles):\n",
    "            return 'carbonate'\n",
    "        else:\n",
    "            return None\n",
    "\n",
    "    @staticmethod\n",
    "    def fix(smiles):\n",
    "        functional_group = UnstableMol.functional_group_check(smiles)\n",
    "        print(functional_group)\n",
    "        if functional_group == 'vicinal_diol':\n",
    "            smiles = smiles.replace('OCO', 'C=O')\n",
    "            return Chem.MolFromSmiles(smiles)\n",
    "        elif functional_group == 'hemiacetal':\n",
    "            smiles = smiles.replace('COCO', 'CO.C=O')\n",
    "            return Chem.MolFromSmiles(smiles)\n",
    "        elif functional_group == 'enol':\n",
    "            smiles = smiles.replace('C=C(O)', 'CC=O')\n",
    "            return Chem.MolFromSmiles(smiles)\n",
    "        elif functional_group == 'carbonate':\n",
    "            smiles = smiles.replace('COC(=O)O', 'CO.OC(=O)O').replace('OC(=O)OC', 'COC(=O)O.OC')\n",
    "            return Chem.MolFromSmiles(smiles)\n",
    "        else:\n",
    "            return None\n"
   ]
  },
  {
   "cell_type": "code",
   "execution_count": 32,
   "metadata": {},
   "outputs": [],
   "source": [
    "smi_diol = 'OCO'\n",
    "smi_enol = 'C=C(O)'\n",
    "smi_hemiacetal = 'COCO'\n",
    "smi_carbonate = 'COC(=O)O'"
   ]
  },
  {
   "cell_type": "code",
   "execution_count": 38,
   "metadata": {},
   "outputs": [],
   "source": [
    "from thermo.functional_groups import *\n",
    "from rdkit import Chem"
   ]
  },
  {
   "cell_type": "code",
   "execution_count": 44,
   "metadata": {},
   "outputs": [
    {
     "data": {
      "text/plain": [
       "True"
      ]
     },
     "execution_count": 44,
     "metadata": {},
     "output_type": "execute_result"
    }
   ],
   "source": [
    "is_alcohol(Chem.MolFromSmiles('COCO')) "
   ]
  },
  {
   "cell_type": "code",
   "execution_count": 43,
   "metadata": {},
   "outputs": [
    {
     "data": {
      "image/png": "[encoded data removed]",
      "text/plain": [
       "<rdkit.Chem.rdchem.Mol at 0x7f6efb39c580>"
      ]
     },
     "execution_count": 43,
     "metadata": {},
     "output_type": "execute_result"
    }
   ],
   "source": [
    "Chem.MolFromSmiles('C1=CC=CC=C1O')"
   ]
  },
  {
   "cell_type": "code",
   "execution_count": 33,
   "metadata": {},
   "outputs": [
    {
     "name": "stdout",
     "output_type": "stream",
     "text": [
      "vicinal_diol\n"
     ]
    },
    {
     "data": {
      "image/png": "[encoded data removed]",
      "text/plain": [
       "<rdkit.Chem.rdchem.Mol at 0x7f6efcf6cc80>"
      ]
     },
     "execution_count": 33,
     "metadata": {},
     "output_type": "execute_result"
    }
   ],
   "source": [
    "UnstableMol.fix(smi_diol)"
   ]
  },
  {
   "cell_type": "code",
   "execution_count": 34,
   "metadata": {},
   "outputs": [
    {
     "name": "stdout",
     "output_type": "stream",
     "text": [
      "enol\n"
     ]
    },
    {
     "data": {
      "image/png": "[encoded data removed]",
      "text/plain": [
       "<rdkit.Chem.rdchem.Mol at 0x7f6efcf6cb30>"
      ]
     },
     "execution_count": 34,
     "metadata": {},
     "output_type": "execute_result"
    }
   ],
   "source": [
    "UnstableMol.fix(smi_enol)"
   ]
  },
  {
   "cell_type": "code",
   "execution_count": 35,
   "metadata": {},
   "outputs": [
    {
     "name": "stdout",
     "output_type": "stream",
     "text": [
      "carbonate\n"
     ]
    },
    {
     "data": {
      "image/png": "[encoded data removed]",
      "text/plain": [
       "<rdkit.Chem.rdchem.Mol at 0x7f6efcf6ce40>"
      ]
     },
     "execution_count": 35,
     "metadata": {},
     "output_type": "execute_result"
    }
   ],
   "source": [
    "UnstableMol.fix(smi_carbonate)"
   ]
  },
  {
   "cell_type": "code",
   "execution_count": 30,
   "metadata": {},
   "outputs": [],
   "source": [
    "from rdkit import Chem\n",
    "\n",
    "class FunctionalGroupChecker:\n",
    "    \n",
    "    # 1. peroxid group\n",
    "    @staticmethod\n",
    "    def check_peroxide(smiles: str) -> bool:\n",
    "        \"\"\"\n",
    "        Check for the presence of a peroxide substructure in a molecule.\n",
    "        \"\"\"\n",
    "        peroxide_pattern = Chem.MolFromSmarts('OO')\n",
    "        mol = Chem.MolFromSmiles(smiles)\n",
    "        return mol.HasSubstructMatch(peroxide_pattern) if mol and not FunctionalGroupChecker.check_peracid(smiles) else False\n",
    "\n",
    "    @staticmethod\n",
    "    def check_peracid(smiles: str) -> bool:\n",
    "        \"\"\"\n",
    "        Check for the presence of a peracid substructure in a molecule.\n",
    "        \"\"\"\n",
    "        peracid_pattern = Chem.MolFromSmarts('C(OO)=O')\n",
    "        mol = Chem.MolFromSmiles(smiles)\n",
    "        return mol.HasSubstructMatch(peracid_pattern) if mol else False\n",
    "\n",
    "    # 2. Alcohol group\n",
    "    @staticmethod\n",
    "    def check_alcohol(smiles: str) -> bool:\n",
    "        \"\"\"\n",
    "        Check for the presence of an alcohol functional group in a molecule.\n",
    "        \"\"\"\n",
    "        alcohol_pattern = Chem.MolFromSmarts('CO')\n",
    "        mol = Chem.MolFromSmiles(smiles)\n",
    "        return mol.HasSubstructMatch(alcohol_pattern) if mol else False\n",
    "    \n",
    "    @staticmethod\n",
    "    def check_enol(smiles: str) -> bool:\n",
    "        \"\"\"\n",
    "        Check for the presence of an enol functional group in a molecule.\n",
    "        \"\"\"\n",
    "        enol_pattern = Chem.MolFromSmarts('C=C(O)')\n",
    "        mol = Chem.MolFromSmiles(smiles)\n",
    "        return mol.HasSubstructMatch(enol_pattern) if mol else False\n",
    "\n",
    "    @staticmethod\n",
    "    def check_phenol(smiles: str) -> bool:\n",
    "        \"\"\"\n",
    "        Check for the presence of a phenol functional group in a molecule.\n",
    "        \"\"\"\n",
    "        phenol_pattern = Chem.MolFromSmarts('[c]O')\n",
    "        mol = Chem.MolFromSmiles(smiles)\n",
    "        return mol.HasSubstructMatch(phenol_pattern) if mol else False\n",
    "\n",
    "    @staticmethod\n",
    "    def check_vicinal_diol(smiles: str) -> bool:\n",
    "        \"\"\"\n",
    "        Check for the presence of a vicinal diol functional group in a molecule.\n",
    "        \"\"\"\n",
    "        vicinal_diol_pattern = Chem.MolFromSmarts('OCO')\n",
    "        mol = Chem.MolFromSmiles(smiles)\n",
    "        return mol.HasSubstructMatch(vicinal_diol_pattern) if mol and not FunctionalGroupChecker.check_hemiacetal(smiles)  and not FunctionalGroupChecker.check_carbonate(smiles) and not FunctionalGroupChecker.check_carboxylic_acid(smiles) and not FunctionalGroupChecker.check_ester(smiles) else False\n",
    "\n",
    "    @staticmethod\n",
    "    def check_gem_diol(smiles: str) -> bool:\n",
    "        \"\"\"\n",
    "        Check for the presence of a gem diol functional group in a molecule.\n",
    "        \"\"\"\n",
    "        gem_diol_pattern = Chem.MolFromSmarts('OCCO')\n",
    "        mol = Chem.MolFromSmiles(smiles)\n",
    "        return mol.HasSubstructMatch(gem_diol_pattern) if mol else False\n",
    "\n",
    "    @staticmethod\n",
    "    def check_ether(smiles: str) -> bool:\n",
    "        \"\"\"\n",
    "        Check for the presence of an ether functional group in a molecule.\n",
    "        \"\"\"\n",
    "        ether_pattern = Chem.MolFromSmarts('COC')\n",
    "        mol = Chem.MolFromSmiles(smiles)\n",
    "        return mol.HasSubstructMatch(ether_pattern) if mol else False\n",
    "\n",
    "    # 3. Carbonyl group\n",
    "    @staticmethod\n",
    "    def check_aldehyde(smiles: str) -> bool:\n",
    "        \"\"\"\n",
    "        Check for the presence of an aldehyde functional group in a molecule.\n",
    "        \"\"\"\n",
    "        aldehyde_pattern = Chem.MolFromSmarts('[CX3H1](=O)[#6]')\n",
    "        mol = Chem.MolFromSmiles(smiles)\n",
    "        return mol.HasSubstructMatch(aldehyde_pattern) if mol else False\n",
    "\n",
    "    @staticmethod\n",
    "    def check_ketone(smiles: str) -> bool:\n",
    "        \"\"\"\n",
    "        Check for the presence of a ketone functional group in a molecule.\n",
    "        \"\"\"\n",
    "        ketone_pattern = Chem.MolFromSmarts('[#6][CX3](=O)[#6]')\n",
    "        mol = Chem.MolFromSmiles(smiles)\n",
    "        return mol.HasSubstructMatch(ketone_pattern) if mol else False\n",
    "\n",
    "    @staticmethod\n",
    "    def check_acetal(smiles: str) -> bool:\n",
    "        \"\"\"\n",
    "        Check for the presence of an acetal functional group in a molecule.\n",
    "        \"\"\"\n",
    "        acetal_pattern = Chem.MolFromSmarts('[CX4][OX2][CX4]')\n",
    "        mol = Chem.MolFromSmiles(smiles)\n",
    "        return mol.HasSubstructMatch(acetal_pattern) if mol else False\n",
    "\n",
    "    @staticmethod\n",
    "    def check_hemiacetal(smiles: str) -> bool:\n",
    "        \"\"\"\n",
    "        Check for the presence of a hemiacetal functional group in a molecule.\n",
    "        \"\"\"\n",
    "        hemiacetal_pattern = Chem.MolFromSmarts('COCO')\n",
    "        mol = Chem.MolFromSmiles(smiles)\n",
    "        return mol.HasSubstructMatch(hemiacetal_pattern) if mol and not FunctionalGroupChecker.check_carbonate(smiles) and not FunctionalGroupChecker.check_carboxylic_acid(smiles) and not FunctionalGroupChecker.check_ester(smiles) else False\n",
    "\n",
    "    # 4. Carboxylic group\n",
    "    @staticmethod\n",
    "    def check_carboxylic_acid(smiles: str) -> bool:\n",
    "        \"\"\"\n",
    "        Check for the presence of a carboxylic acid functional group in a molecule.\n",
    "        \"\"\"\n",
    "        carboxylic_acid_pattern = Chem.MolFromSmarts('C(=O)O')\n",
    "        mol = Chem.MolFromSmiles(smiles)\n",
    "        return mol.HasSubstructMatch(carboxylic_acid_pattern) if mol else False\n",
    "\n",
    "    @staticmethod\n",
    "    def check_ester(smiles: str) -> bool:\n",
    "        \"\"\"\n",
    "        Check for the presence of an ester functional group in a molecule.\n",
    "        \"\"\"\n",
    "        ester_pattern = Chem.MolFromSmarts('C(=O)OC')\n",
    "        mol = Chem.MolFromSmiles(smiles)\n",
    "        return mol.HasSubstructMatch(ester_pattern) if mol and not FunctionalGroupChecker.check_carbonate(smiles) else False\n",
    "\n",
    "    @staticmethod\n",
    "    def check_amide(smiles: str) -> bool:\n",
    "        \"\"\"\n",
    "        Check for the presence of an amide functional group in a molecule.\n",
    "        \"\"\"\n",
    "        amide_pattern = Chem.MolFromSmarts('NC=O')\n",
    "        mol = Chem.MolFromSmiles(smiles)\n",
    "        return mol.HasSubstructMatch(amide_pattern) if mol and not FunctionalGroupChecker.check_urea(smiles) else False\n",
    "    \n",
    "    @staticmethod\n",
    "    def check_cyanide(smiles: str) -> bool:\n",
    "        \"\"\"\n",
    "        Check for the presence of a cyanide functional group in a molecule.\n",
    "        \"\"\"\n",
    "        cyanide_pattern = Chem.MolFromSmarts('[C-]#[N+]')\n",
    "        mol = Chem.MolFromSmiles(smiles)\n",
    "        return mol.HasSubstructMatch(cyanide_pattern) if mol else False\n",
    "\n",
    "    @staticmethod\n",
    "    def check_urea(smiles: str) -> bool:\n",
    "        \"\"\"\n",
    "        Check for the presence of a urea functional group in a molecule.\n",
    "        \"\"\"\n",
    "        urea_pattern = Chem.MolFromSmarts('NC(=O)N')\n",
    "        mol = Chem.MolFromSmiles(smiles)\n",
    "        return mol.HasSubstructMatch(urea_pattern) if mol else False\n",
    "\n",
    "    @staticmethod\n",
    "    def check_carbonate(smiles: str) -> bool:\n",
    "        \"\"\"\n",
    "        Check for the presence of a carbonate functional group in a molecule.\n",
    "        \"\"\"\n",
    "        carbonate_pattern = Chem.MolFromSmarts('OC(=O)O')\n",
    "        mol = Chem.MolFromSmiles(smiles)\n",
    "        return mol.HasSubstructMatch(carbonate_pattern) if mol else False\n",
    "\n",
    "    # 5. Amine group\n",
    "    @staticmethod\n",
    "    def check_amine(smiles: str) -> bool:\n",
    "        \"\"\"\n",
    "        Check for the presence of an amine functional group in a molecule.\n",
    "        \"\"\"\n",
    "        amine_pattern = Chem.MolFromSmarts('CN')\n",
    "        mol = Chem.MolFromSmiles(smiles)\n",
    "        return mol.HasSubstructMatch(amine_pattern) if mol and not FunctionalGroupChecker.check_amide(smiles) else False\n",
    "    \n",
    "    @staticmethod\n",
    "    def check_nitro(smiles: str) -> bool:\n",
    "        \"\"\"\n",
    "        Check for the presence of a nitro functional group in a molecule.\n",
    "        \"\"\"\n",
    "        nitro_pattern = Chem.MolFromSmarts('[N+](=O)[O-]')\n",
    "        mol = Chem.MolFromSmiles(smiles)\n",
    "        return mol.HasSubstructMatch(nitro_pattern) if mol else False\n"
   ]
  },
  {
   "cell_type": "code",
   "execution_count": 45,
   "metadata": {},
   "outputs": [
    {
     "data": {
      "text/plain": [
       "'[#8]-[#6](=[#8])-[#8]'"
      ]
     },
     "execution_count": 45,
     "metadata": {},
     "output_type": "execute_result"
    }
   ],
   "source": [
    "Chem.MolToSmarts(Chem.MolFromSmiles('OC(=O)O'))"
   ]
  },
  {
   "cell_type": "code",
   "execution_count": null,
   "metadata": {},
   "outputs": [],
   "source": [
    "def oxygen_group_check(smiles):\n",
    "    alcohol_pattern = Chem.MolFromSmarts('CO')\n",
    "    phenol_pattern = Chem.MolFromSmarts('[c]O')\n",
    "    mol = Chem.MolFromSmiles(smiles)\n",
    "    if mol.HasSubstructMatch(phenol_pattern):\n",
    "        return 'phenol'\n",
    "    elif mol.HasSubstructMatch(alcohol_pattern):\n",
    "        enol_pattern = Chem.MolFromSmarts('C=C-O')\n",
    "        diol_pattern = Chem.MolFromSmarts('OCO')\n",
    "        amid_pattern = Chem.MolFromSmarts('NC=O')\n",
    "        #acyl_pattern = [Chem.MolFromSmarts(f'C(=O){X}') for X in ['F','Cl','Br','I']]\n",
    "        if mol.HasSubstructMatch(enol_pattern):\n",
    "            return 'enol'\n",
    "        elif mol.HasSubstructMatch(diol_pattern):\n",
    "            ()\n",
    "        elif mol.HasSubstructMatch(amid_pattern):\n",
    "            return 'amide'\n",
    "        else:\n",
    "            return 'alcohol'\n",
    "    else:\n",
    "        return None\n",
    "       "
   ]
  },
  {
   "cell_type": "code",
   "execution_count": null,
   "metadata": {},
   "outputs": [],
   "source": [
    "def carboxylic_derivatives_check(smiles):\n",
    "    mol = Chem.MolFromSmiles(smiles)\n",
    "    ester_pattern = Chem.MolFromSmarts('C(=O)OC')\n",
    "    acid_pattern = Chem.MolFromSmarts('C(=O)O')\n",
    "    anhydride_pattern = Chem.MolFromSmarts('O=COC=O')\n",
    "    if mol.HasSubstructMatch(ester_pattern):\n",
    "        return 'ester'\n",
    "    elif mol.HasSubstructMatch(anhydride_pattern):\n",
    "        return 'anhydride'\n",
    "    else:\n",
    "        return 'acid'\n",
    "    "
   ]
  },
  {
   "cell_type": "code",
   "execution_count": null,
   "metadata": {},
   "outputs": [],
   "source": [
    "def COO_check(smiles):\n",
    "    mol = Chem.MolFromSmiles(smiles)\n",
    "    carbon_pattern = Chem.MolFromSmarts('C')\n",
    "    oxygen_pattern = Chem.MolFromSmarts('O')\n",
    "    if mol.HasSubstructMatch(carbon_pattern):\n",
    "        return 'carbon'\n",
    "    elif mol.HasSubstructMatch(oxygen_pattern):\n",
    "        return 'oxygen'\n",
    "    else:\n",
    "        return None"
   ]
  },
  {
   "cell_type": "code",
   "execution_count": 49,
   "metadata": {},
   "outputs": [
    {
     "data": {
      "image/png": "[encoded data removed]",
      "text/plain": [
       "<rdkit.Chem.rdchem.Mol at 0x7f6efb3245f0>"
      ]
     },
     "execution_count": 49,
     "metadata": {},
     "output_type": "execute_result"
    }
   ],
   "source": [
    "Chem.MolFromSmiles('C(=O)OC(=O)')"
   ]
  },
  {
   "cell_type": "code",
   "execution_count": 50,
   "metadata": {},
   "outputs": [
    {
     "data": {
      "text/plain": [
       "'O=COC=O'"
      ]
     },
     "execution_count": 50,
     "metadata": {},
     "output_type": "execute_result"
    }
   ],
   "source": [
    "Chem.CanonSmiles('C(=O)OC(=O)')"
   ]
  },
  {
   "cell_type": "code",
   "execution_count": 47,
   "metadata": {},
   "outputs": [
    {
     "data": {
      "text/plain": [
       "[<rdkit.Chem.rdchem.Mol at 0x7f6efb32f6d0>,\n",
       " <rdkit.Chem.rdchem.Mol at 0x7f6efb32f890>,\n",
       " <rdkit.Chem.rdchem.Mol at 0x7f6efb32f820>,\n",
       " <rdkit.Chem.rdchem.Mol at 0x7f6efb32f900>]"
      ]
     },
     "execution_count": 47,
     "metadata": {},
     "output_type": "execute_result"
    }
   ],
   "source": []
  },
  {
   "cell_type": "code",
   "execution_count": null,
   "metadata": {},
   "outputs": [],
   "source": []
  }
 ],
 "metadata": {
  "kernelspec": {
   "display_name": "SynRBL",
   "language": "python",
   "name": "python3"
  },
  "language_info": {
   "codemirror_mode": {
    "name": "ipython",
    "version": 3
   },
   "file_extension": ".py",
   "mimetype": "text/x-python",
   "name": "python",
   "nbconvert_exporter": "python",
   "pygments_lexer": "ipython3",
   "version": "3.9.18"
  }
 },
 "nbformat": 4,
 "nbformat_minor": 2
}
