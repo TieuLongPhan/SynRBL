{
 "cells": [
  {
   "cell_type": "code",
   "execution_count": 1,
   "metadata": {},
   "outputs": [],
   "source": [
    "import sys\n",
    "sys.path.append('../../')\n",
    "from SynRBL.rsmi_utils import save_database, load_database, filter_data, extract_results_by_key"
   ]
  },
  {
   "cell_type": "code",
   "execution_count": 2,
   "metadata": {},
   "outputs": [],
   "source": [
    "graph = load_database('../../Data/Validation_set/Jaworski/MCS/Final_Graph.json.gz')"
   ]
  },
  {
   "cell_type": "code",
   "execution_count": 3,
   "metadata": {},
   "outputs": [
    {
     "data": {
      "text/plain": [
       "[{'smiles': ['N=C(O)C(Cl)(Cl)Cl'],\n",
       "  'boundary_atoms_products': [[{'O': 2}]],\n",
       "  'nearest_neighbor_products': [[{'C': 9}]],\n",
       "  'issue': '',\n",
       "  'Certainty': True,\n",
       "  'R-id': 'USPTO_50K_24',\n",
       "  'old_reaction': 'CC(C)=CCC\\\\C(C)=C\\\\COC(=N)C(Cl)(Cl)Cl>>CC(C)=CCCC(C)(NC(=O)C(Cl)(Cl)Cl)C=C',\n",
       "  'sorted_reactants': ['CC(C)=CCC/C(C)=C/COC(=N)C(Cl)(Cl)Cl'],\n",
       "  'carbon_balance_check': 'balanced',\n",
       "  'mcs_results': ['[#6]-&!@[#6](-&!@[#6])=&!@[#6]-&!@[#6]-&!@[#6]-&!@[#6](-&!@[#6])=,-;!@[#6]-,=;!@[#6]']},\n",
       " {'smiles': [None, None, 'O'],\n",
       "  'boundary_atoms_products': [None, None, [{'O': 0}]],\n",
       "  'nearest_neighbor_products': [None, None, [{'C': 0}]],\n",
       "  'issue': '',\n",
       "  'Certainty': True,\n",
       "  'R-id': 'USPTO_50K_95',\n",
       "  'old_reaction': '[H]C([H])=O.CCNCC.CCCC(C)=O>>CCC(CN(CC)CC)C(C)=O',\n",
       "  'sorted_reactants': ['CCCC(C)=O', 'CCNCC', 'C=O'],\n",
       "  'carbon_balance_check': 'balanced',\n",
       "  'mcs_results': ['[#6]-&!@[#6]-&!@[#6]-&!@[#6](-&!@[#6])=&!@[#8]',\n",
       "   '[#6]-&!@[#6]-&!@[#7]-&!@[#6]-&!@[#6]',\n",
       "   '[#6]']},\n",
       " {'smiles': ['N=N', 'N=N'],\n",
       "  'boundary_atoms_products': [[{'N': 0}, {'N': 1}], [{'N': 0}, {'N': 1}]],\n",
       "  'nearest_neighbor_products': [[{'C': 6}, {'C': 9}], [{'C': 6}, {'C': 9}]],\n",
       "  'issue': '',\n",
       "  'Certainty': True,\n",
       "  'R-id': 'USPTO_50K_114',\n",
       "  'old_reaction': 'C1N=NCC2=CC=CC=C12.C1N=NCC2=CC=CC=C12>>C=C1C=CC=CC11CCC2=C(C1)C=CC=C2',\n",
       "  'sorted_reactants': ['c1ccc2c(c1)CN=NC2', 'c1ccc2c(c1)CN=NC2'],\n",
       "  'carbon_balance_check': 'balanced',\n",
       "  'mcs_results': ['[#6]-,=[#6]1:,-[#6]:,=[#6]:,-[#6]:,=[#6]:,-[#6]:,-1-[#6]',\n",
       "   '[#6]-[#6]1:[#6](-[#6]):[#6]:[#6]:[#6]:[#6]:1']},\n",
       " {'smiles': [None],\n",
       "  'boundary_atoms_products': [None],\n",
       "  'nearest_neighbor_products': [None],\n",
       "  'issue': '',\n",
       "  'Certainty': True,\n",
       "  'R-id': 'USPTO_50K_156',\n",
       "  'old_reaction': 'CC(=O)Nc1ccccc1CO>>CC(=O)Nc1ccccc1C=O',\n",
       "  'sorted_reactants': ['CC(=O)Nc1ccccc1CO'],\n",
       "  'carbon_balance_check': 'balanced',\n",
       "  'mcs_results': ['[#6]-&!@[#6](=&!@[#8])-&!@[#7]-&!@[#6]1:&@[#6]:&@[#6]:&@[#6]:&@[#6]:&@[#6]:&@1-&!@[#6]-,=;!@[#8]']},\n",
       " {'smiles': ['Cl', None],\n",
       "  'boundary_atoms_products': [[{'Cl': 0}], None],\n",
       "  'nearest_neighbor_products': [[{'C': 20}], None],\n",
       "  'issue': '',\n",
       "  'Certainty': True,\n",
       "  'R-id': 'USPTO_50K_167',\n",
       "  'old_reaction': 'CC(Oc1ccc(Oc2ccc(cc2)C(F)(F)F)cc1)C(Cl)=O.C1CNOC1>>CC(Oc1ccc(Oc2ccc(cc2)C(F)(F)F)cc1)C(=O)N1CCCO1',\n",
       "  'sorted_reactants': ['CC(Oc1ccc(Oc2ccc(C(F)(F)F)cc2)cc1)C(=O)Cl', 'C1CNOC1'],\n",
       "  'carbon_balance_check': 'balanced',\n",
       "  'mcs_results': ['[#6]-&!@[#6](-&!@[#8]-&!@[#6]1:&@[#6]:&@[#6]:&@[#6](:&@[#6]:&@[#6]:&@1)-&!@[#8]-&!@[#6]1:&@[#6]:&@[#6]:&@[#6](:&@[#6]:&@[#6]:&@1)-&!@[#6](-&!@[#9])(-&!@[#9])-&!@[#9])-&!@[#6]=&!@[#8]',\n",
       "   '[#6]1-&@[#6]-&@[#7]-&@[#8]-&@[#6]-&@1']},\n",
       " {'smiles': ['CS', None],\n",
       "  'boundary_atoms_products': [[{'S': 1}], None],\n",
       "  'nearest_neighbor_products': [[{'C': 2}], None],\n",
       "  'issue': '',\n",
       "  'Certainty': True,\n",
       "  'R-id': 'USPTO_50K_190',\n",
       "  'old_reaction': 'CSc1nc(C)c(Cc2ccccc2)c(=O)[nH]1.Cc1nc[nH]c1CSCCN>>Cc1nc[nH]c1CSCCNc1nc(C)c(Cc2ccccc2)c(=O)[nH]1',\n",
       "  'sorted_reactants': ['CSc1nc(C)c(Cc2ccccc2)c(=O)[nH]1', 'Cc1nc[nH]c1CSCCN'],\n",
       "  'carbon_balance_check': 'products',\n",
       "  'mcs_results': ['[#6]1:&@[#7]:&@[#6](-&!@[#6]):&@[#6](:&@[#6](:&@[#7]:&@1)=&!@[#8])-&!@[#6]-&!@[#6]1:&@[#6]:&@[#6]:&@[#6]:&@[#6]:&@[#6]:&@1',\n",
       "   '[#6]-&!@[#6]1:&@[#7]:&@[#6]:&@[#7]:&@[#6]:&@1-&!@[#6]-&!@[#16]-&!@[#6]-&!@[#6]-&!@[#7]']},\n",
       " {'smiles': ['Br', 'CSC'],\n",
       "  'boundary_atoms_products': [[{'Br': 0}], [{'S': 1}]],\n",
       "  'nearest_neighbor_products': [[{'C': 16}], [{'O': 3}]],\n",
       "  'issue': '',\n",
       "  'Certainty': True,\n",
       "  'R-id': 'USPTO_50K_221',\n",
       "  'old_reaction': 'NS(=O)(=O)c1ccc(cc1)-n1nc(c(CBr)c1-c1ccccc1)C(F)(F)F.CS(C)=O>>NS(=O)(=O)c1ccc(cc1)-n1nc(c(C=O)c1-c1ccccc1)C(F)(F)F',\n",
       "  'sorted_reactants': ['NS(=O)(=O)c1ccc(-n2nc(C(F)(F)F)c(CBr)c2-c2ccccc2)cc1',\n",
       "   'CS(C)=O'],\n",
       "  'carbon_balance_check': 'products',\n",
       "  'mcs_results': ['[#7]-&!@[#16](=&!@[#8])(=&!@[#8])-&!@[#6]1:&@[#6]:&@[#6]:&@[#6](:&@[#6]:&@[#6]:&@1)-&!@[#7]1:&@[#7]:&@[#6](:&@[#6](:&@[#6]:&@1-&!@[#6]1:&@[#6]:&@[#6]:&@[#6]:&@[#6]:&@[#6]:&@1)-&!@[#6])-&!@[#6](-&!@[#9])(-&!@[#9])-&!@[#9]',\n",
       "   '[#8]']},\n",
       " {'smiles': ['C', None],\n",
       "  'boundary_atoms_products': [[{'C': 0}], None],\n",
       "  'nearest_neighbor_products': [[{'O': 1}], None],\n",
       "  'issue': '',\n",
       "  'Certainty': True,\n",
       "  'R-id': 'USPTO_50K_264',\n",
       "  'old_reaction': 'COC(=O)c1scc(Br)c1OC.O>>COc1c(Br)csc1C(O)=O',\n",
       "  'sorted_reactants': ['COC(=O)c1scc(Br)c1OC', 'O'],\n",
       "  'carbon_balance_check': 'products',\n",
       "  'mcs_results': ['[#6]-&!@[#8]-&!@[#6]1:&@[#6](-&!@[#35]):&@[#6]:&@[#16]:&@[#6]:&@1-&!@[#6](-&!@[#8])=&!@[#8]',\n",
       "   '']},\n",
       " {'smiles': ['O', 'O=C1CCC(=O)N1'],\n",
       "  'boundary_atoms_products': [[{'O': 0}], [{'N': 6}]],\n",
       "  'nearest_neighbor_products': [[{'C': 13}], [{'Br': 7}]],\n",
       "  'issue': '',\n",
       "  'Certainty': True,\n",
       "  'R-id': 'USPTO_50K_265',\n",
       "  'old_reaction': 'COC1C(C)Cc2c1cc(cc2CCO)C(C)(C)C.BrN1C(=O)CCC1=O>>COC1C(C)Cc2c1cc(cc2CCBr)C(C)(C)C',\n",
       "  'sorted_reactants': ['COC1c2cc(C(C)(C)C)cc(CCO)c2CC1C', 'O=C1CCC(=O)N1Br'],\n",
       "  'carbon_balance_check': 'products',\n",
       "  'mcs_results': ['[#6]-&!@[#8]-&!@[#6]1-&@[#6](-&!@[#6])-&@[#6]-&@[#6]2:&@[#6]-&@1:&@[#6]:&@[#6](:&@[#6]:&@[#6]:&@2-&!@[#6]-&!@[#6])-&!@[#6](-&!@[#6])(-&!@[#6])-&!@[#6]',\n",
       "   '[#35]']},\n",
       " {'smiles': ['N', None, None],\n",
       "  'boundary_atoms_products': [[{'N': 0}], None, None],\n",
       "  'nearest_neighbor_products': [[{'C': 9}], None, None],\n",
       "  'issue': '',\n",
       "  'Certainty': True,\n",
       "  'R-id': 'USPTO_50K_267',\n",
       "  'old_reaction': 'COc1ncccc1CC#N.O.O>>COc1ncccc1CC(O)=O',\n",
       "  'sorted_reactants': ['COc1ncccc1CC#N', 'O', 'O'],\n",
       "  'carbon_balance_check': 'balanced',\n",
       "  'mcs_results': ['[#6]-&!@[#8]-&!@[#6]1:&@[#7]:&@[#6]:&@[#6]:&@[#6]:&@[#6]:&@1-&!@[#6]-&!@[#6]',\n",
       "   '[#8]',\n",
       "   '[#8]']},\n",
       " {'smiles': [None, 'I'],\n",
       "  'boundary_atoms_products': [None, [{'I': 0}]],\n",
       "  'nearest_neighbor_products': [None, [{'C': 0}]],\n",
       "  'issue': '',\n",
       "  'Certainty': True,\n",
       "  'R-id': 'USPTO_50K_271',\n",
       "  'old_reaction': 'CN(C)C(=O)c1ccc(NC(=O)c2cc3CCOc4cc(Br)ccc4-c3s2)c(Cl)c1.CI>>CN(C)C(=O)c1ccc(N(C)C(=O)c2cc3CCOc4cc(Br)ccc4-c3s2)c(Cl)c1',\n",
       "  'sorted_reactants': ['CN(C)C(=O)c1ccc(NC(=O)c2cc3c(s2)-c2ccc(Br)cc2OCC3)c(Cl)c1',\n",
       "   'CI'],\n",
       "  'carbon_balance_check': 'balanced',\n",
       "  'mcs_results': ['[#6]-&!@[#7](-&!@[#6])-&!@[#6](=&!@[#8])-&!@[#6]1:&@[#6]:&@[#6]:&@[#6](:&@[#6](:&@[#6]:&@1)-&!@[#17])-&!@[#7]-&!@[#6](=&!@[#8])-&!@[#6]1:&@[#6]:&@[#6]2:&@[#6](:&@[#16]:&@1)-&@[#6]1:&@[#6]:&@[#6]:&@[#6](:&@[#6]:&@[#6]:&@1-&@[#8]-&@[#6]-&@[#6]-&@2)-&!@[#35]',\n",
       "   '[#6]']},\n",
       " {'smiles': ['CO', None],\n",
       "  'boundary_atoms_products': [[{'O': 1}], None],\n",
       "  'nearest_neighbor_products': [[{'C': 2}], None],\n",
       "  'issue': '',\n",
       "  'Certainty': True,\n",
       "  'R-id': 'USPTO_50K_272',\n",
       "  'old_reaction': 'COC(=O)c1ccc(OCCNC(=O)c2oc3ccccc3c2N(C)C)cc1.NO>>CN(C)c1c(oc2ccccc12)C(=O)NCCOc1ccc(cc1)C(=O)NO',\n",
       "  'sorted_reactants': ['COC(=O)c1ccc(OCCNC(=O)c2oc3ccccc3c2N(C)C)cc1', 'NO'],\n",
       "  'carbon_balance_check': 'products',\n",
       "  'mcs_results': ['[#8]-,=;!@[#6]-&!@[#6]1:&@[#6]:&@[#6]:&@[#6](:&@[#6]:&@[#6]:&@1)-&!@[#8]-&!@[#6]-&!@[#6]-&!@[#7]-&!@[#6](=&!@[#8])-&!@[#6]1:&@[#8]:&@[#6]2:&@[#6](:&@[#6]:&@1-&!@[#7](-&!@[#6])-&!@[#6]):&@[#6]:&@[#6]:&@[#6]:&@[#6]:&@2',\n",
       "   '[#7]-&!@[#8]']},\n",
       " {'smiles': ['CO', None],\n",
       "  'boundary_atoms_products': [[{'O': 1}], None],\n",
       "  'nearest_neighbor_products': [[{'C': 2}], None],\n",
       "  'issue': '',\n",
       "  'Certainty': True,\n",
       "  'R-id': 'USPTO_50K_273',\n",
       "  'old_reaction': 'COC(=O)c1ccccc1NCc1ccnc(NC(=O)N(C)C)c1.Cc1n(C)nc2cc(N)ccc12>>CN(C)C(=O)Nc1cc(CNc2ccccc2C(=O)Nc2ccc3c(C)n(C)nc3c2)ccn1',\n",
       "  'sorted_reactants': ['COC(=O)c1ccccc1NCc1ccnc(NC(=O)N(C)C)c1',\n",
       "   'Cc1c2ccc(N)cc2nn1C'],\n",
       "  'carbon_balance_check': 'products',\n",
       "  'mcs_results': ['[#8]-,=;!@[#6]-&!@[#6]1:&@[#6]:&@[#6]:&@[#6]:&@[#6]:&@[#6]:&@1-&!@[#7]-&!@[#6]-&!@[#6]1:&@[#6]:&@[#6]:&@[#7]:&@[#6](:&@[#6]:&@1)-&!@[#7]-&!@[#6](=&!@[#8])-&!@[#7](-&!@[#6])-&!@[#6]',\n",
       "   '[#6]-&!@[#6]1:&@[#7](-&!@[#6]):&@[#7]:&@[#6]2:&@[#6]:&@1:&@[#6]:&@[#6]:&@[#6](:&@[#6]:&@2)-&!@[#7]']},\n",
       " {'smiles': [None, 'Br', None],\n",
       "  'boundary_atoms_products': [None, [{'Br': 0}], None],\n",
       "  'nearest_neighbor_products': [None, [{'C': 2}], None],\n",
       "  'issue': '',\n",
       "  'Certainty': True,\n",
       "  'R-id': 'USPTO_50K_275',\n",
       "  'old_reaction': 'CC(C)(C)c1cccc(c1O)C(C)(C)C.BrCC=C.S=C=S>>CC(C)(C)c1cc(cc(c1O)C(C)(C)C)C(=S)SCC=C',\n",
       "  'sorted_reactants': ['CC(C)(C)c1cccc(C(C)(C)C)c1O', 'C=CCBr', 'S=C=S'],\n",
       "  'carbon_balance_check': 'balanced',\n",
       "  'mcs_results': ['[#6]-&!@[#6](-&!@[#6])(-&!@[#6])-&!@[#6]1:&@[#6]:&@[#6]:&@[#6]:&@[#6](:&@[#6]:&@1-&!@[#8])-&!@[#6](-&!@[#6])(-&!@[#6])-&!@[#6]',\n",
       "   '[#6]-&!@[#6]=&!@[#6]',\n",
       "   '[#16]=&!@[#6]=,-;!@[#16]']},\n",
       " {'smiles': [None, 'Cl.Cl'],\n",
       "  'boundary_atoms_products': [None, [{'Cl': 0}, {'Cl': 1}]],\n",
       "  'nearest_neighbor_products': [None, [{'S': 1}, {'S': 1}]],\n",
       "  'issue': '',\n",
       "  'Certainty': False,\n",
       "  'R-id': 'USPTO_50K_277',\n",
       "  'old_reaction': 'Cc1ccc(cc1)S(=O)(=O)NC(c1ccccc1)C(C)(C)O.ClS(Cl)=O>>Cc1ccc(cc1)S(=O)(=O)N1C(c2ccccc2)C(C)(C)OS1=O',\n",
       "  'sorted_reactants': ['Cc1ccc(S(=O)(=O)NC(c2ccccc2)C(C)(C)O)cc1',\n",
       "   'O=S(Cl)Cl'],\n",
       "  'carbon_balance_check': 'balanced',\n",
       "  'mcs_results': ['[#6]-[#6]1:[#6]:[#6]:[#6](:[#6]:[#6]:1)-[#16](=[#8])(=[#8])-[#7]-[#6](-[#6]1:[#6]:[#6]:[#6]:[#6]:[#6]:1)-[#6](-[#6])(-[#6])-[#8]',\n",
       "   '[#16]=[#8]']},\n",
       " {'smiles': [None, 'OCC(F)(F)F'],\n",
       "  'boundary_atoms_products': [None, [{'O': 0}]],\n",
       "  'nearest_neighbor_products': [None, [{'C': 1}]],\n",
       "  'issue': '',\n",
       "  'Certainty': True,\n",
       "  'R-id': 'USPTO_50K_279',\n",
       "  'old_reaction': 'ONCc1ccccc1.FC(F)(F)COC=O>>ON(Cc1ccccc1)C=O',\n",
       "  'sorted_reactants': ['ONCc1ccccc1', 'O=COCC(F)(F)F'],\n",
       "  'carbon_balance_check': 'products',\n",
       "  'mcs_results': ['[#8]-&!@[#7]-&!@[#6]-&!@[#6]1:&@[#6]:&@[#6]:&@[#6]:&@[#6]:&@[#6]:&@1',\n",
       "   '[#6]=,-;!@[#8]']},\n",
       " {'smiles': [None, 'O'],\n",
       "  'boundary_atoms_products': [None, [{'O': 0}]],\n",
       "  'nearest_neighbor_products': [None, [{'C': 0}]],\n",
       "  'issue': '',\n",
       "  'Certainty': True,\n",
       "  'R-id': 'USPTO_50K_280',\n",
       "  'old_reaction': 'C=O.Clc1ccc-2c(CN(Cc3nnc(C4CCN(CC4)c4ccccn4)n-23)C2CCNC2)c1>>CN1CCC(C1)N1Cc2nnc(C3CCN(CC3)c3ccccn3)n2-c2ccc(Cl)cc2C1',\n",
       "  'sorted_reactants': ['Clc1ccc2c(c1)CN(C1CCNC1)Cc1nnc(C3CCN(c4ccccn4)CC3)n1-2',\n",
       "   'C=O'],\n",
       "  'carbon_balance_check': 'balanced',\n",
       "  'mcs_results': ['[#17]-&!@[#6]1:&@[#6]:&@[#6]:&@[#6]2:&@[#6](:&@[#6]:&@1)-&@[#6]-&@[#7](-&@[#6]-&@[#6]1:&@[#7]-&@2:&@[#6](:&@[#7]:&@[#7]:&@1)-&!@[#6]1-&@[#6]-&@[#6]-&@[#7](-&@[#6]-&@[#6]-&@1)-&!@[#6]1:&@[#6]:&@[#6]:&@[#6]:&@[#6]:&@[#7]:&@1)-&!@[#6]1-&@[#6]-&@[#6]-&@[#7]-&@[#6]-&@1',\n",
       "   '[#6]']},\n",
       " {'smiles': ['O'],\n",
       "  'boundary_atoms_products': [[{'O': 0}]],\n",
       "  'nearest_neighbor_products': [[{'C': 8}]],\n",
       "  'issue': '',\n",
       "  'Certainty': True,\n",
       "  'R-id': 'USPTO_50K_76',\n",
       "  'old_reaction': 'CC1(C)C2CCC1(C)C(O)C2>>CC1(C)C2CCC(C2)C1=C.O',\n",
       "  'sorted_reactants': ['CC1(C)C2CCC1(C)C(O)C2'],\n",
       "  'carbon_balance_check': 'balanced',\n",
       "  'mcs_results': ['[#6]-[#6]1(-[#6])-[#6](-[#6]-[#6])-[#6]-[#6]-[#6]-1=,-[#6]']},\n",
       " {'smiles': [None, 'O'],\n",
       "  'boundary_atoms_products': [None, [{'O': 0}]],\n",
       "  'nearest_neighbor_products': [None, [{'C': 5}]],\n",
       "  'issue': '',\n",
       "  'Certainty': True,\n",
       "  'R-id': 'USPTO_50K_83',\n",
       "  'old_reaction': '[H][C@@]1(OC(=O)C(O)=C1O)[C@@H](O)CO.CC(=O)\\\\C=C/C=O>>[H][C@]12OC(=O)[C@](O)(c3ccc(C)o3)[C@@]1(O)OC[C@@H]2O.O',\n",
       "  'sorted_reactants': ['O=C1O[C@H]([C@@H](O)CO)C(O)=C1O', 'CC(=O)/C=C\\\\C=O'],\n",
       "  'carbon_balance_check': 'balanced',\n",
       "  'mcs_results': ['[#6]1(-[#8]-[#6](-[#6](=,-[#6]-1-[#8])-[#8])=[#8])-[#6](-[#8])-[#6]-[#8]',\n",
       "   '[#6]-[#6](=,:[#8])-,:[#6]=,:[#6]-,:[#6]']},\n",
       " {'smiles': ['C[SiH](C)C.C[SiH](C)C', 'C[SiH](C)C.C[Si](C)(C)NC(=O)O'],\n",
       "  'boundary_atoms_products': [[{'Si': 5}, {'Si': 1}], [{'Si': 9}, {'O': 7}]],\n",
       "  'nearest_neighbor_products': [[{'O': 13}, {'O': 6}], [{'S': 5}, {'C': 10}]],\n",
       "  'issue': '',\n",
       "  'Certainty': False,\n",
       "  'R-id': 'USPTO_50K_84',\n",
       "  'old_reaction': 'CO[C@H]1C[C@H](S[Si](C)(C)C)[C@@H](CO1)OC(=O)N[Si](C)(C)C.CCc1cnc(O[Si](C)(C)C)nc1O[Si](C)(C)C>>CCC1=CN(C(CC2SC2CO)OC)C(=O)NC1=O.C[Si+](C)C.C[Si+](C)C.C[Si+](C)C.C[Si](C)(C)N.O=C=O',\n",
       "  'sorted_reactants': ['CCc1cnc(O[Si](C)(C)C)nc1O[Si](C)(C)C',\n",
       "   'CO[C@H]1C[C@H](S[Si](C)(C)C)[C@H](OC(=O)N[Si](C)(C)C)CO1'],\n",
       "  'carbon_balance_check': 'balanced',\n",
       "  'mcs_results': ['[#6]-[#6]-[#6]1:[#6]:[#7]:[#6](:[#7]:[#6]:1-,=[#8])-,=[#8]',\n",
       "   '[#6]-[#8]-[#6]-[#6]-[#6](-[#16])-[#6]-[#6]-[#8]']},\n",
       " {'smiles': ['OCc1ccccc1'],\n",
       "  'boundary_atoms_products': [[{'C': 1}]],\n",
       "  'nearest_neighbor_products': [[{'C': 1}]],\n",
       "  'issue': '',\n",
       "  'Certainty': True,\n",
       "  'R-id': 'USPTO_50K_90',\n",
       "  'old_reaction': '[H]C(=O)c1ccccc1>>OC(C(=O)c1ccccc1)c1ccccc1',\n",
       "  'sorted_reactants': ['O=C(c1ccccc1)C(O)c1ccccc1'],\n",
       "  'carbon_balance_check': 'reactants',\n",
       "  'mcs_results': ['[#6](=,-;!@[#8])-&!@[#6]1:&@[#6]:&@[#6]:&@[#6]:&@[#6]:&@[#6]:&@1']},\n",
       " {'smiles': [None],\n",
       "  'boundary_atoms_products': [None],\n",
       "  'nearest_neighbor_products': [None],\n",
       "  'issue': '',\n",
       "  'Certainty': True,\n",
       "  'R-id': 'USPTO_50K_107',\n",
       "  'old_reaction': 'CC1=CC=C(C)O1>>CC1=CC(=O)CC1',\n",
       "  'sorted_reactants': ['Cc1ccc(C)o1'],\n",
       "  'carbon_balance_check': 'balanced',\n",
       "  'mcs_results': ['[#6]-[#6](:,-[#6]:,-[#6]:,-[#6]-[#6]):,=[#8]']},\n",
       " {'smiles': ['C'],\n",
       "  'boundary_atoms_products': [[{'C': 0}]],\n",
       "  'nearest_neighbor_products': [[{'O': 1}]],\n",
       "  'issue': '',\n",
       "  'Certainty': True,\n",
       "  'R-id': 'USPTO_50K_160',\n",
       "  'old_reaction': 'COc1c(I)c(Cl)cc(F)c1-n1c(=O)cc(n(C)c1=O)C(F)(F)F>>Cn1c(cc(=O)n(-c2c(F)cc(Cl)c(I)c2O)c1=O)C(F)(F)F',\n",
       "  'sorted_reactants': ['COc1c(I)c(Cl)cc(F)c1-n1c(=O)cc(C(F)(F)F)n(C)c1=O'],\n",
       "  'carbon_balance_check': 'products',\n",
       "  'mcs_results': ['[#6]-&!@[#7]1:&@[#6](:&@[#6]:&@[#6](:&@[#7](:&@[#6]:&@1=&!@[#8])-&!@[#6]1:&@[#6](-&!@[#9]):&@[#6]:&@[#6](:&@[#6](:&@[#6]:&@1-&!@[#8])-&!@[#53])-&!@[#17])=&!@[#8])-&!@[#6](-&!@[#9])(-&!@[#9])-&!@[#9]']},\n",
       " {'smiles': [None],\n",
       "  'boundary_atoms_products': [None],\n",
       "  'nearest_neighbor_products': [None],\n",
       "  'issue': '',\n",
       "  'Certainty': True,\n",
       "  'R-id': 'USPTO_50K_162',\n",
       "  'old_reaction': 'CC1=C(C(=O)N(CO1)C(C)(C)C(O)c1cccc(C=C)c1)c1ccccc1>>CC1=C(C(=O)N(CO1)C(C)(C)C(=O)c1cccc(C=C)c1)c1ccccc1',\n",
       "  'sorted_reactants': ['C=Cc1cccc(C(O)C(C)(C)N2COC(C)=C(c3ccccc3)C2=O)c1'],\n",
       "  'carbon_balance_check': 'balanced',\n",
       "  'mcs_results': ['[#6]-&!@[#6]1=&@[#6](-&@[#6](=&!@[#8])-&@[#7](-&@[#6]-&@[#8]-&@1)-&!@[#6](-&!@[#6])(-&!@[#6])-&!@[#6](-,=;!@[#8])-&!@[#6]1:&@[#6]:&@[#6]:&@[#6]:&@[#6](:&@[#6]:&@1)-&!@[#6]=&!@[#6])-&!@[#6]1:&@[#6]:&@[#6]:&@[#6]:&@[#6]:&@[#6]:&@1']},\n",
       " {'smiles': ['CCC', None],\n",
       "  'boundary_atoms_products': [[{'C': 1}, {'C': 1}], None],\n",
       "  'nearest_neighbor_products': [[{'N': 7}, {'O': 18}], None],\n",
       "  'issue': '',\n",
       "  'Certainty': True,\n",
       "  'R-id': 'USPTO_50K_166',\n",
       "  'old_reaction': 'CC(C)(C)OC(=O)N1C(CC2CCCCOC2)COC1(C)C.O>>CC(C)(C)OC(=O)NC(CO)CC1CCCCOC1',\n",
       "  'sorted_reactants': ['CC(C)(C)OC(=O)N1C(CC2CCCCOC2)COC1(C)C', 'O'],\n",
       "  'carbon_balance_check': 'products',\n",
       "  'mcs_results': ['[#6]-[#6](-[#6])(-[#6])-[#8]-[#6](=[#8])-[#7]-[#6](-[#6]-[#8])-[#6]-[#6]1-[#6]-[#6]-[#6]-[#6]-[#8]-[#6]-1',\n",
       "   '']},\n",
       " {'smiles': [None, 'O'],\n",
       "  'boundary_atoms_products': [None, [{'O': 0}]],\n",
       "  'nearest_neighbor_products': [None, [{'C': 1}]],\n",
       "  'issue': '',\n",
       "  'Certainty': True,\n",
       "  'R-id': 'USPTO_50K_172',\n",
       "  'old_reaction': 'OC=O.NC1c2ccccc2COc2ccc(cc12)C(O)=O>>OC(=O)c1ccc2OCc3ccccc3C(NC=O)c2c1',\n",
       "  'sorted_reactants': ['NC1c2ccccc2COc2ccc(C(=O)O)cc21', 'O=CO'],\n",
       "  'carbon_balance_check': 'balanced',\n",
       "  'mcs_results': ['[#7]-&!@[#6]1-&@[#6]2:&@[#6]:&@[#6]:&@[#6]:&@[#6]:&@[#6]:&@2-&@[#6]-&@[#8]-&@[#6]2:&@[#6]-&@1:&@[#6]:&@[#6](:&@[#6]:&@[#6]:&@2)-&!@[#6](-&!@[#8])=&!@[#8]',\n",
       "   '[#6]=,-;!@[#8]']},\n",
       " {'smiles': ['Cl', None],\n",
       "  'boundary_atoms_products': [[{'Cl': 0}], None],\n",
       "  'nearest_neighbor_products': [[{'C': 12}], None],\n",
       "  'issue': '',\n",
       "  'Certainty': True,\n",
       "  'R-id': 'USPTO_50K_179',\n",
       "  'old_reaction': 'Cc1ccccc1N.[O-][N+](=O)c1cnc2ccccc2c1Cl>>Cc1ccccc1Nc1c(cnc2ccccc12)[N+]([O-])=O',\n",
       "  'sorted_reactants': ['O=[N+]([O-])c1cnc2ccccc2c1Cl', 'Cc1ccccc1N'],\n",
       "  'carbon_balance_check': 'balanced',\n",
       "  'mcs_results': ['[#8]-&!@[#7](=&!@[#8])-&!@[#6]1:&@[#6]:&@[#7]:&@[#6]2:&@[#6](:&@[#6]:&@1):&@[#6]:&@[#6]:&@[#6]:&@[#6]:&@2',\n",
       "   '[#6]-&!@[#6]1:&@[#6]:&@[#6]:&@[#6]:&@[#6]:&@[#6]:&@1-&!@[#7]']},\n",
       " {'smiles': ['F', None],\n",
       "  'boundary_atoms_products': [[{'F': 0}], None],\n",
       "  'nearest_neighbor_products': [[{'C': 13}], None],\n",
       "  'issue': '',\n",
       "  'Certainty': True,\n",
       "  'R-id': 'USPTO_50K_187',\n",
       "  'old_reaction': 'Cn1c(cc(=O)n(-c2cc(F)c(cc2F)[N+]([O-])=O)c1=O)C(F)(F)F.COC(=O)C(C)Oc1ncccc1O>>COC(=O)C(C)Oc1ncccc1Oc1cc(c(F)cc1[N+]([O-])=O)-n1c(=O)cc(n(C)c1=O)C(F)(F)F',\n",
       "  'sorted_reactants': ['Cn1c(C(F)(F)F)cc(=O)n(-c2cc(F)c([N+](=O)[O-])cc2F)c1=O',\n",
       "   'COC(=O)C(C)Oc1ncccc1O'],\n",
       "  'carbon_balance_check': 'balanced',\n",
       "  'mcs_results': ['[#6]-&!@[#7]1:&@[#6](:&@[#6]:&@[#6](:&@[#7](:&@[#6]:&@1=&!@[#8])-&!@[#6]1:&@[#6]:&@[#6]:&@[#6](:&@[#6]:&@[#6]:&@1-&!@[#9])-&!@[#7](-&!@[#8])=&!@[#8])=&!@[#8])-&!@[#6](-&!@[#9])(-&!@[#9])-&!@[#9]',\n",
       "   '[#6]-&!@[#8]-&!@[#6](=&!@[#8])-&!@[#6](-&!@[#6])-&!@[#8]-&!@[#6]1:&@[#7]:&@[#6]:&@[#6]:&@[#6]:&@[#6]:&@1-&!@[#8]']},\n",
       " {'smiles': [None, 'Cl'],\n",
       "  'boundary_atoms_products': [None, [{'Cl': 0}]],\n",
       "  'nearest_neighbor_products': [None, [{'C': 9}]],\n",
       "  'issue': '',\n",
       "  'Certainty': True,\n",
       "  'R-id': 'USPTO_50K_211',\n",
       "  'old_reaction': 'CCOc1ccccc1C(Cl)=O.NC(=O)c1nccc(C#N)c1N>>CCOc1ccccc1C(=O)Nc1c(ccnc1C(N)=O)C#N',\n",
       "  'sorted_reactants': ['N#Cc1ccnc(C(N)=O)c1N', 'CCOc1ccccc1C(=O)Cl'],\n",
       "  'carbon_balance_check': 'balanced',\n",
       "  'mcs_results': ['[#7]-&!@[#6](=&!@[#8])-&!@[#6]1:&@[#7]:&@[#6]:&@[#6]:&@[#6](:&@[#6]:&@1-&!@[#7])-&!@[#6]#&!@[#7]',\n",
       "   '[#6]-&!@[#6]-&!@[#8]-&!@[#6]1:&@[#6]:&@[#6]:&@[#6]:&@[#6]:&@[#6]:&@1-&!@[#6]=&!@[#8]']},\n",
       " {'smiles': ['C', None],\n",
       "  'boundary_atoms_products': [[{'C': 0}], None],\n",
       "  'nearest_neighbor_products': [[{'O': 1}], None],\n",
       "  'issue': '',\n",
       "  'Certainty': True,\n",
       "  'R-id': 'USPTO_50K_256',\n",
       "  'old_reaction': 'COC(=O)CCCCCCCn1c2cc(ccc2oc1=O)[N+]([O-])=O.O>>OC(=O)CCCCCCCn1c2cc(ccc2oc1=O)[N+]([O-])=O',\n",
       "  'sorted_reactants': ['COC(=O)CCCCCCCn1c(=O)oc2ccc([N+](=O)[O-])cc21', 'O'],\n",
       "  'carbon_balance_check': 'products',\n",
       "  'mcs_results': ['[#8]-&!@[#6](=&!@[#8])-&!@[#6]-&!@[#6]-&!@[#6]-&!@[#6]-&!@[#6]-&!@[#6]-&!@[#6]-&!@[#7]1:&@[#6]2:&@[#6]:&@[#6](:&@[#6]:&@[#6]:&@[#6]:&@2:&@[#8]:&@[#6]:&@1=&!@[#8])-&!@[#7](-&!@[#8])=&!@[#8]',\n",
       "   '']},\n",
       " {'smiles': ['Br', 'CNC', None, None],\n",
       "  'boundary_atoms_products': [[{'Br': 0}], [{'N': 1}], None, None],\n",
       "  'nearest_neighbor_products': [[{'C': 10}], [{'C': 3}], None, None],\n",
       "  'issue': '',\n",
       "  'Certainty': True,\n",
       "  'R-id': 'USPTO_50K_257',\n",
       "  'old_reaction': 'COCN(c1cc(C)cnc1Br)S(=O)(=O)c1ccc(Cl)c(c1)C(F)(F)F.CN(C)C=O.CC(C)[Mg+].[Cl-]>>COCN(c1cc(C)cnc1C=O)S(=O)(=O)c1ccc(Cl)c(c1)C(F)(F)F',\n",
       "  'sorted_reactants': ['COCN(c1cc(C)cnc1Br)S(=O)(=O)c1ccc(Cl)c(C(F)(F)F)c1',\n",
       "   'CN(C)C=O',\n",
       "   'CC(C)[Mg+]',\n",
       "   '[Cl-]'],\n",
       "  'carbon_balance_check': 'products',\n",
       "  'mcs_results': ['[#6]-&!@[#8]-&!@[#6]-&!@[#7](-&!@[#6]1:&@[#6]:&@[#6](-&!@[#6]):&@[#6]:&@[#7]:&@[#6]:&@1)-&!@[#16](=&!@[#8])(=&!@[#8])-&!@[#6]1:&@[#6]:&@[#6]:&@[#6](:&@[#6](:&@[#6]:&@1)-&!@[#6](-&!@[#9])(-&!@[#9])-&!@[#9])-&!@[#17]',\n",
       "   '[#6]=&!@[#8]',\n",
       "   '',\n",
       "   '']},\n",
       " {'smiles': [None, 'Br'],\n",
       "  'boundary_atoms_products': [None, [{'Br': 0}]],\n",
       "  'nearest_neighbor_products': [None, [{'C': 8}]],\n",
       "  'issue': '',\n",
       "  'Certainty': True,\n",
       "  'R-id': 'USPTO_50K_259',\n",
       "  'old_reaction': 'CNS(=O)(=O)c1ccc(Br)cc1.CC(C)(C)OC(=O)N1CCC(CC1)C=O>>CNS(=O)(=O)c1ccc(cc1)C(O)C1CCN(CC1)C(=O)OC(C)(C)C',\n",
       "  'sorted_reactants': ['CC(C)(C)OC(=O)N1CCC(C=O)CC1',\n",
       "   'CNS(=O)(=O)c1ccc(Br)cc1'],\n",
       "  'carbon_balance_check': 'balanced',\n",
       "  'mcs_results': ['[#6]-&!@[#6](-&!@[#6])(-&!@[#6])-&!@[#8]-&!@[#6](=&!@[#8])-&!@[#7]1-&@[#6]-&@[#6]-&@[#6](-&@[#6]-&@[#6]-&@1)-&!@[#6]=,-;!@[#8]',\n",
       "   '[#6]-&!@[#7]-&!@[#16](=&!@[#8])(=&!@[#8])-&!@[#6]1:&@[#6]:&@[#6]:&@[#6]:&@[#6]:&@[#6]:&@1']},\n",
       " {'smiles': ['CO.O.[OH-]'],\n",
       "  'boundary_atoms_products': [[{'O': 2}, {'O': 3}, {'O': 1}]],\n",
       "  'nearest_neighbor_products': [[{'N': 10}, {'N': 10}, {'C': 5}]],\n",
       "  'issue': '',\n",
       "  'Certainty': False,\n",
       "  'R-id': 'USPTO_50K_276',\n",
       "  'old_reaction': 'CCCC(CC(=O)OC)C[N+]([O-])=O>>CCCC1CNC(=O)C1',\n",
       "  'sorted_reactants': ['CCCC(CC(=O)OC)C[N+](=O)[O-]'],\n",
       "  'carbon_balance_check': 'products',\n",
       "  'mcs_results': ['[#6]-[#6]-[#6]-[#6](-[#6]-[#7])-[#6]-[#6]=[#8]']},\n",
       " {'smiles': [None, 'CC(=O)O', None],\n",
       "  'boundary_atoms_products': [None, [{'O': 3}], None],\n",
       "  'nearest_neighbor_products': [None, [{'C': 4}], None],\n",
       "  'issue': '',\n",
       "  'Certainty': True,\n",
       "  'R-id': 'USPTO_50K_512',\n",
       "  'old_reaction': 'CC(OC(C)(C)C)=O.ClC1=C(C=CC(C#N)=C1)OC2=C(C=CC=C2)Br.O>>CC(C)(C)NC(C3=CC(Cl)=C(C=C3)OC4=C(C=CC=C4)Br)=O.CC(O)=O',\n",
       "  'sorted_reactants': ['N#Cc1ccc(Oc2ccccc2Br)c(Cl)c1', 'CC(=O)OC(C)(C)C', 'O'],\n",
       "  'carbon_balance_check': 'balanced',\n",
       "  'mcs_results': ['[#17]-&!@[#6]1:&@[#6](:&@[#6]:&@[#6]:&@[#6](:&@[#6]:&@1)-&!@[#6]#,-;!@[#7])-&!@[#8]-&!@[#6]1:&@[#6](:&@[#6]:&@[#6]:&@[#6]:&@[#6]:&@1)-&!@[#35]',\n",
       "   '[#6]-&!@[#6](-&!@[#6])-&!@[#6]',\n",
       "   '[#8]']},\n",
       " {'smiles': [None, 'O.O', None],\n",
       "  'boundary_atoms_products': [None, [{'O': 0}, {'O': 1}], None],\n",
       "  'nearest_neighbor_products': [None, [{'C': 1}, {'C': 5}], None],\n",
       "  'issue': '',\n",
       "  'Certainty': False,\n",
       "  'R-id': 'USPTO_50K_64',\n",
       "  'old_reaction': 'N[C@@H](CO)C1=CC=CC=C1.O=CCCCC=O.[H]C#N>>N#C[C@H]2N3C(COC3CCC2)C4=CC=CC=C4.O.O',\n",
       "  'sorted_reactants': ['N[C@@H](CO)c1ccccc1', 'O=CCCCC=O', 'C#N'],\n",
       "  'carbon_balance_check': 'balanced',\n",
       "  'mcs_results': ['[#7]-[#6](-[#6]-[#8])-[#6]1:[#6]:[#6]:[#6]:[#6]:[#6]:1',\n",
       "   '[#6]-[#6]-[#6]-[#6]-[#6]',\n",
       "   '[#6]#[#7]']},\n",
       " {'smiles': ['CC', None],\n",
       "  'boundary_atoms_products': [[{'C': 1}], None],\n",
       "  'nearest_neighbor_products': [[{'O': 2}], None],\n",
       "  'issue': '',\n",
       "  'Certainty': True,\n",
       "  'R-id': 'USPTO_50K_229',\n",
       "  'old_reaction': 'CCOC(=O)Cc1csc(n1)-c1ccc(cc1C)C(CC)(CC)c1ccc(C=CC(O)(C(F)(F)F)C(F)(F)F)c(C)c1.O>>CCC(CC)(c1ccc(C=CC(O)(C(F)(F)F)C(F)(F)F)c(C)c1)c1ccc(-c2nc(CC(O)=O)cs2)c(C)c1',\n",
       "  'sorted_reactants': ['CCOC(=O)Cc1csc(-c2ccc(C(CC)(CC)c3ccc(C=CC(O)(C(F)(F)F)C(F)(F)F)c(C)c3)cc2C)n1',\n",
       "   'O'],\n",
       "  'carbon_balance_check': 'products',\n",
       "  'mcs_results': ['[#6]-&!@[#6]-&!@[#6](-&!@[#6]-&!@[#6])(-&!@[#6]1:&@[#6]:&@[#6]:&@[#6](:&@[#6](:&@[#6]:&@1)-&!@[#6])-&!@[#6]=&!@[#6]-&!@[#6](-&!@[#8])(-&!@[#6](-&!@[#9])(-&!@[#9])-&!@[#9])-&!@[#6](-&!@[#9])(-&!@[#9])-&!@[#9])-&!@[#6]1:&@[#6]:&@[#6]:&@[#6](:&@[#6](:&@[#6]:&@1)-&!@[#6])-&!@[#6]1:&@[#7]:&@[#6](:&@[#6]:&@[#16]:&@1)-&!@[#6]-&!@[#6](-&!@[#8])=&!@[#8]',\n",
       "   '']},\n",
       " {'smiles': ['OBO', 'O'],\n",
       "  'boundary_atoms_products': [[{'B': 1}], [{'O': 0}]],\n",
       "  'nearest_neighbor_products': [[{'C': 3}], [{'O': 0}]],\n",
       "  'issue': '',\n",
       "  'Certainty': True,\n",
       "  'R-id': 'USPTO_50K_245',\n",
       "  'old_reaction': 'OB(O)c1ccc-2c(Cc3c-2cccc3F)c1F.OO>>Oc1ccc-2c(Cc3c-2cccc3F)c1F',\n",
       "  'sorted_reactants': ['OB(O)c1ccc2c(c1F)Cc1c(F)cccc1-2', 'OO'],\n",
       "  'carbon_balance_check': 'balanced',\n",
       "  'mcs_results': ['[#6]1:&@[#6]:&@[#6]:&@[#6]2:&@[#6](:&@[#6]:&@1-&!@[#9])-&@[#6]-&@[#6]1:&@[#6]-&@2:&@[#6]:&@[#6]:&@[#6]:&@[#6]:&@1-&!@[#9]',\n",
       "   '[#8]']},\n",
       " {'smiles': [None, 'Cl.Cl'],\n",
       "  'boundary_atoms_products': [None, [{'Cl': 1}, {'Cl': 0}]],\n",
       "  'nearest_neighbor_products': [None, [{'C': 6}, {'S': 1}]],\n",
       "  'issue': '',\n",
       "  'Certainty': False,\n",
       "  'R-id': 'USPTO_50K_270',\n",
       "  'old_reaction': 'CC1(C)OB(OC1(C)C)c1ccc(N)cc1.ClCCCS(Cl)(=O)=O>>CC1(C)OB(OC1(C)C)c1ccc(cc1)N1CCCS1(=O)=O',\n",
       "  'sorted_reactants': ['CC1(C)OB(c2ccc(N)cc2)OC1(C)C', 'O=S(=O)(Cl)CCCCl'],\n",
       "  'carbon_balance_check': 'balanced',\n",
       "  'mcs_results': ['[#6]-&!@[#6]1(-&!@[#6])-&@[#8]-&@[#5](-&@[#8]-&@[#6]-&@1(-&!@[#6])-&!@[#6])-&!@[#6]1:&@[#6]:&@[#6]:&@[#6](:&@[#6]:&@[#6]:&@1)-&!@[#7]',\n",
       "   '[#6]-&!@[#6]-&!@[#6]-&!@[#16](=&!@[#8])=&!@[#8]']},\n",
       " {'smiles': ['O=[N+]([O-])c1ccc(O)cc1', None],\n",
       "  'boundary_atoms_products': [[{'O': 7}], None],\n",
       "  'nearest_neighbor_products': [[{'C': 6}], None],\n",
       "  'issue': '',\n",
       "  'Certainty': True,\n",
       "  'R-id': 'USPTO_50K_278',\n",
       "  'old_reaction': 'COc1ncc(C(=O)Oc2ccc(cc2)[N+]([O-])=O)c2cc(oc12)C(C)=O.Nc1c(Cl)cncc1Cl>>COc1ncc(C(=O)Nc2c(Cl)cncc2Cl)c2cc(oc12)C(C)=O',\n",
       "  'sorted_reactants': ['COc1ncc(C(=O)Oc2ccc([N+](=O)[O-])cc2)c2cc(C(C)=O)oc12',\n",
       "   'Nc1c(Cl)cncc1Cl'],\n",
       "  'carbon_balance_check': 'products',\n",
       "  'mcs_results': ['[#6]-&!@[#8]-&!@[#6]1:&@[#7]:&@[#6]:&@[#6](:&@[#6]2:&@[#6]:&@1:&@[#8]:&@[#6](:&@[#6]:&@2)-&!@[#6](-&!@[#6])=&!@[#8])-&!@[#6]=&!@[#8]',\n",
       "   '[#7]-&!@[#6]1:&@[#6](-&!@[#17]):&@[#6]:&@[#7]:&@[#6]:&@[#6]:&@1-&!@[#17]']}]"
      ]
     },
     "execution_count": 3,
     "metadata": {},
     "output_type": "execute_result"
    }
   ],
   "source": [
    "graph"
   ]
  },
  {
   "cell_type": "code",
   "execution_count": 11,
   "metadata": {},
   "outputs": [],
   "source": [
    "from rdkit import Chem\n",
    "rsmi = 'O=C(N)c1ccccc1>>c1ccc(cc1)N'\n",
    "reactants = rsmi.split('>>')[0]\n",
    "reactants_mol = Chem.MolFromSmiles(reactants)\n",
    "\n",
    "products = rsmi.split('>>')[1]\n",
    "products_mol = Chem.MolFromSmiles(products)"
   ]
  },
  {
   "cell_type": "code",
   "execution_count": 12,
   "metadata": {},
   "outputs": [
    {
     "name": "stdout",
     "output_type": "stream",
     "text": [
      "2023.09.2\n"
     ]
    }
   ],
   "source": [
    "from rdkit import Chem\n",
    "from rdkit.Chem import Draw\n",
    "from rdkit.Chem.Draw import rdMolDraw2D, rdDepictor\n",
    "from rdkit.Chem.Draw import IPythonConsole\n",
    "from IPython.display import SVG\n",
    "from rdkit.Chem import rdRascalMCES\n",
    "from rdkit import rdBase\n",
    "rdDepictor.SetPreferCoordGen(True)\n",
    "print(rdBase.rdkitVersion)"
   ]
  },
  {
   "cell_type": "code",
   "execution_count": 45,
   "metadata": {},
   "outputs": [],
   "source": [
    "opts = rdRascalMCES.RascalOptions()\n",
    "opts.allBestMCESs = True\n",
    "opts.similarityThreshold = 0.5\n",
    "results = rdRascalMCES.FindMCES(reactants_mol, products_mol, opts)"
   ]
  },
  {
   "cell_type": "code",
   "execution_count": null,
   "metadata": {},
   "outputs": [],
   "source": []
  },
  {
   "cell_type": "code",
   "execution_count": 46,
   "metadata": {},
   "outputs": [
    {
     "data": {
      "image/svg+xml": [
       "<svg xmlns=\"http://www.w3.org/2000/svg\" xmlns:rdkit=\"http://www.rdkit.org/xml\" xmlns:xlink=\"http://www.w3.org/1999/xlink\" version=\"1.1\" baseProfile=\"full\" xml:space=\"preserve\" width=\"500px\" height=\"250px\" viewBox=\"0 0 500 250\">\n",
       "<!-- END OF HEADER -->\n",
       "<rect style=\"opacity:1.0;fill:#FFFFFF;stroke:none\" width=\"500.0\" height=\"250.0\" x=\"0.0\" y=\"0.0\"> </rect>\n",
       "<path class=\"bond-0 atom-0 atom-1\" d=\"M 190.5,16.8 L 234.6,42.2 L 234.6,52.5 L 225.7,57.7 L 181.6,32.4 Z\" style=\"fill:#4C4CFF;fill-rule:evenodd;fill-opacity:1;stroke:#4C4CFF;stroke-width:0.0px;stroke-linecap:butt;stroke-linejoin:miter;stroke-opacity:1;\"/>\n",
       "<path class=\"bond-1 atom-1 atom-2\" d=\"M 278.6,16.6 L 287.6,32.2 L 243.6,57.7 L 234.6,52.5 L 234.6,42.2 Z\" style=\"fill:#4C4CFF;fill-rule:evenodd;fill-opacity:1;stroke:#4C4CFF;stroke-width:0.0px;stroke-linecap:butt;stroke-linejoin:miter;stroke-opacity:1;\"/>\n",
       "<path class=\"bond-2 atom-1 atom-3\" d=\"M 234.6,52.5 L 243.6,57.7 L 243.7,103.4 L 234.8,108.6 L 225.8,103.4 L 225.7,57.7 Z\" style=\"fill:#4C4CFF;fill-rule:evenodd;fill-opacity:1;stroke:#4C4CFF;stroke-width:0.0px;stroke-linecap:butt;stroke-linejoin:miter;stroke-opacity:1;\"/>\n",
       "<path class=\"bond-3 atom-3 atom-4\" d=\"M 243.7,103.4 L 292.3,131.3 L 274.4,141.7 L 234.8,118.9 L 234.8,108.6 Z\" style=\"fill:#FF0000;fill-rule:evenodd;fill-opacity:1;stroke:#FF0000;stroke-width:0.0px;stroke-linecap:butt;stroke-linejoin:miter;stroke-opacity:1;\"/>\n",
       "<path class=\"bond-8 atom-3 atom-8\" d=\"M 225.8,103.4 L 234.8,108.6 L 234.8,118.9 L 195.2,141.9 L 177.3,131.5 Z\" style=\"fill:#FF0000;fill-rule:evenodd;fill-opacity:1;stroke:#FF0000;stroke-width:0.0px;stroke-linecap:butt;stroke-linejoin:miter;stroke-opacity:1;\"/>\n",
       "<path class=\"bond-4 atom-4 atom-5\" d=\"M 292.3,131.3 L 292.4,197.7 L 274.5,187.4 L 274.4,141.7 Z\" style=\"fill:#FF0000;fill-rule:evenodd;fill-opacity:1;stroke:#FF0000;stroke-width:0.0px;stroke-linecap:butt;stroke-linejoin:miter;stroke-opacity:1;\"/>\n",
       "<path class=\"bond-5 atom-5 atom-6\" d=\"M 274.5,187.4 L 292.4,197.7 L 235.0,231.0 L 235.0,210.3 Z\" style=\"fill:#FF0000;fill-rule:evenodd;fill-opacity:1;stroke:#FF0000;stroke-width:0.0px;stroke-linecap:butt;stroke-linejoin:miter;stroke-opacity:1;\"/>\n",
       "<path class=\"bond-6 atom-6 atom-7\" d=\"M 195.3,187.6 L 235.0,210.3 L 235.0,231.0 L 177.4,198.0 Z\" style=\"fill:#FF0000;fill-rule:evenodd;fill-opacity:1;stroke:#FF0000;stroke-width:0.0px;stroke-linecap:butt;stroke-linejoin:miter;stroke-opacity:1;\"/>\n",
       "<path class=\"bond-7 atom-7 atom-8\" d=\"M 177.3,131.5 L 195.2,141.9 L 195.3,187.6 L 177.4,198.0 Z\" style=\"fill:#FF0000;fill-rule:evenodd;fill-opacity:1;stroke:#FF0000;stroke-width:0.0px;stroke-linecap:butt;stroke-linejoin:miter;stroke-opacity:1;\"/>\n",
       "<ellipse cx=\"234.8\" cy=\"108.6\" rx=\"16.8\" ry=\"16.8\" class=\"atom-3\" style=\"fill:#FF0000;fill-rule:evenodd;stroke:#FF0000;stroke-width:1.0px;stroke-linecap:butt;stroke-linejoin:miter;stroke-opacity:1\"/>\n",
       "<ellipse cx=\"283.4\" cy=\"136.5\" rx=\"16.8\" ry=\"16.8\" class=\"atom-4\" style=\"fill:#FF0000;fill-rule:evenodd;stroke:#FF0000;stroke-width:1.0px;stroke-linecap:butt;stroke-linejoin:miter;stroke-opacity:1\"/>\n",
       "<ellipse cx=\"283.5\" cy=\"192.6\" rx=\"16.8\" ry=\"16.8\" class=\"atom-5\" style=\"fill:#FF0000;fill-rule:evenodd;stroke:#FF0000;stroke-width:1.0px;stroke-linecap:butt;stroke-linejoin:miter;stroke-opacity:1\"/>\n",
       "<ellipse cx=\"235.0\" cy=\"220.7\" rx=\"16.8\" ry=\"16.8\" class=\"atom-6\" style=\"fill:#FF0000;fill-rule:evenodd;stroke:#FF0000;stroke-width:1.0px;stroke-linecap:butt;stroke-linejoin:miter;stroke-opacity:1\"/>\n",
       "<ellipse cx=\"186.4\" cy=\"192.8\" rx=\"16.8\" ry=\"16.8\" class=\"atom-7\" style=\"fill:#FF0000;fill-rule:evenodd;stroke:#FF0000;stroke-width:1.0px;stroke-linecap:butt;stroke-linejoin:miter;stroke-opacity:1\"/>\n",
       "<ellipse cx=\"186.3\" cy=\"136.7\" rx=\"16.8\" ry=\"16.8\" class=\"atom-8\" style=\"fill:#FF0000;fill-rule:evenodd;stroke:#FF0000;stroke-width:1.0px;stroke-linecap:butt;stroke-linejoin:miter;stroke-opacity:1\"/>\n",
       "<path class=\"bond-0 atom-0 atom-1\" d=\"M 200.9,28.3 L 219.9,39.2\" style=\"fill:none;fill-rule:evenodd;stroke:#FF0000;stroke-width:2.0px;stroke-linecap:butt;stroke-linejoin:miter;stroke-opacity:1\"/>\n",
       "<path class=\"bond-0 atom-0 atom-1\" d=\"M 219.9,39.2 L 238.8,50.1\" style=\"fill:none;fill-rule:evenodd;stroke:#000000;stroke-width:2.0px;stroke-linecap:butt;stroke-linejoin:miter;stroke-opacity:1\"/>\n",
       "<path class=\"bond-0 atom-0 atom-1\" d=\"M 196.7,35.6 L 215.7,46.5\" style=\"fill:none;fill-rule:evenodd;stroke:#FF0000;stroke-width:2.0px;stroke-linecap:butt;stroke-linejoin:miter;stroke-opacity:1\"/>\n",
       "<path class=\"bond-0 atom-0 atom-1\" d=\"M 215.7,46.5 L 234.7,57.4\" style=\"fill:none;fill-rule:evenodd;stroke:#000000;stroke-width:2.0px;stroke-linecap:butt;stroke-linejoin:miter;stroke-opacity:1\"/>\n",
       "<path class=\"bond-1 atom-1 atom-2\" d=\"M 234.6,52.5 L 253.4,41.6\" style=\"fill:none;fill-rule:evenodd;stroke:#000000;stroke-width:2.0px;stroke-linecap:butt;stroke-linejoin:miter;stroke-opacity:1\"/>\n",
       "<path class=\"bond-1 atom-1 atom-2\" d=\"M 253.4,41.6 L 272.3,30.7\" style=\"fill:none;fill-rule:evenodd;stroke:#0000FF;stroke-width:2.0px;stroke-linecap:butt;stroke-linejoin:miter;stroke-opacity:1\"/>\n",
       "<path class=\"bond-2 atom-1 atom-3\" d=\"M 234.6,52.5 L 234.8,108.6\" style=\"fill:none;fill-rule:evenodd;stroke:#000000;stroke-width:2.0px;stroke-linecap:butt;stroke-linejoin:miter;stroke-opacity:1\"/>\n",
       "<path class=\"bond-3 atom-3 atom-4\" d=\"M 234.8,108.6 L 283.4,136.5\" style=\"fill:none;fill-rule:evenodd;stroke:#000000;stroke-width:2.0px;stroke-linecap:butt;stroke-linejoin:miter;stroke-opacity:1\"/>\n",
       "<path class=\"bond-3 atom-3 atom-4\" d=\"M 234.8,118.3 L 275.0,141.4\" style=\"fill:none;fill-rule:evenodd;stroke:#000000;stroke-width:2.0px;stroke-linecap:butt;stroke-linejoin:miter;stroke-opacity:1\"/>\n",
       "<path class=\"bond-4 atom-4 atom-5\" d=\"M 283.4,136.5 L 283.5,192.6\" style=\"fill:none;fill-rule:evenodd;stroke:#000000;stroke-width:2.0px;stroke-linecap:butt;stroke-linejoin:miter;stroke-opacity:1\"/>\n",
       "<path class=\"bond-5 atom-5 atom-6\" d=\"M 283.5,192.6 L 235.0,220.7\" style=\"fill:none;fill-rule:evenodd;stroke:#000000;stroke-width:2.0px;stroke-linecap:butt;stroke-linejoin:miter;stroke-opacity:1\"/>\n",
       "<path class=\"bond-5 atom-5 atom-6\" d=\"M 275.0,187.7 L 235.0,211.0\" style=\"fill:none;fill-rule:evenodd;stroke:#000000;stroke-width:2.0px;stroke-linecap:butt;stroke-linejoin:miter;stroke-opacity:1\"/>\n",
       "<path class=\"bond-6 atom-6 atom-7\" d=\"M 235.0,220.7 L 186.4,192.8\" style=\"fill:none;fill-rule:evenodd;stroke:#000000;stroke-width:2.0px;stroke-linecap:butt;stroke-linejoin:miter;stroke-opacity:1\"/>\n",
       "<path class=\"bond-7 atom-7 atom-8\" d=\"M 186.4,192.8 L 186.3,136.7\" style=\"fill:none;fill-rule:evenodd;stroke:#000000;stroke-width:2.0px;stroke-linecap:butt;stroke-linejoin:miter;stroke-opacity:1\"/>\n",
       "<path class=\"bond-7 atom-7 atom-8\" d=\"M 194.8,187.9 L 194.7,141.5\" style=\"fill:none;fill-rule:evenodd;stroke:#000000;stroke-width:2.0px;stroke-linecap:butt;stroke-linejoin:miter;stroke-opacity:1\"/>\n",
       "<path class=\"bond-8 atom-8 atom-3\" d=\"M 186.3,136.7 L 234.8,108.6\" style=\"fill:none;fill-rule:evenodd;stroke:#000000;stroke-width:2.0px;stroke-linecap:butt;stroke-linejoin:miter;stroke-opacity:1\"/>\n",
       "<path d=\"M 235.6,52.0 L 234.6,52.5 L 234.6,55.3\" style=\"fill:none;stroke:#000000;stroke-width:2.0px;stroke-linecap:butt;stroke-linejoin:miter;stroke-opacity:1;\"/>\n",
       "<path d=\"M 280.9,135.1 L 283.4,136.5 L 283.4,139.3\" style=\"fill:none;stroke:#000000;stroke-width:2.0px;stroke-linecap:butt;stroke-linejoin:miter;stroke-opacity:1;\"/>\n",
       "<path d=\"M 283.5,189.8 L 283.5,192.6 L 281.0,194.0\" style=\"fill:none;stroke:#000000;stroke-width:2.0px;stroke-linecap:butt;stroke-linejoin:miter;stroke-opacity:1;\"/>\n",
       "<path d=\"M 237.4,219.3 L 235.0,220.7 L 232.6,219.3\" style=\"fill:none;stroke:#000000;stroke-width:2.0px;stroke-linecap:butt;stroke-linejoin:miter;stroke-opacity:1;\"/>\n",
       "<path d=\"M 188.8,194.2 L 186.4,192.8 L 186.4,190.0\" style=\"fill:none;stroke:#000000;stroke-width:2.0px;stroke-linecap:butt;stroke-linejoin:miter;stroke-opacity:1;\"/>\n",
       "<path d=\"M 186.3,139.5 L 186.3,136.7 L 188.7,135.3\" style=\"fill:none;stroke:#000000;stroke-width:2.0px;stroke-linecap:butt;stroke-linejoin:miter;stroke-opacity:1;\"/>\n",
       "<path class=\"atom-0\" d=\"M 175.1 24.7 Q 175.1 19.0, 177.9 15.8 Q 180.8 12.6, 186.0 12.6 Q 191.3 12.6, 194.2 15.8 Q 197.0 19.0, 197.0 24.7 Q 197.0 30.5, 194.1 33.8 Q 191.3 37.0, 186.0 37.0 Q 180.8 37.0, 177.9 33.8 Q 175.1 30.5, 175.1 24.7 M 186.0 34.3 Q 189.7 34.3, 191.6 31.9 Q 193.6 29.5, 193.6 24.7 Q 193.6 20.0, 191.6 17.6 Q 189.7 15.3, 186.0 15.3 Q 182.4 15.3, 180.4 17.6 Q 178.5 20.0, 178.5 24.7 Q 178.5 29.5, 180.4 31.9 Q 182.4 34.3, 186.0 34.3 \" fill=\"#FF0000\"/>\n",
       "<path class=\"atom-2\" d=\"M 277.9 12.5 L 285.7 25.1 Q 286.4 26.4, 287.7 28.6 Q 288.9 30.9, 289.0 31.0 L 289.0 12.5 L 292.2 12.5 L 292.2 36.3 L 288.9 36.3 L 280.5 22.5 Q 279.5 20.9, 278.5 19.1 Q 277.5 17.2, 277.2 16.6 L 277.2 36.3 L 274.1 36.3 L 274.1 12.5 L 277.9 12.5 \" fill=\"#0000FF\"/>\n",
       "<path class=\"atom-2\" d=\"M 296.7 12.5 L 299.9 12.5 L 299.9 22.6 L 312.1 22.6 L 312.1 12.5 L 315.3 12.5 L 315.3 36.3 L 312.1 36.3 L 312.1 25.3 L 299.9 25.3 L 299.9 36.3 L 296.7 36.3 L 296.7 12.5 \" fill=\"#0000FF\"/>\n",
       "<path class=\"atom-2\" d=\"M 320.0 35.5 Q 320.6 34.0, 322.0 33.2 Q 323.3 32.3, 325.2 32.3 Q 327.6 32.3, 328.9 33.6 Q 330.3 34.9, 330.3 37.2 Q 330.3 39.5, 328.5 41.7 Q 326.8 43.9, 323.3 46.4 L 330.5 46.4 L 330.5 48.2 L 320.0 48.2 L 320.0 46.7 Q 322.9 44.6, 324.6 43.1 Q 326.4 41.5, 327.2 40.1 Q 328.1 38.7, 328.1 37.3 Q 328.1 35.8, 327.3 34.9 Q 326.6 34.1, 325.2 34.1 Q 324.0 34.1, 323.1 34.6 Q 322.3 35.1, 321.7 36.3 L 320.0 35.5 \" fill=\"#0000FF\"/>\n",
       "</svg>"
      ],
      "text/plain": [
       "<IPython.core.display.SVG object>"
      ]
     },
     "execution_count": 46,
     "metadata": {},
     "output_type": "execute_result"
    }
   ],
   "source": [
    "def extractHighlights(res):\n",
    "    bondHighlights1 = {}\n",
    "    bondHighlights2 = {}\n",
    "    for bondPair in res.bondMatches():\n",
    "        bondHighlights1[bondPair[0]] = (1.0, 0.0, 0.0)\n",
    "        bondHighlights2[bondPair[1]] = (1.0, 0.0, 0.0)\n",
    "    atomHighlights1 = {}\n",
    "    atomHighlights2 = {}\n",
    "    for atomPair in res.atomMatches():\n",
    "        atomHighlights1[atomPair[0]] = (1.0, 0.0, 0.0)\n",
    "        atomHighlights2[atomPair[1]] = (1.0, 0.0, 0.0)\n",
    "    return bondHighlights1, bondHighlights2, atomHighlights1, atomHighlights2\n",
    "\n",
    "def drawMCESMatch(mol1, bondHighlights, atomHighlights, highlightNonmatches=(0.3,0.3,1.0)):    \n",
    "    d = rdMolDraw2D.MolDraw2DSVG(500, 250)\n",
    "    if highlightNonmatches:\n",
    "        for bnd in mol1.GetBonds():\n",
    "            if bnd.GetIdx() not in bondHighlights:\n",
    "                bondHighlights[bnd.GetIdx()] = highlightNonmatches\n",
    "    d.DrawMolecule(mol1,highlightAtoms=atomHighlights.keys(),highlightBonds=bondHighlights.keys(),\n",
    "                   highlightAtomColors=atomHighlights,highlightBondColors=bondHighlights)\n",
    "    d.FinishDrawing()\n",
    "    return d\n",
    "\n",
    "res= results[0]\n",
    "bondHighlights1, bondHighlights2, atomHighlights1, atomHighlights2 = extractHighlights(res)\n",
    "d = drawMCESMatch(reactants_mol, bondHighlights1, atomHighlights1)\n",
    "SVG(d.GetDrawingText())"
   ]
  },
  {
   "cell_type": "code",
   "execution_count": 42,
   "metadata": {},
   "outputs": [
    {
     "data": {
      "text/plain": [
       "<rdkit.Chem.rdRascalMCES.RascalResult at 0x7fe8cb604140>"
      ]
     },
     "execution_count": 42,
     "metadata": {},
     "output_type": "execute_result"
    }
   ],
   "source": [
    "results[0]"
   ]
  },
  {
   "cell_type": "code",
   "execution_count": 44,
   "metadata": {},
   "outputs": [
    {
     "name": "stdout",
     "output_type": "stream",
     "text": [
      "c1:c:c:c:c:c:1\n"
     ]
    }
   ],
   "source": [
    "print(f'{results[0].smartsString}')"
   ]
  },
  {
   "cell_type": "code",
   "execution_count": 37,
   "metadata": {},
   "outputs": [
    {
     "data": {
      "image/png": "[encoded data removed]",
      "text/plain": [
       "<rdkit.Chem.rdchem.Mol at 0x7fe8cb67b040>"
      ]
     },
     "execution_count": 37,
     "metadata": {},
     "output_type": "execute_result"
    }
   ],
   "source": [
    "reactants_mol"
   ]
  },
  {
   "cell_type": "code",
   "execution_count": 39,
   "metadata": {},
   "outputs": [
    {
     "data": {
      "image/png": "[encoded data removed]",
      "text/plain": [
       "<rdkit.Chem.rdchem.Mol at 0x7fe8cb619b30>"
      ]
     },
     "execution_count": 39,
     "metadata": {},
     "output_type": "execute_result"
    }
   ],
   "source": [
    "Chem.MolFromSmarts(results[0].smartsString)"
   ]
  },
  {
   "cell_type": "code",
   "execution_count": 17,
   "metadata": {},
   "outputs": [
    {
     "data": {
      "image/png": "[encoded data removed]",
      "text/plain": [
       "<rdkit.Chem.rdchem.Mol at 0x7fe8cb67b120>"
      ]
     },
     "execution_count": 17,
     "metadata": {},
     "output_type": "execute_result"
    }
   ],
   "source": [
    "products_mol"
   ]
  },
  {
   "cell_type": "code",
   "execution_count": 15,
   "metadata": {},
   "outputs": [
    {
     "data": {
      "text/plain": [
       "[]"
      ]
     },
     "execution_count": 15,
     "metadata": {},
     "output_type": "execute_result"
    }
   ],
   "source": [
    "results"
   ]
  },
  {
   "cell_type": "code",
   "execution_count": null,
   "metadata": {},
   "outputs": [],
   "source": []
  },
  {
   "cell_type": "code",
   "execution_count": 7,
   "metadata": {},
   "outputs": [
    {
     "data": {
      "image/png": "[encoded data removed]",
      "text/plain": [
       "<rdkit.Chem.rdchem.Mol at 0x7fe8cb632c10>"
      ]
     },
     "execution_count": 7,
     "metadata": {},
     "output_type": "execute_result"
    }
   ],
   "source": [
    "from rdkit import Chem\n",
    "Chem.MolFromSmiles('OCC(F)(F)F')"
   ]
  },
  {
   "cell_type": "code",
   "execution_count": 5,
   "metadata": {},
   "outputs": [
    {
     "data": {
      "image/png": "[encoded data removed]",
      "text/plain": [
       "<Figure size 3000x1500 with 1 Axes>"
      ]
     },
     "metadata": {},
     "output_type": "display_data"
    }
   ],
   "source": [
    "from SynRBL.SynVis.reaction_visualizer import ReactionVisualizer\n",
    "vis = ReactionVisualizer()\n",
    "vis.plot_reactions(graph[1], 'old_reaction', 'old_reaction', compare=False, show_atom_numbers=False)"
   ]
  },
  {
   "cell_type": "code",
   "execution_count": 60,
   "metadata": {},
   "outputs": [
    {
     "data": {
      "text/plain": [
       "True"
      ]
     },
     "execution_count": 60,
     "metadata": {},
     "output_type": "execute_result"
    }
   ],
   "source": [
    "from rdkit import Chem\n",
    "\n",
    "def count_rings(smiles):\n",
    "    \"\"\"\n",
    "    Count the number of rings in a chemical compound given its SMILES representation.\n",
    "\n",
    "    :param smiles: A string representing the chemical compound in SMILES format.\n",
    "    :return: The number of rings in the compound.\n",
    "    \"\"\"\n",
    "    # Convert the SMILES string to an RDKit molecule object\n",
    "    mol = Chem.MolFromSmiles(smiles)\n",
    "\n",
    "    # Check if the molecule object is valid\n",
    "    if not mol:\n",
    "        raise ValueError(\"Invalid SMILES string\")\n",
    "\n",
    "    # Use RDKit's GetSSSR function to find the smallest set of smallest rings\n",
    "    num_rings = len(Chem.GetSSSR(mol))\n",
    "\n",
    "    return num_rings\n",
    "\n",
    "def check_rings_reactions(reactants_smiles, products_smiles):\n",
    "    \"\"\"\n",
    "    Count the number of rings in a chemical compound given its SMILES representation.\n",
    "\n",
    "    :param smiles: A string representing the chemical compound in SMILES format.\n",
    "    :return: The number of rings in the compound.\n",
    "    \"\"\"\n",
    "    # Convert the SMILES string to an RDKit molecule object\n",
    "    reactants_mol = Chem.MolFromSmiles(reactants_smiles)\n",
    "    products_mol = Chem.MolFromSmiles(products_smiles)\n",
    "\n",
    "    # Check if the molecule object is valid\n",
    "    if not reactants_mol or not products_mol:\n",
    "        raise ValueError(\"Invalid SMILES string\")\n",
    "\n",
    "    # Use RDKit's GetSSSR function to find the smallest set of smallest rings\n",
    "    reactants_num_rings = len(Chem.GetSSSR(reactants_mol))\n",
    "    products_num_rings = len(Chem.GetSSSR(products_mol))\n",
    "\n",
    "    if reactants_num_rings >= products_num_rings:\n",
    "        return False\n",
    "    else:\n",
    "        return True\n",
    "    \n",
    "\n",
    "reactants_smiles = 'C=C-C=C.C=C'\n",
    "products_smiles = 'C1CCCC=C1'\n",
    "\n",
    "check_rings_reactions(reactants_smiles, products_smiles)"
   ]
  },
  {
   "cell_type": "code",
   "execution_count": 58,
   "metadata": {},
   "outputs": [
    {
     "data": {
      "text/plain": [
       "True"
      ]
     },
     "execution_count": 58,
     "metadata": {},
     "output_type": "execute_result"
    }
   ],
   "source": [
    "\n"
   ]
  },
  {
   "cell_type": "code",
   "execution_count": 55,
   "metadata": {},
   "outputs": [
    {
     "data": {
      "image/png": "[encoded data removed]",
      "text/plain": [
       "<rdkit.Chem.rdchem.Mol at 0x7fe8cb5cb510>"
      ]
     },
     "execution_count": 55,
     "metadata": {},
     "output_type": "execute_result"
    }
   ],
   "source": []
  },
  {
   "cell_type": "code",
   "execution_count": 50,
   "metadata": {},
   "outputs": [
    {
     "name": "stdout",
     "output_type": "stream",
     "text": [
      "Number of rings: 1\n"
     ]
    }
   ],
   "source": [
    "\n",
    "\n",
    "# Example usage\n",
    "smiles_example = 'C1=CC=CC=C1'  # Benzene\n",
    "print(\"Number of rings:\", count_rings(smiles_example))"
   ]
  },
  {
   "cell_type": "code",
   "execution_count": 52,
   "metadata": {},
   "outputs": [
    {
     "data": {
      "text/plain": [
       "2"
      ]
     },
     "execution_count": 52,
     "metadata": {},
     "output_type": "execute_result"
    }
   ],
   "source": [
    "count_rings('C1=CC=C(C=C1)N2C=CC=N2')"
   ]
  },
  {
   "cell_type": "code",
   "execution_count": null,
   "metadata": {},
   "outputs": [],
   "source": []
  }
 ],
 "metadata": {
  "kernelspec": {
   "display_name": "SynRBL",
   "language": "python",
   "name": "python3"
  },
  "language_info": {
   "codemirror_mode": {
    "name": "ipython",
    "version": 3
   },
   "file_extension": ".py",
   "mimetype": "text/x-python",
   "name": "python",
   "nbconvert_exporter": "python",
   "pygments_lexer": "ipython3",
   "version": "3.9.18"
  }
 },
 "nbformat": 4,
 "nbformat_minor": 2
}
