{
 "cells": [
  {
   "cell_type": "code",
   "execution_count": 1,
   "metadata": {},
   "outputs": [],
   "source": [
    "import sys\n",
    "import pandas as pd\n",
    "import logging\n",
    "sys.path.append('../../')\n",
    "\n",
    "from SynRBL.preprocess import preprocess\n",
    "from SynRBL.postprocess import Validator\n",
    "from SynRBL.rule_based import RuleBasedMethod\n",
    "from SynRBL.mcs import MCS\n",
    "from SynRBL.SynMCSImputer.model import MCSBasedMethod\n",
    "from SynRBL.confidence_prediction import ConfidencePredictor\n",
    "\n",
    "logger = logging.getLogger(\"SynRBL\")\n",
    "\n",
    "df = pd.read_csv('../../Data/Validation_set/USPTO_50K.csv')\n",
    "df = df.iloc[:100, :]"
   ]
  },
  {
   "cell_type": "code",
   "execution_count": 2,
   "metadata": {},
   "outputs": [],
   "source": [
    "df = df.to_dict(\"records\")"
   ]
  },
  {
   "cell_type": "code",
   "execution_count": 3,
   "metadata": {},
   "outputs": [
    {
     "name": "stderr",
     "output_type": "stream",
     "text": [
      "/homes/biertank/tieu/miniconda3/envs/SynRBL/lib/python3.11/site-packages/sklearn/base.py:376: InconsistentVersionWarning: Trying to unpickle estimator MinMaxScaler from version 1.4.0 when using version 1.4.1.post1. This might lead to breaking code or invalid results. Use at your own risk. For more info please refer to:\n",
      "https://scikit-learn.org/stable/model_persistence.html#security-maintainability-limitations\n",
      "  warnings.warn(\n",
      "/homes/biertank/tieu/miniconda3/envs/SynRBL/lib/python3.11/site-packages/sklearn/base.py:376: InconsistentVersionWarning: Trying to unpickle estimator NearestNeighbors from version 1.4.0 when using version 1.4.1.post1. This might lead to breaking code or invalid results. Use at your own risk. For more info please refer to:\n",
      "https://scikit-learn.org/stable/model_persistence.html#security-maintainability-limitations\n",
      "  warnings.warn(\n"
     ]
    },
    {
     "ename": "UnboundLocalError",
     "evalue": "cannot access local variable 'max_condition' where it is not associated with a value",
     "output_type": "error",
     "traceback": [
      "\u001b[0;31m---------------------------------------------------------------------------\u001b[0m",
      "\u001b[0;31mUnboundLocalError\u001b[0m                         Traceback (most recent call last)",
      "\u001b[1;32m/homes/biertank/tieu/Documents/Project/SynRBL/Docs/Examples/notebook.ipynb Cell 3\u001b[0m line \u001b[0;36m5\n\u001b[1;32m      <a href='vscode-notebook-cell:/homes/biertank/tieu/Documents/Project/SynRBL/Docs/Examples/notebook.ipynb#X20sZmlsZQ%3D%3D?line=1'>2</a>\u001b[0m test \u001b[39m=\u001b[39m [\u001b[39m'\u001b[39m\u001b[39m[C]=O.C1=CC2CC1C1CC3C4C=CC(C4)C3C21.C1=CC2C(C1)C1CC2C2C3C=CC(C3)C12>>\u001b[39m\u001b[39m'\u001b[39m]\n\u001b[1;32m      <a href='vscode-notebook-cell:/homes/biertank/tieu/Documents/Project/SynRBL/Docs/Examples/notebook.ipynb#X20sZmlsZQ%3D%3D?line=2'>3</a>\u001b[0m synrbl \u001b[39m=\u001b[39m Balancer(reaction_col\u001b[39m=\u001b[39m\u001b[39m\"\u001b[39m\u001b[39mreactions\u001b[39m\u001b[39m\"\u001b[39m, id_col\u001b[39m=\u001b[39m\u001b[39m\"\u001b[39m\u001b[39mid\u001b[39m\u001b[39m\"\u001b[39m)\n\u001b[0;32m----> <a href='vscode-notebook-cell:/homes/biertank/tieu/Documents/Project/SynRBL/Docs/Examples/notebook.ipynb#X20sZmlsZQ%3D%3D?line=4'>5</a>\u001b[0m results \u001b[39m=\u001b[39m synrbl\u001b[39m.\u001b[39;49mrebalance(reactions\u001b[39m=\u001b[39;49mtest, output_dict\u001b[39m=\u001b[39;49m\u001b[39mTrue\u001b[39;49;00m)\n",
      "File \u001b[0;32m~/Documents/Project/SynRBL/Docs/Examples/../../SynRBL/main.py:85\u001b[0m, in \u001b[0;36mBalancer.rebalance\u001b[0;34m(self, reactions, output_dict, stats)\u001b[0m\n\u001b[1;32m     83\u001b[0m \u001b[39mif\u001b[39;00m \u001b[39misinstance\u001b[39m(reactions[\u001b[39m0\u001b[39m], \u001b[39mstr\u001b[39m):\n\u001b[1;32m     84\u001b[0m     reactions \u001b[39m=\u001b[39m pd\u001b[39m.\u001b[39mDataFrame({\u001b[39mself\u001b[39m\u001b[39m.\u001b[39m__reaction_col: reactions})\n\u001b[0;32m---> 85\u001b[0m result \u001b[39m=\u001b[39m \u001b[39mself\u001b[39;49m\u001b[39m.\u001b[39;49m__run_pipeline(copy\u001b[39m.\u001b[39;49mdeepcopy(reactions), stats)\n\u001b[1;32m     87\u001b[0m \u001b[39mif\u001b[39;00m output_dict:\n\u001b[1;32m     88\u001b[0m     output \u001b[39m=\u001b[39m []\n",
      "File \u001b[0;32m~/Documents/Project/SynRBL/Docs/Examples/../../SynRBL/main.py:57\u001b[0m, in \u001b[0;36mBalancer.__run_pipeline\u001b[0;34m(self, reactions, stats)\u001b[0m\n\u001b[1;32m     54\u001b[0m \u001b[39mself\u001b[39m\u001b[39m.\u001b[39mrb_method\u001b[39m.\u001b[39mrun(reactions, stats\u001b[39m=\u001b[39mstats)\n\u001b[1;32m     55\u001b[0m \u001b[39mself\u001b[39m\u001b[39m.\u001b[39mrb_validator\u001b[39m.\u001b[39mcheck(reactions)\n\u001b[0;32m---> 57\u001b[0m \u001b[39mself\u001b[39;49m\u001b[39m.\u001b[39;49mmcs\u001b[39m.\u001b[39;49mfind(reactions)\n\u001b[1;32m     59\u001b[0m logger\u001b[39m.\u001b[39minfo(\u001b[39m\"\u001b[39m\u001b[39mImpute missing compounds from MCS.\u001b[39m\u001b[39m\"\u001b[39m)\n\u001b[1;32m     60\u001b[0m \u001b[39mself\u001b[39m\u001b[39m.\u001b[39mmcs_method\u001b[39m.\u001b[39mrun(reactions, stats\u001b[39m=\u001b[39mstats)\n",
      "File \u001b[0;32m~/Documents/Project/SynRBL/Docs/Examples/../../SynRBL/mcs.py:71\u001b[0m, in \u001b[0;36mMCS.find\u001b[0;34m(self, reactions)\u001b[0m\n\u001b[1;32m     66\u001b[0m condition_results \u001b[39m=\u001b[39m ensemble_mcs(\n\u001b[1;32m     67\u001b[0m     mcs_reactions, \u001b[39mself\u001b[39m\u001b[39m.\u001b[39mconditions, batch_size\u001b[39m=\u001b[39m\u001b[39m5000\u001b[39m, Timeout\u001b[39m=\u001b[39m\u001b[39m90\u001b[39m\n\u001b[1;32m     68\u001b[0m )\n\u001b[1;32m     70\u001b[0m analysis \u001b[39m=\u001b[39m ExtractMCS()\n\u001b[0;32m---> 71\u001b[0m mcs_dict, _ \u001b[39m=\u001b[39m analysis\u001b[39m.\u001b[39;49mextract_matching_conditions(\n\u001b[1;32m     72\u001b[0m     \u001b[39m0\u001b[39;49m,\n\u001b[1;32m     73\u001b[0m     \u001b[39m100\u001b[39;49m,\n\u001b[1;32m     74\u001b[0m     \u001b[39m*\u001b[39;49mcondition_results,\n\u001b[1;32m     75\u001b[0m     extraction_method\u001b[39m=\u001b[39;49m\u001b[39m\"\u001b[39;49m\u001b[39mlargest_mcs\u001b[39;49m\u001b[39m\"\u001b[39;49m,\n\u001b[1;32m     76\u001b[0m     using_threshold\u001b[39m=\u001b[39;49m\u001b[39mTrue\u001b[39;49;00m,\n\u001b[1;32m     77\u001b[0m )\n\u001b[1;32m     79\u001b[0m missing_results_largest \u001b[39m=\u001b[39m find_graph_dict(mcs_dict)\n\u001b[1;32m     81\u001b[0m \u001b[39massert\u001b[39;00m \u001b[39mlen\u001b[39m(mcs_dict) \u001b[39m==\u001b[39m \u001b[39mlen\u001b[39m(missing_results_largest)\n",
      "File \u001b[0;32m~/Documents/Project/SynRBL/Docs/Examples/../../SynRBL/SynMCSImputer/SubStructure/extract_common_mcs.py:195\u001b[0m, in \u001b[0;36mExtractMCS.extract_matching_conditions\u001b[0;34m(self, lower_threshold, upper_threshold, extraction_method, using_threshold, *conditions)\u001b[0m\n\u001b[1;32m    193\u001b[0m \u001b[39melif\u001b[39;00m extraction_method \u001b[39m==\u001b[39m \u001b[39m'\u001b[39m\u001b[39mlargest_mcs\u001b[39m\u001b[39m'\u001b[39m:\n\u001b[1;32m    194\u001b[0m     total_atoms_conditions \u001b[39m=\u001b[39m [ExtractMCS\u001b[39m.\u001b[39mcalculate_total_number_atoms_mcs_parallel(condition, n_jobs\u001b[39m=\u001b[39m\u001b[39m4\u001b[39m) \u001b[39mfor\u001b[39;00m condition \u001b[39min\u001b[39;00m conditions]\n\u001b[0;32m--> 195\u001b[0m     _, reference_results_list \u001b[39m=\u001b[39m ExtractMCS\u001b[39m.\u001b[39;49mcompare_conditions_and_get_largest(total_atoms_conditions, \u001b[39m*\u001b[39;49mconditions)\n\u001b[1;32m    196\u001b[0m     \u001b[39mif\u001b[39;00m using_threshold:\n\u001b[1;32m    197\u001b[0m         threshold_index, _ \u001b[39m=\u001b[39m \u001b[39mself\u001b[39m\u001b[39m.\u001b[39mextract_common_mcs_index(lower_threshold, upper_threshold, \u001b[39m*\u001b[39mconditions)\n",
      "File \u001b[0;32m~/Documents/Project/SynRBL/Docs/Examples/../../SynRBL/SynMCSImputer/SubStructure/extract_common_mcs.py:168\u001b[0m, in \u001b[0;36mExtractMCS.compare_conditions_and_get_largest\u001b[0;34m(total_atoms_conditions, *conditions)\u001b[0m\n\u001b[1;32m    165\u001b[0m     max_condition \u001b[39m=\u001b[39m tied_conditions[\u001b[39m0\u001b[39m][\u001b[39m0\u001b[39m] \u001b[39mif\u001b[39;00m tied_conditions \u001b[39melse\u001b[39;00m \u001b[39m-\u001b[39m\u001b[39m1\u001b[39m\n\u001b[1;32m    166\u001b[0m     max_mcs \u001b[39m=\u001b[39m conditions[max_condition][idx][\u001b[39m'\u001b[39m\u001b[39mmcs_results\u001b[39m\u001b[39m'\u001b[39m] \u001b[39mif\u001b[39;00m max_condition \u001b[39m!=\u001b[39m \u001b[39m-\u001b[39m\u001b[39m1\u001b[39m \u001b[39melse\u001b[39;00m []\n\u001b[0;32m--> 168\u001b[0m \u001b[39mif\u001b[39;00m max_condition \u001b[39m!=\u001b[39m \u001b[39m-\u001b[39m\u001b[39m1\u001b[39m:\n\u001b[1;32m    169\u001b[0m     result_entry \u001b[39m=\u001b[39m {\n\u001b[1;32m    170\u001b[0m         \u001b[39m\"\u001b[39m\u001b[39mname\u001b[39m\u001b[39m\"\u001b[39m: \u001b[39mf\u001b[39m\u001b[39m\"\u001b[39m\u001b[39mCondition \u001b[39m\u001b[39m{\u001b[39;00mmax_condition\u001b[39m \u001b[39m\u001b[39m+\u001b[39m\u001b[39m \u001b[39m\u001b[39m1\u001b[39m\u001b[39m}\u001b[39;00m\u001b[39m\"\u001b[39m,\n\u001b[1;32m    171\u001b[0m         \u001b[39m\"\u001b[39m\u001b[39mbiggest_mcs\u001b[39m\u001b[39m\"\u001b[39m: max_mcs\n\u001b[1;32m    172\u001b[0m     }\n\u001b[1;32m    173\u001b[0m     results\u001b[39m.\u001b[39mappend(result_entry)\n",
      "\u001b[0;31mUnboundLocalError\u001b[0m: cannot access local variable 'max_condition' where it is not associated with a value"
     ]
    }
   ],
   "source": [
    "from SynRBL import Balancer\n",
    "test = ['[C]=O.C1=CC2CC1C1CC3C4C=CC(C4)C3C21.C1=CC2C(C1)C1CC2C2C3C=CC(C3)C12>>']\n",
    "synrbl = Balancer(reaction_col=\"reactions\", id_col=\"id\")\n",
    "\n",
    "results = synrbl.rebalance(reactions=test, output_dict=True)\n"
   ]
  },
  {
   "cell_type": "code",
   "execution_count": null,
   "metadata": {},
   "outputs": [],
   "source": []
  },
  {
   "cell_type": "code",
   "execution_count": 5,
   "metadata": {},
   "outputs": [
    {
     "name": "stderr",
     "output_type": "stream",
     "text": [
      "/homes/biertank/tieu/miniconda3/envs/SynRBL/lib/python3.11/site-packages/sklearn/base.py:376: InconsistentVersionWarning: Trying to unpickle estimator MinMaxScaler from version 1.4.0 when using version 1.4.1.post1. This might lead to breaking code or invalid results. Use at your own risk. For more info please refer to:\n",
      "https://scikit-learn.org/stable/model_persistence.html#security-maintainability-limitations\n",
      "  warnings.warn(\n",
      "/homes/biertank/tieu/miniconda3/envs/SynRBL/lib/python3.11/site-packages/sklearn/base.py:376: InconsistentVersionWarning: Trying to unpickle estimator NearestNeighbors from version 1.4.0 when using version 1.4.1.post1. This might lead to breaking code or invalid results. Use at your own risk. For more info please refer to:\n",
      "https://scikit-learn.org/stable/model_persistence.html#security-maintainability-limitations\n",
      "  warnings.warn(\n"
     ]
    },
    {
     "name": "stdout",
     "output_type": "stream",
     "text": [
      "COC(=O)[C@H](CCCCNC(=O)OCc1ccccc1)NC(=O)Nc1cc(OC)cc(C(C)(C)C)c1O.O>>COC(=O)[C@H](CCCCN)NC(=O)Nc1cc(OC)cc(C(C)(C)C)c1O.O=C(O)OCc1ccccc1\n"
     ]
    }
   ],
   "source": [
    "from SynRBL import Balancer\n",
    "\n",
    "synrbl = Balancer(reaction_col=\"reactions\", id_col=\"id\")\n",
    "\n",
    "results = synrbl.rebalance(reactions=df, output_dict=False)\n",
    "print(results[0])\n"
   ]
  },
  {
   "cell_type": "markdown",
   "metadata": {},
   "source": [
    "# 1. Preprocess"
   ]
  },
  {
   "cell_type": "code",
   "execution_count": 5,
   "metadata": {},
   "outputs": [
    {
     "data": {
      "text/plain": [
       "{'id': '0',\n",
       " 'class': 6,\n",
       " 'reactions': 'COC(=O)[C@H](CCCCNC(=O)OCc1ccccc1)NC(=O)Nc1cc(OC)cc(C(C)(C)C)c1O>>COC(=O)[C@H](CCCCN)NC(=O)Nc1cc(OC)cc(C(C)(C)C)c1O',\n",
       " 'solved': False,\n",
       " 'reactants': 'COC(=O)[C@H](CCCCNC(=O)OCc1ccccc1)NC(=O)Nc1cc(OC)cc(C(C)(C)C)c1O',\n",
       " 'products': 'COC(=O)[C@H](CCCCN)NC(=O)Nc1cc(OC)cc(C(C)(C)C)c1O',\n",
       " 'input_reaction': 'COC(=O)[C@H](CCCCNC(=O)OCc1ccccc1)NC(=O)Nc1cc(OC)cc(C(C)(C)C)c1O>>COC(=O)[C@H](CCCCN)NC(=O)Nc1cc(OC)cc(C(C)(C)C)c1O',\n",
       " 'carbon_balance_check': 'products',\n",
       " 'unbalance': 'Products'}"
      ]
     },
     "execution_count": 5,
     "metadata": {},
     "output_type": "execute_result"
    }
   ],
   "source": [
    "input_validator = Validator(\"reactions\", \"input-balanced\")\n",
    "rb_validator = Validator(\n",
    "    \"reactions\", \"rule-based\", check_carbon_balance=False\n",
    ")\n",
    "\n",
    "stats = {}\n",
    "\n",
    "reactions = preprocess(\n",
    "    df, \"reactions\", \"id\", \"solved\",\n",
    ")\n",
    "l = len(reactions)\n",
    "input_validator.check(reactions)\n",
    "reactions[0]"
   ]
  },
  {
   "cell_type": "markdown",
   "metadata": {},
   "source": [
    "# 2. RuleBasedMethod"
   ]
  },
  {
   "cell_type": "code",
   "execution_count": 7,
   "metadata": {},
   "outputs": [
    {
     "data": {
      "text/plain": [
       "{'id': '1',\n",
       " 'class': 2,\n",
       " 'reactions': 'Nc1cccc2cnccc12.O=C(O)c1cc([N+](=O)[O-])c(Sc2c(Cl)cncc2Cl)s1>>O=C(Nc1cccc2cnccc12)c1cc([N+](=O)[O-])c(Sc2c(Cl)cncc2Cl)s1.O',\n",
       " 'solved': True,\n",
       " 'reactants': 'Nc1cccc2cnccc12.O=C(O)c1cc([N+](=O)[O-])c(Sc2c(Cl)cncc2Cl)s1',\n",
       " 'products': 'O=C(Nc1cccc2cnccc12)c1cc([N+](=O)[O-])c(Sc2c(Cl)cncc2Cl)s1.O',\n",
       " 'input_reaction': 'Nc1cccc2cnccc12.O=C(O)c1cc([N+](=O)[O-])c(Sc2c(Cl)cncc2Cl)s1>>O=C(Nc1cccc2cnccc12)c1cc([N+](=O)[O-])c(Sc2c(Cl)cncc2Cl)s1',\n",
       " 'carbon_balance_check': 'balanced',\n",
       " 'unbalance': 'Balance',\n",
       " 'solved_by': 'rule-based'}"
      ]
     },
     "execution_count": 7,
     "metadata": {},
     "output_type": "execute_result"
    }
   ],
   "source": [
    "rb_method = RuleBasedMethod(id_col=\"id\", reaction_col='reactions', output_col='reactions', \n",
    "                            rules_path= \"../../Data/Rules/rules_manager.json.gz\")\n",
    "\n",
    "rb_method.run(reactions, stats=stats)\n",
    "rb_validator.check(reactions)\n",
    "reactions[1]"
   ]
  },
  {
   "cell_type": "markdown",
   "metadata": {},
   "source": [
    "# 3. MCSBasedMethod"
   ]
  },
  {
   "cell_type": "code",
   "execution_count": 8,
   "metadata": {},
   "outputs": [],
   "source": [
    "mcs = MCS(id_col=\"id\", mcs_data_col=\"mcs\")\n",
    "mcs_method = MCSBasedMethod(\n",
    "            reaction_col='reactions', output_col='reactions', mcs_data_col='mcs'\n",
    "        )\n",
    "mcs_validator = Validator('reactions', \"mcs-based\")"
   ]
  },
  {
   "cell_type": "code",
   "execution_count": 9,
   "metadata": {},
   "outputs": [
    {
     "data": {
      "text/plain": [
       "{'id': '0',\n",
       " 'class': 6,\n",
       " 'reactions': 'COC(=O)[C@H](CCCCNC(=O)OCc1ccccc1)NC(=O)Nc1cc(OC)cc(C(C)(C)C)c1O>>COC(=O)[C@H](CCCCN)NC(=O)Nc1cc(OC)cc(C(C)(C)C)c1O.O=C(O)OCc1ccccc1',\n",
       " 'solved': False,\n",
       " 'reactants': 'COC(=O)[C@H](CCCCNC(=O)OCc1ccccc1)NC(=O)Nc1cc(OC)cc(C(C)(C)C)c1O',\n",
       " 'products': 'COC(=O)[C@H](CCCCN)NC(=O)Nc1cc(OC)cc(C(C)(C)C)c1O.O=C(O)OCc1ccccc1',\n",
       " 'input_reaction': 'COC(=O)[C@H](CCCCNC(=O)OCc1ccccc1)NC(=O)Nc1cc(OC)cc(C(C)(C)C)c1O>>COC(=O)[C@H](CCCCN)NC(=O)Nc1cc(OC)cc(C(C)(C)C)c1O',\n",
       " 'carbon_balance_check': 'balanced',\n",
       " 'unbalance': 'Reactants',\n",
       " 'mcs': {'smiles': ['O=COCc1ccccc1'],\n",
       "  'boundary_atoms_products': [[{'C': 1}]],\n",
       "  'nearest_neighbor_products': [[{'N': 9}]],\n",
       "  'issue': '',\n",
       "  'Certainty': True,\n",
       "  'sorted_reactants': ['COC(=O)[C@H](CCCCNC(=O)OCc1ccccc1)NC(=O)Nc1cc(OC)cc(C(C)(C)C)c1O'],\n",
       "  'mcs_results': ['[#6]-&!@[#8]-&!@[#6](=&!@[#8])-&!@[#6](-&!@[#6]-&!@[#6]-&!@[#6]-&!@[#6]-&!@[#7])-&!@[#7]-&!@[#6](=&!@[#8])-&!@[#7]-&!@[#6]1:&@[#6]:&@[#6](-&!@[#8]-&!@[#6]):&@[#6]:&@[#6](:&@[#6]:&@1-&!@[#8])-&!@[#6](-&!@[#6])(-&!@[#6])-&!@[#6]']},\n",
       " 'rules': ['append O when next to O or N', 'default single bond']}"
      ]
     },
     "execution_count": 9,
     "metadata": {},
     "output_type": "execute_result"
    }
   ],
   "source": [
    "mcs.find(reactions)\n",
    "mcs_method.run(reactions, stats=stats)\n",
    "mcs_validator.check(reactions) \n",
    "reactions[0]"
   ]
  },
  {
   "cell_type": "code",
   "execution_count": 10,
   "metadata": {},
   "outputs": [
    {
     "data": {
      "text/plain": [
       "{'id': '0',\n",
       " 'class': 6,\n",
       " 'reactions': 'COC(=O)[C@H](CCCCNC(=O)OCc1ccccc1)NC(=O)Nc1cc(OC)cc(C(C)(C)C)c1O.O>>COC(=O)[C@H](CCCCN)NC(=O)Nc1cc(OC)cc(C(C)(C)C)c1O.O=C(O)OCc1ccccc1',\n",
       " 'solved': True,\n",
       " 'reactants': 'COC(=O)[C@H](CCCCNC(=O)OCc1ccccc1)NC(=O)Nc1cc(OC)cc(C(C)(C)C)c1O.O',\n",
       " 'products': 'COC(=O)[C@H](CCCCN)NC(=O)Nc1cc(OC)cc(C(C)(C)C)c1O.O=C(O)OCc1ccccc1',\n",
       " 'input_reaction': 'COC(=O)[C@H](CCCCNC(=O)OCc1ccccc1)NC(=O)Nc1cc(OC)cc(C(C)(C)C)c1O>>COC(=O)[C@H](CCCCN)NC(=O)Nc1cc(OC)cc(C(C)(C)C)c1O',\n",
       " 'carbon_balance_check': 'balanced',\n",
       " 'unbalance': 'Balance',\n",
       " 'mcs': {'smiles': ['O=COCc1ccccc1'],\n",
       "  'boundary_atoms_products': [[{'C': 1}]],\n",
       "  'nearest_neighbor_products': [[{'N': 9}]],\n",
       "  'issue': '',\n",
       "  'Certainty': True,\n",
       "  'sorted_reactants': ['COC(=O)[C@H](CCCCNC(=O)OCc1ccccc1)NC(=O)Nc1cc(OC)cc(C(C)(C)C)c1O'],\n",
       "  'mcs_results': ['[#6]-&!@[#8]-&!@[#6](=&!@[#8])-&!@[#6](-&!@[#6]-&!@[#6]-&!@[#6]-&!@[#6]-&!@[#7])-&!@[#7]-&!@[#6](=&!@[#8])-&!@[#7]-&!@[#6]1:&@[#6]:&@[#6](-&!@[#8]-&!@[#6]):&@[#6]:&@[#6](:&@[#6]:&@1-&!@[#8])-&!@[#6](-&!@[#6])(-&!@[#6])-&!@[#6]']},\n",
       " 'rules': ['append O when next to O or N', 'default single bond'],\n",
       " 'solved_by': 'mcs-based'}"
      ]
     },
     "execution_count": 10,
     "metadata": {},
     "output_type": "execute_result"
    }
   ],
   "source": [
    "rb_method.run(reactions)\n",
    "mcs_validator.check(reactions)\n",
    "reactions[0]"
   ]
  },
  {
   "cell_type": "markdown",
   "metadata": {},
   "source": [
    "# 4. Confidence Level"
   ]
  },
  {
   "cell_type": "code",
   "execution_count": 11,
   "metadata": {},
   "outputs": [
    {
     "name": "stderr",
     "output_type": "stream",
     "text": [
      "/homes/biertank/tieu/miniconda3/envs/SynRBL/lib/python3.11/site-packages/sklearn/base.py:376: InconsistentVersionWarning: Trying to unpickle estimator MinMaxScaler from version 1.4.0 when using version 1.4.1.post1. This might lead to breaking code or invalid results. Use at your own risk. For more info please refer to:\n",
      "https://scikit-learn.org/stable/model_persistence.html#security-maintainability-limitations\n",
      "  warnings.warn(\n",
      "/homes/biertank/tieu/miniconda3/envs/SynRBL/lib/python3.11/site-packages/sklearn/base.py:376: InconsistentVersionWarning: Trying to unpickle estimator NearestNeighbors from version 1.4.0 when using version 1.4.1.post1. This might lead to breaking code or invalid results. Use at your own risk. For more info please refer to:\n",
      "https://scikit-learn.org/stable/model_persistence.html#security-maintainability-limitations\n",
      "  warnings.warn(\n"
     ]
    },
    {
     "data": {
      "text/plain": [
       "{'id': '0',\n",
       " 'class': 6,\n",
       " 'reactions': 'COC(=O)[C@H](CCCCNC(=O)OCc1ccccc1)NC(=O)Nc1cc(OC)cc(C(C)(C)C)c1O.O>>COC(=O)[C@H](CCCCN)NC(=O)Nc1cc(OC)cc(C(C)(C)C)c1O.O=C(O)OCc1ccccc1',\n",
       " 'solved': True,\n",
       " 'reactants': 'COC(=O)[C@H](CCCCNC(=O)OCc1ccccc1)NC(=O)Nc1cc(OC)cc(C(C)(C)C)c1O',\n",
       " 'products': 'COC(=O)[C@H](CCCCN)NC(=O)Nc1cc(OC)cc(C(C)(C)C)c1O',\n",
       " 'input_reaction': 'COC(=O)[C@H](CCCCNC(=O)OCc1ccccc1)NC(=O)Nc1cc(OC)cc(C(C)(C)C)c1O>>COC(=O)[C@H](CCCCN)NC(=O)Nc1cc(OC)cc(C(C)(C)C)c1O',\n",
       " 'carbon_balance_check': 'balanced',\n",
       " 'unbalance': 'Balance',\n",
       " 'mcs': {'smiles': ['O=COCc1ccccc1'],\n",
       "  'boundary_atoms_products': [[{'C': 1}]],\n",
       "  'nearest_neighbor_products': [[{'N': 9}]],\n",
       "  'issue': '',\n",
       "  'Certainty': True,\n",
       "  'sorted_reactants': ['COC(=O)[C@H](CCCCNC(=O)OCc1ccccc1)NC(=O)Nc1cc(OC)cc(C(C)(C)C)c1O'],\n",
       "  'mcs_results': ['[#6]-&!@[#8]-&!@[#6](=&!@[#8])-&!@[#6](-&!@[#6]-&!@[#6]-&!@[#6]-&!@[#6]-&!@[#7])-&!@[#7]-&!@[#6](=&!@[#8])-&!@[#7]-&!@[#6]1:&@[#6]:&@[#6](-&!@[#8]-&!@[#6]):&@[#6]:&@[#6](:&@[#6]:&@1-&!@[#8])-&!@[#6](-&!@[#6])(-&!@[#6])-&!@[#6]']},\n",
       " 'rules': ['append O when next to O or N', 'default single bond'],\n",
       " 'solved_by': 'mcs-based',\n",
       " 'num_boundary': 1,\n",
       " 'bond_change_merge': 0,\n",
       " 'ring_change_merge': 0,\n",
       " 'confidence': 0.999}"
      ]
     },
     "execution_count": 11,
     "metadata": {},
     "output_type": "execute_result"
    }
   ],
   "source": [
    "conf_predictor = ConfidencePredictor(model_path='../../Data/scoring_function.dump', reaction_col='reactions')\n",
    "conf_predictor.predict(reactions, stats=stats, threshold=0)\n",
    "reactions[0]"
   ]
  },
  {
   "cell_type": "code",
   "execution_count": null,
   "metadata": {},
   "outputs": [],
   "source": []
  }
 ],
 "metadata": {
  "kernelspec": {
   "display_name": "SynRBL",
   "language": "python",
   "name": "python3"
  },
  "language_info": {
   "codemirror_mode": {
    "name": "ipython",
    "version": 3
   },
   "file_extension": ".py",
   "mimetype": "text/x-python",
   "name": "python",
   "nbconvert_exporter": "python",
   "pygments_lexer": "ipython3",
   "version": "3.11.0"
  }
 },
 "nbformat": 4,
 "nbformat_minor": 2
}
