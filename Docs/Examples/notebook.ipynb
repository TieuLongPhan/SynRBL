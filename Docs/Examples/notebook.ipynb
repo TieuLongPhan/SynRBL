{
 "cells": [
  {
   "cell_type": "code",
   "execution_count": 3,
   "metadata": {},
   "outputs": [],
   "source": [
    "import sys\n",
    "import pandas as pd\n",
    "import logging\n",
    "sys.path.append('../../')\n",
    "\n",
    "from SynRBL.preprocess import preprocess\n",
    "from SynRBL.postprocess import Validator\n",
    "from SynRBL.rule_based import RuleBasedMethod\n",
    "from SynRBL.mcs import MCS\n",
    "from SynRBL.SynMCSImputer.model import MCSBasedMethod\n",
    "from SynRBL.confidence_prediction import ConfidencePredictor\n",
    "\n",
    "logger = logging.getLogger(\"SynRBL\")\n",
    "\n",
    "df = pd.read_csv('../../Data/Validation_set/USPTO_50K.csv')\n",
    "df = df.iloc[:100, :]"
   ]
  },
  {
   "cell_type": "markdown",
   "metadata": {},
   "source": [
    "# 1. Preprocess"
   ]
  },
  {
   "cell_type": "code",
   "execution_count": 5,
   "metadata": {},
   "outputs": [
    {
     "data": {
      "text/plain": [
       "{'id': '0',\n",
       " 'class': 6,\n",
       " 'reactions': 'COC(=O)[C@H](CCCCNC(=O)OCc1ccccc1)NC(=O)Nc1cc(OC)cc(C(C)(C)C)c1O>>COC(=O)[C@H](CCCCN)NC(=O)Nc1cc(OC)cc(C(C)(C)C)c1O',\n",
       " 'solved': False,\n",
       " 'reactants': 'COC(=O)[C@H](CCCCNC(=O)OCc1ccccc1)NC(=O)Nc1cc(OC)cc(C(C)(C)C)c1O',\n",
       " 'products': 'COC(=O)[C@H](CCCCN)NC(=O)Nc1cc(OC)cc(C(C)(C)C)c1O',\n",
       " 'input_reaction': 'COC(=O)[C@H](CCCCNC(=O)OCc1ccccc1)NC(=O)Nc1cc(OC)cc(C(C)(C)C)c1O>>COC(=O)[C@H](CCCCN)NC(=O)Nc1cc(OC)cc(C(C)(C)C)c1O',\n",
       " 'carbon_balance_check': 'products',\n",
       " 'unbalance': 'Products'}"
      ]
     },
     "execution_count": 5,
     "metadata": {},
     "output_type": "execute_result"
    }
   ],
   "source": [
    "input_validator = Validator(\"reactions\", \"input-balanced\")\n",
    "rb_validator = Validator(\n",
    "    \"reactions\", \"rule-based\", check_carbon_balance=False\n",
    ")\n",
    "\n",
    "stats = {}\n",
    "\n",
    "reactions = preprocess(\n",
    "    df, \"reactions\", \"id\", \"solved\",\n",
    ")\n",
    "l = len(reactions)\n",
    "input_validator.check(reactions)\n",
    "reactions[0]"
   ]
  },
  {
   "cell_type": "markdown",
   "metadata": {},
   "source": [
    "# 2. RuleBasedMethod"
   ]
  },
  {
   "cell_type": "code",
   "execution_count": 7,
   "metadata": {},
   "outputs": [
    {
     "data": {
      "text/plain": [
       "{'id': '1',\n",
       " 'class': 2,\n",
       " 'reactions': 'Nc1cccc2cnccc12.O=C(O)c1cc([N+](=O)[O-])c(Sc2c(Cl)cncc2Cl)s1>>O=C(Nc1cccc2cnccc12)c1cc([N+](=O)[O-])c(Sc2c(Cl)cncc2Cl)s1.O',\n",
       " 'solved': True,\n",
       " 'reactants': 'Nc1cccc2cnccc12.O=C(O)c1cc([N+](=O)[O-])c(Sc2c(Cl)cncc2Cl)s1',\n",
       " 'products': 'O=C(Nc1cccc2cnccc12)c1cc([N+](=O)[O-])c(Sc2c(Cl)cncc2Cl)s1.O',\n",
       " 'input_reaction': 'Nc1cccc2cnccc12.O=C(O)c1cc([N+](=O)[O-])c(Sc2c(Cl)cncc2Cl)s1>>O=C(Nc1cccc2cnccc12)c1cc([N+](=O)[O-])c(Sc2c(Cl)cncc2Cl)s1',\n",
       " 'carbon_balance_check': 'balanced',\n",
       " 'unbalance': 'Balance',\n",
       " 'solved_by': 'rule-based'}"
      ]
     },
     "execution_count": 7,
     "metadata": {},
     "output_type": "execute_result"
    }
   ],
   "source": [
    "rb_method = RuleBasedMethod(id_col=\"id\", reaction_col='reactions', output_col='reactions', \n",
    "                            rules_path= \"../../Data/Rules/rules_manager.json.gz\")\n",
    "\n",
    "rb_method.run(reactions, stats=stats)\n",
    "rb_validator.check(reactions)\n",
    "reactions[1]"
   ]
  },
  {
   "cell_type": "markdown",
   "metadata": {},
   "source": [
    "# 3. MCSBasedMethod"
   ]
  },
  {
   "cell_type": "code",
   "execution_count": 8,
   "metadata": {},
   "outputs": [],
   "source": [
    "mcs = MCS(id_col=\"id\", mcs_data_col=\"mcs\")\n",
    "mcs_method = MCSBasedMethod(\n",
    "            reaction_col='reactions', output_col='reactions', mcs_data_col='mcs'\n",
    "        )\n",
    "mcs_validator = Validator('reactions', \"mcs-based\")"
   ]
  },
  {
   "cell_type": "code",
   "execution_count": 9,
   "metadata": {},
   "outputs": [
    {
     "data": {
      "text/plain": [
       "{'id': '0',\n",
       " 'class': 6,\n",
       " 'reactions': 'COC(=O)[C@H](CCCCNC(=O)OCc1ccccc1)NC(=O)Nc1cc(OC)cc(C(C)(C)C)c1O>>COC(=O)[C@H](CCCCN)NC(=O)Nc1cc(OC)cc(C(C)(C)C)c1O.O=C(O)OCc1ccccc1',\n",
       " 'solved': False,\n",
       " 'reactants': 'COC(=O)[C@H](CCCCNC(=O)OCc1ccccc1)NC(=O)Nc1cc(OC)cc(C(C)(C)C)c1O',\n",
       " 'products': 'COC(=O)[C@H](CCCCN)NC(=O)Nc1cc(OC)cc(C(C)(C)C)c1O.O=C(O)OCc1ccccc1',\n",
       " 'input_reaction': 'COC(=O)[C@H](CCCCNC(=O)OCc1ccccc1)NC(=O)Nc1cc(OC)cc(C(C)(C)C)c1O>>COC(=O)[C@H](CCCCN)NC(=O)Nc1cc(OC)cc(C(C)(C)C)c1O',\n",
       " 'carbon_balance_check': 'balanced',\n",
       " 'unbalance': 'Reactants',\n",
       " 'mcs': {'smiles': ['O=COCc1ccccc1'],\n",
       "  'boundary_atoms_products': [[{'C': 1}]],\n",
       "  'nearest_neighbor_products': [[{'N': 9}]],\n",
       "  'issue': '',\n",
       "  'Certainty': True,\n",
       "  'sorted_reactants': ['COC(=O)[C@H](CCCCNC(=O)OCc1ccccc1)NC(=O)Nc1cc(OC)cc(C(C)(C)C)c1O'],\n",
       "  'mcs_results': ['[#6]-&!@[#8]-&!@[#6](=&!@[#8])-&!@[#6](-&!@[#6]-&!@[#6]-&!@[#6]-&!@[#6]-&!@[#7])-&!@[#7]-&!@[#6](=&!@[#8])-&!@[#7]-&!@[#6]1:&@[#6]:&@[#6](-&!@[#8]-&!@[#6]):&@[#6]:&@[#6](:&@[#6]:&@1-&!@[#8])-&!@[#6](-&!@[#6])(-&!@[#6])-&!@[#6]']},\n",
       " 'rules': ['append O when next to O or N', 'default single bond']}"
      ]
     },
     "execution_count": 9,
     "metadata": {},
     "output_type": "execute_result"
    }
   ],
   "source": [
    "mcs.find(reactions)\n",
    "mcs_method.run(reactions, stats=stats)\n",
    "mcs_validator.check(reactions) \n",
    "reactions[0]"
   ]
  },
  {
   "cell_type": "code",
   "execution_count": 10,
   "metadata": {},
   "outputs": [
    {
     "data": {
      "text/plain": [
       "{'id': '0',\n",
       " 'class': 6,\n",
       " 'reactions': 'COC(=O)[C@H](CCCCNC(=O)OCc1ccccc1)NC(=O)Nc1cc(OC)cc(C(C)(C)C)c1O.O>>COC(=O)[C@H](CCCCN)NC(=O)Nc1cc(OC)cc(C(C)(C)C)c1O.O=C(O)OCc1ccccc1',\n",
       " 'solved': True,\n",
       " 'reactants': 'COC(=O)[C@H](CCCCNC(=O)OCc1ccccc1)NC(=O)Nc1cc(OC)cc(C(C)(C)C)c1O.O',\n",
       " 'products': 'COC(=O)[C@H](CCCCN)NC(=O)Nc1cc(OC)cc(C(C)(C)C)c1O.O=C(O)OCc1ccccc1',\n",
       " 'input_reaction': 'COC(=O)[C@H](CCCCNC(=O)OCc1ccccc1)NC(=O)Nc1cc(OC)cc(C(C)(C)C)c1O>>COC(=O)[C@H](CCCCN)NC(=O)Nc1cc(OC)cc(C(C)(C)C)c1O',\n",
       " 'carbon_balance_check': 'balanced',\n",
       " 'unbalance': 'Balance',\n",
       " 'mcs': {'smiles': ['O=COCc1ccccc1'],\n",
       "  'boundary_atoms_products': [[{'C': 1}]],\n",
       "  'nearest_neighbor_products': [[{'N': 9}]],\n",
       "  'issue': '',\n",
       "  'Certainty': True,\n",
       "  'sorted_reactants': ['COC(=O)[C@H](CCCCNC(=O)OCc1ccccc1)NC(=O)Nc1cc(OC)cc(C(C)(C)C)c1O'],\n",
       "  'mcs_results': ['[#6]-&!@[#8]-&!@[#6](=&!@[#8])-&!@[#6](-&!@[#6]-&!@[#6]-&!@[#6]-&!@[#6]-&!@[#7])-&!@[#7]-&!@[#6](=&!@[#8])-&!@[#7]-&!@[#6]1:&@[#6]:&@[#6](-&!@[#8]-&!@[#6]):&@[#6]:&@[#6](:&@[#6]:&@1-&!@[#8])-&!@[#6](-&!@[#6])(-&!@[#6])-&!@[#6]']},\n",
       " 'rules': ['append O when next to O or N', 'default single bond'],\n",
       " 'solved_by': 'mcs-based'}"
      ]
     },
     "execution_count": 10,
     "metadata": {},
     "output_type": "execute_result"
    }
   ],
   "source": [
    "rb_method.run(reactions)\n",
    "mcs_validator.check(reactions)\n",
    "reactions[0]"
   ]
  },
  {
   "cell_type": "markdown",
   "metadata": {},
   "source": [
    "# 4. Confidence Level"
   ]
  },
  {
   "cell_type": "code",
   "execution_count": 11,
   "metadata": {},
   "outputs": [
    {
     "name": "stderr",
     "output_type": "stream",
     "text": [
      "/homes/biertank/tieu/miniconda3/envs/SynRBL/lib/python3.11/site-packages/sklearn/base.py:376: InconsistentVersionWarning: Trying to unpickle estimator MinMaxScaler from version 1.4.0 when using version 1.4.1.post1. This might lead to breaking code or invalid results. Use at your own risk. For more info please refer to:\n",
      "https://scikit-learn.org/stable/model_persistence.html#security-maintainability-limitations\n",
      "  warnings.warn(\n",
      "/homes/biertank/tieu/miniconda3/envs/SynRBL/lib/python3.11/site-packages/sklearn/base.py:376: InconsistentVersionWarning: Trying to unpickle estimator NearestNeighbors from version 1.4.0 when using version 1.4.1.post1. This might lead to breaking code or invalid results. Use at your own risk. For more info please refer to:\n",
      "https://scikit-learn.org/stable/model_persistence.html#security-maintainability-limitations\n",
      "  warnings.warn(\n"
     ]
    },
    {
     "data": {
      "text/plain": [
       "{'id': '0',\n",
       " 'class': 6,\n",
       " 'reactions': 'COC(=O)[C@H](CCCCNC(=O)OCc1ccccc1)NC(=O)Nc1cc(OC)cc(C(C)(C)C)c1O.O>>COC(=O)[C@H](CCCCN)NC(=O)Nc1cc(OC)cc(C(C)(C)C)c1O.O=C(O)OCc1ccccc1',\n",
       " 'solved': True,\n",
       " 'reactants': 'COC(=O)[C@H](CCCCNC(=O)OCc1ccccc1)NC(=O)Nc1cc(OC)cc(C(C)(C)C)c1O',\n",
       " 'products': 'COC(=O)[C@H](CCCCN)NC(=O)Nc1cc(OC)cc(C(C)(C)C)c1O',\n",
       " 'input_reaction': 'COC(=O)[C@H](CCCCNC(=O)OCc1ccccc1)NC(=O)Nc1cc(OC)cc(C(C)(C)C)c1O>>COC(=O)[C@H](CCCCN)NC(=O)Nc1cc(OC)cc(C(C)(C)C)c1O',\n",
       " 'carbon_balance_check': 'balanced',\n",
       " 'unbalance': 'Balance',\n",
       " 'mcs': {'smiles': ['O=COCc1ccccc1'],\n",
       "  'boundary_atoms_products': [[{'C': 1}]],\n",
       "  'nearest_neighbor_products': [[{'N': 9}]],\n",
       "  'issue': '',\n",
       "  'Certainty': True,\n",
       "  'sorted_reactants': ['COC(=O)[C@H](CCCCNC(=O)OCc1ccccc1)NC(=O)Nc1cc(OC)cc(C(C)(C)C)c1O'],\n",
       "  'mcs_results': ['[#6]-&!@[#8]-&!@[#6](=&!@[#8])-&!@[#6](-&!@[#6]-&!@[#6]-&!@[#6]-&!@[#6]-&!@[#7])-&!@[#7]-&!@[#6](=&!@[#8])-&!@[#7]-&!@[#6]1:&@[#6]:&@[#6](-&!@[#8]-&!@[#6]):&@[#6]:&@[#6](:&@[#6]:&@1-&!@[#8])-&!@[#6](-&!@[#6])(-&!@[#6])-&!@[#6]']},\n",
       " 'rules': ['append O when next to O or N', 'default single bond'],\n",
       " 'solved_by': 'mcs-based',\n",
       " 'num_boundary': 1,\n",
       " 'bond_change_merge': 0,\n",
       " 'ring_change_merge': 0,\n",
       " 'confidence': 0.999}"
      ]
     },
     "execution_count": 11,
     "metadata": {},
     "output_type": "execute_result"
    }
   ],
   "source": [
    "conf_predictor = ConfidencePredictor(model_path='../../Data/scoring_function.dump', reaction_col='reactions')\n",
    "conf_predictor.predict(reactions, stats=stats, threshold=0)\n",
    "reactions[0]"
   ]
  },
  {
   "cell_type": "code",
   "execution_count": null,
   "metadata": {},
   "outputs": [],
   "source": []
  }
 ],
 "metadata": {
  "kernelspec": {
   "display_name": "SynRBL",
   "language": "python",
   "name": "python3"
  },
  "language_info": {
   "codemirror_mode": {
    "name": "ipython",
    "version": 3
   },
   "file_extension": ".py",
   "mimetype": "text/x-python",
   "name": "python",
   "nbconvert_exporter": "python",
   "pygments_lexer": "ipython3",
   "version": "3.11.0"
  }
 },
 "nbformat": 4,
 "nbformat_minor": 2
}
