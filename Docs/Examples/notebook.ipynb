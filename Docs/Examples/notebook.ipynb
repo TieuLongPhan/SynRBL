{
 "cells": [
  {
   "cell_type": "code",
   "execution_count": 1,
   "metadata": {},
   "outputs": [],
   "source": [
    "import sys\n",
    "import pandas as pd\n",
    "import logging\n",
    "sys.path.append('../../')\n",
    "\n",
    "\n",
    "import copy\n",
    "import logging\n",
    "import pandas as pd\n",
    "\n",
    "from synrbl.preprocess import preprocess\n",
    "from synrbl.postprocess import Validator\n",
    "from synrbl.rule_based import RuleBasedMethod\n",
    "from synrbl.mcs_search import MCSSearch\n",
    "from synrbl.SynMCSImputer.model import MCSBasedMethod\n",
    "from synrbl.confidence_prediction import ConfidencePredictor\n",
    "\n",
    "\n",
    "logger = logging.getLogger(\"SynRBL\")\n",
    "\n",
    "df = pd.read_csv('../../Data/Validation_set/USPTO_50K.csv')\n",
    "df = df.iloc[:100, :]\n",
    "df = df.to_dict(\"records\")"
   ]
  },
  {
   "cell_type": "code",
   "execution_count": 2,
   "metadata": {},
   "outputs": [
    {
     "name": "stderr",
     "output_type": "stream",
     "text": [
      "/homes/biertank/tieu/miniconda3/envs/SynRBL/lib/python3.11/site-packages/sklearn/base.py:376: InconsistentVersionWarning: Trying to unpickle estimator MinMaxScaler from version 1.4.0 when using version 1.4.1.post1. This might lead to breaking code or invalid results. Use at your own risk. For more info please refer to:\n",
      "https://scikit-learn.org/stable/model_persistence.html#security-maintainability-limitations\n",
      "  warnings.warn(\n",
      "/homes/biertank/tieu/miniconda3/envs/SynRBL/lib/python3.11/site-packages/sklearn/base.py:376: InconsistentVersionWarning: Trying to unpickle estimator NearestNeighbors from version 1.4.0 when using version 1.4.1.post1. This might lead to breaking code or invalid results. Use at your own risk. For more info please refer to:\n",
      "https://scikit-learn.org/stable/model_persistence.html#security-maintainability-limitations\n",
      "  warnings.warn(\n"
     ]
    },
    {
     "name": "stdout",
     "output_type": "stream",
     "text": [
      "{'reactions': 'COC(=O)[C@H](CCCCNC(=O)OCc1ccccc1)NC(=O)Nc1cc(OC)cc(C(C)(C)C)c1O.O>>COC(=O)[C@H](CCCCN)NC(=O)Nc1cc(OC)cc(C(C)(C)C)c1O.O=C(O)OCc1ccccc1', 'solved': True, 'input_reaction': 'COC(=O)[C@H](CCCCNC(=O)OCc1ccccc1)NC(=O)Nc1cc(OC)cc(C(C)(C)C)c1O>>COC(=O)[C@H](CCCCN)NC(=O)Nc1cc(OC)cc(C(C)(C)C)c1O', 'issue': '', 'rules': ['append O when next to O or N', 'default single bond'], 'solved_by': 'mcs-based', 'confidence': 0.999}\n"
     ]
    }
   ],
   "source": [
    "from synrbl import Balancer\n",
    "test = 'COC(=O)[C@H](CCCCNC(=O)OCc1ccccc1)NC(=O)Nc1cc(OC)cc(C(C)(C)C)c1O>>COC(=O)[C@H](CCCCN)NC(=O)Nc1cc(OC)cc(C(C)(C)C)c1O'\n",
    "synrbl = Balancer(reaction_col=\"reactions\", id_col=\"id\", n_jobs=4)\n",
    "\n",
    "results = synrbl.rebalance(reactions=test, output_dict=True)\n",
    "print(results[0])\n"
   ]
  },
  {
   "cell_type": "code",
   "execution_count": 5,
   "metadata": {},
   "outputs": [
    {
     "name": "stdout",
     "output_type": "stream",
     "text": [
      "{'reactions': 'COC(=O)[C@H](CCCCNC(=O)OCc1ccccc1)NC(=O)Nc1cc(OC)cc(C(C)(C)C)c1O.O>>COC(=O)[C@H](CCCCN)NC(=O)Nc1cc(OC)cc(C(C)(C)C)c1O.O=C(O)OCc1ccccc1', 'solved': True, 'input_reaction': 'COC(=O)[C@H](CCCCNC(=O)OCc1ccccc1)NC(=O)Nc1cc(OC)cc(C(C)(C)C)c1O>>COC(=O)[C@H](CCCCN)NC(=O)Nc1cc(OC)cc(C(C)(C)C)c1O', 'issue': '', 'rules': ['append O when next to O or N', 'default single bond'], 'solved_by': 'mcs-based', 'confidence': 0.999}\n"
     ]
    }
   ],
   "source": [
    "results = synrbl.rebalance(reactions=df, output_dict=True)\n",
    "print(results[0])"
   ]
  }
 ],
 "metadata": {
  "kernelspec": {
   "display_name": "SynRBL",
   "language": "python",
   "name": "python3"
  },
  "language_info": {
   "codemirror_mode": {
    "name": "ipython",
    "version": 3
   },
   "file_extension": ".py",
   "mimetype": "text/x-python",
   "name": "python",
   "nbconvert_exporter": "python",
   "pygments_lexer": "ipython3",
   "version": "3.11.0"
  }
 },
 "nbformat": 4,
 "nbformat_minor": 2
}
