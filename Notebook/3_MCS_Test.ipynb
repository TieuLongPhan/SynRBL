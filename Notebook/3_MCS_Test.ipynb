{
 "cells": [
  {
   "cell_type": "code",
   "execution_count": 2,
   "metadata": {},
   "outputs": [
    {
     "data": {
      "text/plain": [
       "13752"
      ]
     },
     "execution_count": 2,
     "metadata": {},
     "output_type": "execute_result"
    }
   ],
   "source": [
    "import sys\n",
    "sys.path.append('../')\n",
    "from SynRBL.rsmi_utils import *\n",
    "import pandas as pd\n",
    "import numpy as np\n",
    "from joblib import Parallel, delayed\n",
    "from SynRBL.rsmi_utils import load_database, filter_data\n",
    "reactions_clean = load_database('../Data/reaction_clean.json.gz')\n",
    "filtered_data_1 = filter_data(reactions_clean, unbalance_values=['Reactants', 'Products'], formula_key='Diff_formula', element_key='C', min_count=1, max_count=10000)\n",
    "len(filtered_data_1)"
   ]
  },
  {
   "cell_type": "code",
   "execution_count": 3,
   "metadata": {},
   "outputs": [
    {
     "data": {
      "text/plain": [
       "3088"
      ]
     },
     "execution_count": 3,
     "metadata": {},
     "output_type": "execute_result"
    }
   ],
   "source": [
    "filtered_data_2 = filter_data(reactions_clean, unbalance_values=['Both'], formula_key='Diff_formula', element_key='C', min_count=0, max_count=10000)\n",
    "len(filtered_data_2)"
   ]
  },
  {
   "cell_type": "code",
   "execution_count": 4,
   "metadata": {},
   "outputs": [
    {
     "data": {
      "text/plain": [
       "16840"
      ]
     },
     "execution_count": 4,
     "metadata": {},
     "output_type": "execute_result"
    }
   ],
   "source": [
    "filtered_data = filtered_data_1 + filtered_data_2\n",
    "len(filtered_data)"
   ]
  },
  {
   "cell_type": "code",
   "execution_count": 5,
   "metadata": {},
   "outputs": [],
   "source": [
    "from rdkit import Chem\n",
    "from rdkit.Chem import rdmolops\n",
    "from rdkit.Chem import rdFMCS\n",
    "\n",
    "class MCSMissingGraphAnalyzer:\n",
    "    \"\"\"A class for detecting missing graph in reactants and products using MCS and RDKit.\"\"\"\n",
    "\n",
    "    def __init__(self):\n",
    "        \"\"\"Initialize the MolecularOperations class.\"\"\"\n",
    "        pass\n",
    "    \n",
    "    @staticmethod\n",
    "    def get_smiles(reaction_dict):\n",
    "        \"\"\"\n",
    "        Extract reactant and product SMILES strings from a reaction dictionary.\n",
    "\n",
    "        Parameters:\n",
    "        - reaction_dict: dict\n",
    "            A dictionary containing 'reactants' and 'products' as keys.\n",
    "\n",
    "        Returns:\n",
    "        - tuple\n",
    "            A tuple containing reactant SMILES and product SMILES strings.\n",
    "        \"\"\"\n",
    "        return reaction_dict['reactants'], reaction_dict['products']\n",
    "\n",
    "    @staticmethod\n",
    "    def convert_smiles_to_molecule(smiles):\n",
    "        \"\"\"\n",
    "        Convert a SMILES string to an RDKit molecule object.\n",
    "\n",
    "        Parameters:\n",
    "        - smiles: str\n",
    "            The SMILES string representing a molecule.\n",
    "\n",
    "        Returns:\n",
    "        - rdkit.Chem.Mol\n",
    "            The RDKit molecule object.\n",
    "        \"\"\"\n",
    "        return Chem.MolFromSmiles(smiles)\n",
    "\n",
    "    @staticmethod\n",
    "    def mol_to_smiles(mol):\n",
    "        \"\"\"\n",
    "        Convert an RDKit molecule object to a SMILES string.\n",
    "\n",
    "        Parameters:\n",
    "        - mol: rdkit.Chem.Mol\n",
    "            The RDKit molecule object.\n",
    "\n",
    "        Returns:\n",
    "        - str or None\n",
    "            The SMILES string representation of the molecule, or None if the molecule is None.\n",
    "        \"\"\"\n",
    "        return Chem.MolToSmiles(mol) if mol else None\n",
    "\n",
    "    @staticmethod\n",
    "    def mol_to_smarts(mol):\n",
    "        \"\"\"\n",
    "        Convert an RDKit molecule object to a SMARTS string.\n",
    "\n",
    "        Parameters:\n",
    "        - mol: rdkit.Chem.Mol\n",
    "            The RDKit molecule object.\n",
    "\n",
    "        Returns:\n",
    "        - str or None\n",
    "            The SMARTS string representation of the molecule, or None if the molecule is None.\n",
    "        \"\"\"\n",
    "        return Chem.MolToSmarts(mol) if mol else None\n",
    "\n",
    "    @staticmethod\n",
    "    def find_maximum_common_substructure(mol1, mol2, ringMatchesRingOnly=True):\n",
    "        \"\"\"\n",
    "        Find the maximum common substructure (MCS) between two molecules.\n",
    "\n",
    "        Parameters:\n",
    "        - mol1, mol2: rdkit.Chem.Mol\n",
    "            The RDKit molecule objects to compare.\n",
    "\n",
    "        Returns:\n",
    "        - rdkit.Chem.Mol or None\n",
    "            The RDKit molecule object representing the MCS, or None if MCS search was canceled.\n",
    "        \"\"\"\n",
    "        mcs_result = rdFMCS.FindMCS([mol1, mol2], ringMatchesRingOnly=ringMatchesRingOnly)\n",
    "        if mcs_result.canceled:\n",
    "            return None\n",
    "        mcs_mol = Chem.MolFromSmarts(mcs_result.smartsString)\n",
    "        return mcs_mol\n",
    "\n",
    "    def IterativeMCSReactionPairs(reactant_mol_list, product_mol, params=None):\n",
    "        \"\"\"\n",
    "        Find the MCS for each reactant fragment with the product, updating the product after each step.\n",
    "        Sorts the reactants based on the size of their MCS with the product.\n",
    "\n",
    "        Parameters:\n",
    "        - reactant_mol_list: list of rdkit.Chem.Mol\n",
    "            List of RDKit molecule objects for reactants.\n",
    "        - product_mol: rdkit.Chem.Mol\n",
    "            RDKit molecule object for the product.\n",
    "\n",
    "        Returns:\n",
    "        - list of rdkit.Chem.Mol\n",
    "            List of RDKit molecule objects representing the MCS for each reactant-product pair.\n",
    "        - list of rdkit.Chem.Mol\n",
    "            Sorted list of reactant molecule objects.\n",
    "        \"\"\"\n",
    "        # Calculate the MCS for each reactant with the product\n",
    "        mcs_results = [(reactant, rdFMCS.FindMCS([reactant, product_mol], params)) for reactant in reactant_mol_list]\n",
    "\n",
    "        # Filter out any canceled MCS results and sort by size of MCS\n",
    "        mcs_results = [(reactant, mcs_result) for reactant, mcs_result in mcs_results if not mcs_result.canceled]\n",
    "        sorted_reactants = sorted(mcs_results, key=lambda x: x[1].numAtoms, reverse=True)\n",
    "\n",
    "        mcs_list = []\n",
    "        current_product = product_mol\n",
    "\n",
    "        # Process the sorted reactants\n",
    "        for reactant, mcs_result in sorted_reactants:\n",
    "            mcs_mol = Chem.MolFromSmarts(mcs_result.smartsString)\n",
    "            mcs_list.append(mcs_mol)\n",
    "\n",
    "            # Update the product by removing the MCS substructure\n",
    "            current_product = Chem.DeleteSubstructs(Chem.RWMol(current_product), mcs_mol)\n",
    "            current_product = Chem.RemoveHs(current_product)\n",
    "            try:\n",
    "                Chem.SanitizeMol(current_product)\n",
    "            except:\n",
    "                pass\n",
    "\n",
    "        # Extract only the reactant molecules from sorted_reactants for return\n",
    "        sorted_reactant_mols = [reactant for reactant, _ in sorted_reactants]\n",
    "\n",
    "        return mcs_list, sorted_reactant_mols\n",
    "\n",
    "    \n",
    "    @staticmethod\n",
    "    def add_hydrogens_to_radicals(mol):\n",
    "        \"\"\"\n",
    "        Add hydrogen atoms to radical sites in a molecule.\n",
    "\n",
    "        Parameters:\n",
    "        - mol: rdkit.Chem.Mol\n",
    "            RDKit molecule object.\n",
    "\n",
    "        Returns:\n",
    "        - rdkit.Chem.Mol\n",
    "            The modified molecule with added hydrogens.\n",
    "        \"\"\"\n",
    "        if mol:\n",
    "            # Create a copy of the molecule\n",
    "            mol_with_h = Chem.RWMol(mol)\n",
    "\n",
    "            # Add explicit hydrogens (not necessary if they are already present in the input molecule)\n",
    "            mol_with_h = rdmolops.AddHs(mol_with_h)\n",
    "\n",
    "            # Find and process radical atoms\n",
    "            for atom in mol_with_h.GetAtoms():\n",
    "                num_radical_electrons = atom.GetNumRadicalElectrons()\n",
    "                if num_radical_electrons > 0:\n",
    "                    atom.SetNumExplicitHs(atom.GetNumExplicitHs() + num_radical_electrons)\n",
    "                    atom.SetNumRadicalElectrons(0)\n",
    "            curate_mol = Chem.RemoveHs(mol_with_h)\n",
    "            # Return the molecule with added hydrogens\n",
    "            return curate_mol\n",
    "\n",
    "    @staticmethod\n",
    "    def fit(reaction_dict, params=None):\n",
    "        \"\"\"\n",
    "        Process a reaction dictionary to find MCS, missing parts in reactants and products.\n",
    "\n",
    "        Parameters:\n",
    "        - reaction_dict: dict\n",
    "            A dictionary containing 'reactants' and 'products' as keys.\n",
    "\n",
    "        Returns:\n",
    "        - tuple\n",
    "            A tuple containing lists of MCS, missing parts in reactants, missing parts in products,\n",
    "            reactant molecules, and product molecules.\n",
    "        \"\"\"\n",
    "        reactant_smiles, product_smiles = MCSMissingGraphAnalyzer.get_smiles(reaction_dict)\n",
    "        reactant_mol_list = [MCSMissingGraphAnalyzer.convert_smiles_to_molecule(smiles) for smiles in reactant_smiles.split('.')]\n",
    "        product_mol = MCSMissingGraphAnalyzer.convert_smiles_to_molecule(product_smiles)\n",
    "\n",
    "        mcs_list, sorted_reactants = MCSMissingGraphAnalyzer.IterativeMCSReactionPairs(reactant_mol_list, product_mol,  params)\n",
    "\n",
    "        return mcs_list , sorted_reactants, product_mol"
   ]
  },
  {
   "cell_type": "code",
   "execution_count": 6,
   "metadata": {},
   "outputs": [],
   "source": [
    "from rdkit import Chem\n",
    "def find_missing_parts_pairs(mol_list, mcs_list):\n",
    "    \"\"\"\n",
    "    This function analyzes each molecule in a given list and identifies the parts that are not \n",
    "    present in the corresponding Maximum Common Substructure (MCS). It also finds the boundary \n",
    "    atoms and nearest neighbors for each molecule.\n",
    "\n",
    "    Parameters:\n",
    "    - mol_list (list of rdkit.Chem.Mol): The list of RDKit molecule objects to analyze.\n",
    "    - mcs_list (list of rdkit.Chem.Mol): List of RDKit molecule objects representing MCS, \n",
    "    corresponding to each molecule in mol_list.\n",
    "\n",
    "    Returns:\n",
    "    Tuple containing:\n",
    "    - list of rdkit.Chem.Mol or None: RDKit molecule objects representing the missing parts \n",
    "    of each molecule, or None if no missing parts are found.\n",
    "    - list of lists: Each sublist contains the boundary atoms of the corresponding molecule.\n",
    "    - list of lists: Each sublist contains the nearest neighbors of the corresponding molecule.\n",
    "    \"\"\"\n",
    "    missing_parts_list = []\n",
    "    boundary_atoms_lists = []\n",
    "    nearest_neighbor_lists = []\n",
    "\n",
    "    for mol, mcs_mol in zip(mol_list, mcs_list):\n",
    "        atoms_to_remove = set()\n",
    "        boundary_atoms_list = []\n",
    "        nearest_neighbor_list = []\n",
    "\n",
    "        if mcs_mol:\n",
    "            # Special case handling (e.g., single oxygen atom)\n",
    "            if Chem.MolToSmiles(mcs_mol) == 'O':\n",
    "                smarts_pattern = '[OH]'\n",
    "                smarts_mol = Chem.MolFromSmarts(smarts_pattern)\n",
    "                substructure_match = mol.GetSubstructMatch(smarts_mol)\n",
    "                rw_mol = Chem.RWMol(mol)\n",
    "                rw_mol.RemoveAtom(substructure_match[0])\n",
    "                missing_part = rw_mol.GetMol()\n",
    "                boundary_atoms = [{'O': 0}]\n",
    "                nearest_atoms = [{'O': 0}]\n",
    "            else:\n",
    "                # Finding substructure matches\n",
    "                substructure_match = mol.GetSubstructMatch(mcs_mol)\n",
    "                if substructure_match:\n",
    "                    atoms_to_remove.update(substructure_match)\n",
    "\n",
    "                # Creating the molecule of missing parts\n",
    "                missing_part = Chem.RWMol(mol)\n",
    "                for idx in sorted(atoms_to_remove, reverse=True):\n",
    "                    missing_part.RemoveAtom(idx)\n",
    "\n",
    "                # Mapping indices from original to missing part molecule\n",
    "                index_mapping = {idx: i for i, idx in enumerate(sorted(set(range(mol.GetNumAtoms())) - atoms_to_remove))}\n",
    "\n",
    "                boundary_atoms = []\n",
    "                nearest_atoms = []\n",
    "\n",
    "                # Identifying boundary atoms and nearest neighbors\n",
    "                for atom_idx in substructure_match:\n",
    "                    if atom_idx < mol.GetNumAtoms():\n",
    "                        atom_symbol = mol.GetAtomWithIdx(atom_idx).GetSymbol()\n",
    "                        neighbors = mol.GetAtomWithIdx(atom_idx).GetNeighbors()\n",
    "                        # Loop through neighbors to find boundary atoms and nearest neighbors\n",
    "                        for neighbor in neighbors:\n",
    "                            if neighbor.GetIdx() not in substructure_match:\n",
    "                                nearest_atoms.append({atom_symbol: atom_idx})\n",
    "                                renumerate_idx = index_mapping.get(neighbor.GetIdx(), -1)\n",
    "                                if renumerate_idx != -1:\n",
    "                                    boundary_atoms.append({neighbor.GetSymbol(): renumerate_idx})\n",
    "\n",
    "            if boundary_atoms:\n",
    "                boundary_atoms_list.append(boundary_atoms)\n",
    "            if nearest_atoms:\n",
    "                nearest_neighbor_list.append(nearest_atoms)\n",
    "\n",
    "        try:\n",
    "            Chem.SanitizeMol(missing_part)\n",
    "            if missing_part.GetNumAtoms() > 0:\n",
    "                missing_parts_list.append(missing_part)\n",
    "                boundary_atoms_lists.extend(boundary_atoms_list)\n",
    "                nearest_neighbor_lists.extend(nearest_neighbor_list)\n",
    "            else:\n",
    "                #missing_parts_list.append(None)\n",
    "                boundary_atoms_lists.extend([])\n",
    "                nearest_neighbor_lists.extend([])\n",
    "        except:\n",
    "            #missing_parts_list.append(None)\n",
    "            boundary_atoms_lists.extend([])\n",
    "            nearest_neighbor_lists.extend([])\n",
    "\n",
    "    return missing_parts_list, boundary_atoms_lists, nearest_neighbor_lists"
   ]
  },
  {
   "cell_type": "code",
   "execution_count": 34,
   "metadata": {},
   "outputs": [],
   "source": [
    "from rdkit.Chem import AllChem, rdChemReactions\n",
    "#from SynRBL.SynMCS.mcs_missing_graph_analyzer import MCSMissingGraphAnalyzer\n",
    "from SynRBL.SynMCS.find_missing_graphs import find_missing_parts_pairs\n",
    "\n",
    "def display_reaction(reaction_dict, reaction_key='reactions', use_smiles=True):\n",
    "    \"\"\"\n",
    "    Displays a chemical reaction using RDKit.\n",
    "\n",
    "    Parameters:\n",
    "    - reaction_dict: A dictionary containing reaction data.\n",
    "    - reaction_key: Key to access reaction information in the dictionary.\n",
    "    - use_smiles: Whether to use SMILES format for the reaction.\n",
    "    \"\"\"\n",
    "    return rdChemReactions.ReactionFromSmarts(reaction_dict[reaction_key], useSmiles=use_smiles)\n",
    "\n"
   ]
  },
  {
   "cell_type": "code",
   "execution_count": 35,
   "metadata": {},
   "outputs": [],
   "source": [
    "def single_impute(data_dict, params=None):\n",
    "    \"\"\"\n",
    "    Performs imputation on a single reaction data entry and captures any issues encountered.\n",
    "\n",
    "    Parameters:\n",
    "    - data_dict: Dict containing reaction data.\n",
    "    - params: Optional parameters for MCS analysis.\n",
    "\n",
    "    Returns:\n",
    "    - dict: A dictionary containing imputation results and any issues encountered.\n",
    "    \"\"\"\n",
    "    from rdkit import Chem\n",
    "    from SynRBL.SynMCS.mcs_missing_graph_analyzer import MCSMissingGraphAnalyzer\n",
    "    from SynRBL.SynMCS.find_missing_graphs import find_missing_parts_pairs\n",
    "\n",
    "    impute_dict = {'impute_product_smiles': [], 'boundary_atoms_products': [], 'nearest_neighbor_products': [], 'issue': []}\n",
    "\n",
    "    try:\n",
    "        analyzer = MCSMissingGraphAnalyzer()\n",
    "        mcs_list, sorted_reactants, product_mol = analyzer.fit(data_dict, params=params)\n",
    "        impute_product_frags, boundary_atoms_products, nearest_neighbor_products = find_missing_parts_pairs(sorted_reactants, mcs_list)\n",
    "        impute_product_smiles = [Chem.MolToSmiles(impute_product) for impute_product in impute_product_frags]\n",
    "\n",
    "        impute_dict['impute_product_smiles'] = impute_product_smiles\n",
    "        impute_dict['boundary_atoms_products'] = boundary_atoms_products\n",
    "        impute_dict['nearest_neighbor_products'] = nearest_neighbor_products\n",
    "\n",
    "    except Exception as e:\n",
    "        display_reaction(data_dict)\n",
    "        impute_dict['issue'] = data_dict\n",
    "\n",
    "    return impute_dict\n"
   ]
  },
  {
   "cell_type": "code",
   "execution_count": 36,
   "metadata": {},
   "outputs": [
    {
     "name": "stderr",
     "output_type": "stream",
     "text": [
      "[15:14:24] non-ring atom 2 marked aromatic\n"
     ]
    }
   ],
   "source": [
    "final = Parallel(n_jobs=8)(delayed(single_impute)(data_dict) for data_dict in filtered_data[100:300])"
   ]
  },
  {
   "cell_type": "code",
   "execution_count": 25,
   "metadata": {},
   "outputs": [
    {
     "name": "stderr",
     "output_type": "stream",
     "text": [
      "/var/folders/t0/4s7kmdv11y93hgspz_xf83jc0000gn/T/ipykernel_52575/3640427241.py:2: FutureWarning: DataFrame.applymap has been deprecated. Use DataFrame.map instead.\n",
      "  df = final.applymap(lambda x: np.nan if x == [] else x)\n"
     ]
    },
    {
     "data": {
      "text/html": [
       "<div>\n",
       "<style scoped>\n",
       "    .dataframe tbody tr th:only-of-type {\n",
       "        vertical-align: middle;\n",
       "    }\n",
       "\n",
       "    .dataframe tbody tr th {\n",
       "        vertical-align: top;\n",
       "    }\n",
       "\n",
       "    .dataframe thead th {\n",
       "        text-align: right;\n",
       "    }\n",
       "</style>\n",
       "<table border=\"1\" class=\"dataframe\">\n",
       "  <thead>\n",
       "    <tr style=\"text-align: right;\">\n",
       "      <th></th>\n",
       "      <th>impute_product_smiles</th>\n",
       "      <th>boundary_atoms_products</th>\n",
       "      <th>nearest_neighbor_products</th>\n",
       "      <th>issue</th>\n",
       "    </tr>\n",
       "  </thead>\n",
       "  <tbody>\n",
       "    <tr>\n",
       "      <th>0</th>\n",
       "      <td>[O=COCc1ccccc1]</td>\n",
       "      <td>[[{'C': 0}]]</td>\n",
       "      <td>[[{'N': 9}]]</td>\n",
       "      <td>NaN</td>\n",
       "    </tr>\n",
       "    <tr>\n",
       "      <th>1</th>\n",
       "      <td>[CC1(C)OBOC1(C)C, Br]</td>\n",
       "      <td>[[{'B': 4}], [{'Br': 0}]]</td>\n",
       "      <td>[[{'C': 5}], [{'C': 13}]]</td>\n",
       "      <td>NaN</td>\n",
       "    </tr>\n",
       "    <tr>\n",
       "      <th>2</th>\n",
       "      <td>[CC(C)C]</td>\n",
       "      <td>[[{'C': 1}]]</td>\n",
       "      <td>[[{'O': 4}]]</td>\n",
       "      <td>NaN</td>\n",
       "    </tr>\n",
       "    <tr>\n",
       "      <th>3</th>\n",
       "      <td>[COc1ccc(C)cc1]</td>\n",
       "      <td>[[{'C': 0}]]</td>\n",
       "      <td>[[{'N': 8}]]</td>\n",
       "      <td>NaN</td>\n",
       "    </tr>\n",
       "    <tr>\n",
       "      <th>4</th>\n",
       "      <td>[C]</td>\n",
       "      <td>[[{'C': 0}]]</td>\n",
       "      <td>[[{'O': 1}]]</td>\n",
       "      <td>NaN</td>\n",
       "    </tr>\n",
       "  </tbody>\n",
       "</table>\n",
       "</div>"
      ],
      "text/plain": [
       "   impute_product_smiles    boundary_atoms_products  \\\n",
       "0        [O=COCc1ccccc1]               [[{'C': 0}]]   \n",
       "1  [CC1(C)OBOC1(C)C, Br]  [[{'B': 4}], [{'Br': 0}]]   \n",
       "2               [CC(C)C]               [[{'C': 1}]]   \n",
       "3        [COc1ccc(C)cc1]               [[{'C': 0}]]   \n",
       "4                    [C]               [[{'C': 0}]]   \n",
       "\n",
       "   nearest_neighbor_products  issue  \n",
       "0               [[{'N': 9}]]    NaN  \n",
       "1  [[{'C': 5}], [{'C': 13}]]    NaN  \n",
       "2               [[{'O': 4}]]    NaN  \n",
       "3               [[{'N': 8}]]    NaN  \n",
       "4               [[{'O': 1}]]    NaN  "
      ]
     },
     "metadata": {},
     "output_type": "display_data"
    }
   ],
   "source": [
    "final = pd.DataFrame(final)\n",
    "df = final.applymap(lambda x: np.nan if x == [] else x)\n",
    "\n",
    "# Display the DataFrame\n",
    "display(df.head())"
   ]
  },
  {
   "cell_type": "code",
   "execution_count": 29,
   "metadata": {},
   "outputs": [
    {
     "data": {
      "text/plain": [
       "0"
      ]
     },
     "execution_count": 29,
     "metadata": {},
     "output_type": "execute_result"
    }
   ],
   "source": [
    "df['impute_product_smiles'].isnull().sum()"
   ]
  },
  {
   "cell_type": "code",
   "execution_count": 7,
   "metadata": {},
   "outputs": [
    {
     "data": {
      "image/png": "[encoded data removed]",
      "text/plain": [
       "<rdkit.Chem.rdChemReactions.ChemicalReaction at 0x1661b4430>"
      ]
     },
     "metadata": {},
     "output_type": "display_data"
    },
    {
     "data": {
      "image/png": "[encoded data removed]",
      "text/plain": [
       "<rdkit.Chem.rdchem.RWMol at 0x16618d400>"
      ]
     },
     "metadata": {},
     "output_type": "display_data"
    },
    {
     "name": "stdout",
     "output_type": "stream",
     "text": [
      "Boundary list for fragment 0 : [{'O': 0}]\n",
      "Nearest neighbor list for fragment 0 : [{'C': 1}]\n"
     ]
    },
    {
     "data": {
      "image/png": "[encoded data removed]",
      "text/plain": [
       "<rdkit.Chem.rdchem.RWMol at 0x10805dbd0>"
      ]
     },
     "metadata": {},
     "output_type": "display_data"
    },
    {
     "name": "stdout",
     "output_type": "stream",
     "text": [
      "Boundary list for fragment 1 : [{'P': 3}]\n",
      "Nearest neighbor list for fragment 1 : [{'C': 4}]\n"
     ]
    },
    {
     "data": {
      "image/png": "[encoded data removed]",
      "text/plain": [
       "<rdkit.Chem.rdChemReactions.ChemicalReaction at 0x166569270>"
      ]
     },
     "metadata": {},
     "output_type": "display_data"
    },
    {
     "data": {
      "image/png": "[encoded data removed]",
      "text/plain": [
       "<rdkit.Chem.rdchem.RWMol at 0x16619af40>"
      ]
     },
     "metadata": {},
     "output_type": "display_data"
    },
    {
     "name": "stdout",
     "output_type": "stream",
     "text": [
      "Boundary list for fragment 0 : [{'C': 1}]\n",
      "Nearest neighbor list for fragment 0 : [{'N': 2}]\n"
     ]
    }
   ],
   "source": []
  },
  {
   "cell_type": "code",
   "execution_count": null,
   "metadata": {},
   "outputs": [],
   "source": [
    "Fail = [8]\n",
    "\n",
    "rare = [13]"
   ]
  }
 ],
 "metadata": {
  "kernelspec": {
   "display_name": "SynRBL",
   "language": "python",
   "name": "python3"
  },
  "language_info": {
   "codemirror_mode": {
    "name": "ipython",
    "version": 3
   },
   "file_extension": ".py",
   "mimetype": "text/x-python",
   "name": "python",
   "nbconvert_exporter": "python",
   "pygments_lexer": "ipython3",
   "version": "3.9.18"
  }
 },
 "nbformat": 4,
 "nbformat_minor": 2
}
