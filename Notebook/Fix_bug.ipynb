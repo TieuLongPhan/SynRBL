{
 "cells": [
  {
   "cell_type": "markdown",
   "metadata": {},
   "source": [
    "# 1. Parallel SMILESStandardizer"
   ]
  },
  {
   "cell_type": "code",
   "execution_count": 1,
   "metadata": {},
   "outputs": [],
   "source": [
    "import sys\n",
    "sys.path.append('../')\n",
    "from SynRBL.rsmi_utils import load_database\n",
    "reactions = load_database('../Data/reaction.json.gz')\n",
    "reactions = reactions[:100]\n",
    "from SynRBL.SynCleaning import SMILESStandardizer"
   ]
  },
  {
   "cell_type": "code",
   "execution_count": 2,
   "metadata": {},
   "outputs": [
    {
     "name": "stderr",
     "output_type": "stream",
     "text": [
      "[Parallel(n_jobs=4)]: Using backend LokyBackend with 4 concurrent workers.\n"
     ]
    },
    {
     "name": "stderr",
     "output_type": "stream",
     "text": [
      "[15:54:53] \n",
      "\n",
      "****\n",
      "Pre-condition Violation\n",
      "RingInfo not initialized\n",
      "Violation occurred on line 39 in file /Users/runner/work/rdkit-pypi/rdkit-pypi/build/temp.macosx-11.0-arm64-cpython-39/rdkit/Code/GraphMol/RingInfo.cpp\n",
      "Failed Expression: df_init\n",
      "****\n",
      "\n",
      "[15:54:54] \n",
      "\n",
      "****\n",
      "Pre-condition Violation\n",
      "RingInfo not initialized\n",
      "Violation occurred on line 52 in file /Users/runner/work/rdkit-pypi/rdkit-pypi/build/temp.macosx-11.0-arm64-cpython-39/rdkit/Code/GraphMol/RingInfo.cpp\n",
      "Failed Expression: df_init\n",
      "****\n",
      "\n",
      "[Parallel(n_jobs=4)]: Done  68 tasks      | elapsed:    1.5s\n",
      "Tautomer enumeration stopped at maximum 1000\n",
      "[Parallel(n_jobs=4)]: Done  93 out of 100 | elapsed:    2.6s remaining:    0.2s\n",
      "Tautomer enumeration stopped at maximum 1000\n",
      "[Parallel(n_jobs=4)]: Done 100 out of 100 | elapsed:    8.6s finished\n",
      "[Parallel(n_jobs=4)]: Using backend LokyBackend with 4 concurrent workers.\n",
      "Tautomer enumeration stopped at maximum 1000\n",
      "Tautomer enumeration stopped at maximum 1000\n",
      "[Parallel(n_jobs=4)]: Done 100 out of 100 | elapsed:    8.1s finished\n"
     ]
    }
   ],
   "source": [
    "standardize = SMILESStandardizer()\n",
    "reactions_clean=standardize.standardize_dict_smiles(reactions,keys = ['reactants', 'products'], keep_mol=False)"
   ]
  },
  {
   "cell_type": "code",
   "execution_count": null,
   "metadata": {},
   "outputs": [],
   "source": []
  }
 ],
 "metadata": {
  "kernelspec": {
   "display_name": "SynRBL",
   "language": "python",
   "name": "python3"
  },
  "language_info": {
   "codemirror_mode": {
    "name": "ipython",
    "version": 3
   },
   "file_extension": ".py",
   "mimetype": "text/x-python",
   "name": "python",
   "nbconvert_exporter": "python",
   "pygments_lexer": "ipython3",
   "version": "3.9.18"
  }
 },
 "nbformat": 4,
 "nbformat_minor": 2
}
